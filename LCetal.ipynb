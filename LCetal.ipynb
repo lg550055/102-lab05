{
  "cells": [
    {
      "cell_type": "code",
      "source": [
        "# implementation of list merge for merge sort algo\n",
        "def merge(l1, l2):\n",
        "    p1 = p2 = 0\n",
        "    r = []\n",
        "    while p1 < len(l1) and p2 < len(l2):\n",
        "        if l1[p1] < l2[p2]:\n",
        "            r.append(l1[p1])\n",
        "            p1 += 1\n",
        "        else:\n",
        "            r.append(l2[p2])\n",
        "            p2 += 1\n",
        "    r += l1[p1:]\n",
        "    r += l2[p2:]\n",
        "    return r\n",
        "\n",
        "# tests\n",
        "# l1, l2 = [1], [2] # [1,2]\n",
        "# l1, l2 = [1,3], [2] # [1,2,3]\n",
        "# l1, l2 = [1], [2,3] # [1,2,3,3]\n",
        "# l1, l2 = [1,3], [2,3] # [1,2,3,3]\n",
        "# l1, l2 = [1,3], [2,4] # [1,2,3,4]\n",
        "l1, l2 = [1,3,5,19,20,22], [2,4,8,15] # [1,2,3,4,5,8,15,19,20,22]\n",
        "merge(l1, l2)"
      ],
      "metadata": {
        "colab": {
          "base_uri": "https://localhost:8080/"
        },
        "id": "80np6u2M__ZP",
        "outputId": "a123763f-5d54-45a8-f6ed-b8d19491a2ec"
      },
      "execution_count": null,
      "outputs": [
        {
          "output_type": "execute_result",
          "data": {
            "text/plain": [
              "[1, 2, 3, 4, 5, 8, 15, 19, 20, 22]"
            ]
          },
          "metadata": {},
          "execution_count": 8
        }
      ]
    },
    {
      "cell_type": "code",
      "source": [
        "# Merge sort implementation, recursive\n",
        "def mSort(nums):\n",
        "  ln = len(nums)\n",
        "  if ln == 1:\n",
        "    return nums\n",
        "  m = ln//2\n",
        "  left = mSort(nums[:m])\n",
        "  right = mSort(nums[m:])\n",
        "  return merge(left,right)\n",
        "\n",
        "# tests\n",
        "n = [5,2,3,1] # [1,2,3,5]\n",
        "n = [22,20,8,4,15,3,5,19,2,1] # [1,2,3,4,5,8,15,19,20,22]\n",
        "mSort(n)"
      ],
      "metadata": {
        "colab": {
          "base_uri": "https://localhost:8080/"
        },
        "id": "7HowFrIe_4_9",
        "outputId": "a37de0ca-2cc7-4b6d-ce0e-cd26a50de9de"
      },
      "execution_count": null,
      "outputs": [
        {
          "output_type": "execute_result",
          "data": {
            "text/plain": [
              "[1, 2, 3, 4, 5, 8, 15, 19, 20, 22]"
            ]
          },
          "metadata": {},
          "execution_count": 11
        }
      ]
    },
    {
      "cell_type": "code",
      "execution_count": null,
      "metadata": {
        "id": "VDbGKUzujnuA"
      },
      "outputs": [],
      "source": [
        "def bup(r,c): # better unique paths from (1,1) to (r,c)\n",
        "  if r==1 or c==1:\n",
        "    return 1\n",
        "  return bup(r-1, c) + bup(r, c-1)\n",
        "\n",
        "bup(3,5)"
      ]
    },
    {
      "cell_type": "markdown",
      "metadata": {
        "id": "F4pS6icGUbAi"
      },
      "source": [
        "### Leetcode (LC)"
      ]
    },
    {
      "cell_type": "code",
      "source": [
        "# LC Rotting Oranges\n",
        "def orangesRotting(grid) -> int:\n",
        "    rows = len(grid)\n",
        "    cols = len(grid[0])\n",
        "    ct = 0\n",
        "    twos = [(i,j) for i in range(rows) for j in range(cols) if grid[i][j] == 2]\n",
        "    t = []\n",
        "    v = []\n",
        "    while ct < 4:\n",
        "      print(twos)\n",
        "      for i in range(len(twos)-1,-1,-1):\n",
        "          r = twos[i][0]\n",
        "          c = twos[i][1]\n",
        "          if r > 0 and grid[r-1][c] == 1:\n",
        "            t.append((r-1, c))\n",
        "          if c < cols-1 and grid[r][c+1] == 1:\n",
        "            t.append((r, c+1))\n",
        "          if r < rows-1 and grid[r+1][c] == 1:\n",
        "            t.append((r+1, c))\n",
        "          if c > 0 and grid[r][c-1] == 1:\n",
        "            t.append((r, c-1))\n",
        "          v.append(twos.pop())\n",
        "          print(twos)\n",
        "      for e in t:\n",
        "        grid[e[0]][e[1]] = 2\n",
        "        twos.append((e[0],e[1]))\n",
        "      ct += 1\n",
        "    \n",
        "    return ct\n",
        "\n",
        "# tests\n",
        "g = [[2,1,1],[1,1,0],[0,1,1]] # 4\n",
        "# g = [[2,1,1],[0,1,1],[1,0,1]] # -1\n",
        "orangesRotting(g)"
      ],
      "metadata": {
        "colab": {
          "base_uri": "https://localhost:8080/"
        },
        "id": "Khq6LewsHwGy",
        "outputId": "ebd2efee-5846-4d3a-c498-689ba85d58d3"
      },
      "execution_count": null,
      "outputs": [
        {
          "output_type": "stream",
          "name": "stdout",
          "text": [
            "[(0, 0)]\n",
            "[]\n",
            "[(0, 1), (1, 0)]\n",
            "[(0, 1)]\n",
            "[]\n",
            "[(0, 1), (1, 0), (1, 1), (0, 2), (1, 1)]\n",
            "[(0, 1), (1, 0), (1, 1), (0, 2)]\n",
            "[(0, 1), (1, 0), (1, 1)]\n",
            "[(0, 1), (1, 0)]\n",
            "[(0, 1)]\n",
            "[]\n",
            "[(0, 1), (1, 0), (1, 1), (0, 2), (1, 1), (2, 1), (2, 1)]\n",
            "[(0, 1), (1, 0), (1, 1), (0, 2), (1, 1), (2, 1)]\n",
            "[(0, 1), (1, 0), (1, 1), (0, 2), (1, 1)]\n",
            "[(0, 1), (1, 0), (1, 1), (0, 2)]\n",
            "[(0, 1), (1, 0), (1, 1)]\n",
            "[(0, 1), (1, 0)]\n",
            "[(0, 1)]\n",
            "[]\n"
          ]
        },
        {
          "output_type": "execute_result",
          "data": {
            "text/plain": [
              "4"
            ]
          },
          "metadata": {},
          "execution_count": 8
        }
      ]
    },
    {
      "cell_type": "code",
      "source": [
        "# LC Search a 2D Matrix\n",
        "# works, but slow and slightly less than avg memory\n",
        "def searchMatrix(matrix, target) -> bool:\n",
        "    r = len(matrix)\n",
        "    c = len(matrix[0])\n",
        "    #find row with binary search\n",
        "    l = -1\n",
        "    h = r\n",
        "    cr = r // 2\n",
        "    while True:\n",
        "      if matrix[cr][0] <= target <= matrix[cr][c-1]:\n",
        "        if matrix[cr][0] == target: return True\n",
        "        if matrix[cr][c-1] == target: return True\n",
        "        break\n",
        "      if target < matrix[cr][0]:\n",
        "        h = cr\n",
        "        cr = (max(0,l) + cr) // 2\n",
        "      else:\n",
        "        l = cr\n",
        "        cr = (cr + h) // 2\n",
        "      if cr == l or cr == h: return False\n",
        "    #find col with binary search\n",
        "    l = 0\n",
        "    h = c-1\n",
        "    cc = c // 2\n",
        "    while True:\n",
        "      if matrix[cr][cc] == target:\n",
        "        return True\n",
        "      if target < matrix[cr][cc]:\n",
        "        h = cc\n",
        "        cc = (l + cc) // 2\n",
        "      else:\n",
        "        l = cc\n",
        "        cc = (cc + h) // 2\n",
        "      if cc == h or cc == l: return False\n",
        "\n",
        "# tests\n",
        "# m, t = [[1,3,5,7],[10,11,16,20],[23,30,34,60]], 1 # T\n",
        "# m, t = [[1],[3]], 2 # F\n",
        "# m, t = [[1]], 2 # F\n",
        "m, t = [[-10,-8],[-6,-5],[-2,-2],[-1,0],[3,4],[7,7],[8,9],[10,10],[11,11],[12,14],[15,16],[17,19],[20,21],[22,22],[25,27],[28,30],[32,32],[35,36]], -10 # T\n",
        "searchMatrix(m, t)"
      ],
      "metadata": {
        "id": "uW0Bji6RKtuh",
        "colab": {
          "base_uri": "https://localhost:8080/"
        },
        "outputId": "43ec70f6-f89c-4832-e4a7-8493111f07f3"
      },
      "execution_count": null,
      "outputs": [
        {
          "output_type": "execute_result",
          "data": {
            "text/plain": [
              "True"
            ]
          },
          "metadata": {},
          "execution_count": 64
        }
      ]
    },
    {
      "cell_type": "code",
      "source": [
        "# LC Search a 2D Matrix -refactored to use flattend matrix\n",
        "# a little faster, same memory ranking\n",
        "\n",
        "def searchMatrix(matrix, target) -> bool:\n",
        "  flat = []\n",
        "  for l in matrix:\n",
        "    flat += l\n",
        "  l = 0\n",
        "  h = len(flat) -1\n",
        "  if flat[0] == target or flat[h] == target: return True\n",
        "  c = h // 2\n",
        "  while True:\n",
        "    if flat[c] == target:\n",
        "      return True\n",
        "    if target < flat[c]:\n",
        "      h = c\n",
        "      c = (l + c) // 2\n",
        "    else:\n",
        "      l = c\n",
        "      c = (c + h) // 2\n",
        "    if c == l or c == h: return False\n",
        "\n",
        "# tests\n",
        "m, t = [[1,3,5,7],[10,11,16,20],[23,30,34,60]], 20 # T\n",
        "# m, t = [[1],[3]], 2 # F\n",
        "# m, t = [[1]], 2 # F\n",
        "# m, t = [[-10,-8],[-6,-5],[-2,-2],[-1,0],[3,4],[7,7],[8,9],[10,10],[11,11],[12,14],[15,16],[17,19],[20,21],[22,22],[25,27],[28,30],[32,32],[35,36]], 15 # T\n",
        "searchMatrix(m, t)"
      ],
      "metadata": {
        "colab": {
          "base_uri": "https://localhost:8080/"
        },
        "id": "FnTyWeHOEnjU",
        "outputId": "97cd380f-fa8a-4f84-d1cb-53e5870c0660"
      },
      "execution_count": null,
      "outputs": [
        {
          "output_type": "execute_result",
          "data": {
            "text/plain": [
              "True"
            ]
          },
          "metadata": {},
          "execution_count": 104
        }
      ]
    },
    {
      "cell_type": "code",
      "source": [
        "# LC 4. Median of Two Sorted Arrays\n",
        "# t 85%, m 96% -even though it does not meet the spec O(log (m+n))\n",
        "def findMedianSortedArrays(self, nums1: List[int], nums2: List[int]) -> float:\n",
        "    n = sorted(nums1 + nums2)\n",
        "    l = len(n)\n",
        "    if l% 2:\n",
        "        return n[l//2]\n",
        "    else:\n",
        "        return (n[l//2]+n[l//2-1])/2"
      ],
      "metadata": {
        "id": "H0L25nmWpP8T"
      },
      "execution_count": null,
      "outputs": []
    },
    {
      "cell_type": "code",
      "source": [
        "# LC 14. Longest Common Prefix\n",
        "def longestCommonPrefix(strs) -> str:\n",
        "    result = ''\n",
        "    ltr = True\n",
        "    for i in range(len(strs[0])):\n",
        "        for w in strs:\n",
        "            ltr = len(w)>i and ltr and w[i] == strs[0][i]\n",
        "        if ltr:\n",
        "            result += strs[0][i]\n",
        "    return result"
      ],
      "metadata": {
        "id": "iq2usdosfbnL"
      },
      "execution_count": null,
      "outputs": []
    },
    {
      "cell_type": "code",
      "source": [
        "# LC 42. Trapping Rain Water\n",
        "# avg time and memory\n",
        "def trap(height):\n",
        "  n = len(height)\n",
        "  t = 0\n",
        "  cl = l = 0\n",
        "  c = r = n-1\n",
        "  while l+1 < r:\n",
        "    if height[l] < height[r]:\n",
        "      cl = max(l+1, cl)\n",
        "      if height[cl] < height[l]:\n",
        "        t += height[l] - height[cl]\n",
        "        cl += 1\n",
        "      else:\n",
        "        l = cl\n",
        "    else:\n",
        "      c = min(c, r-1)\n",
        "      if height[c] < height[r]:\n",
        "        t += height[r] - height[c]\n",
        "        c -= 1\n",
        "      else:\n",
        "        r = c\n",
        "  return t\n",
        "\n",
        "#tests\n",
        "# h = [2,0,1] # 1\n",
        "h = [0,1,0,2,1,0,1,3,2,1,2,1] # 6\n",
        "# h = [4,2,0,3,2,5] # 9\n",
        "trap(h)"
      ],
      "metadata": {
        "colab": {
          "base_uri": "https://localhost:8080/"
        },
        "id": "hiV47wHOaLLZ",
        "outputId": "d86970af-7b50-43f6-bd34-8ead791c32d6"
      },
      "execution_count": null,
      "outputs": [
        {
          "output_type": "execute_result",
          "data": {
            "text/plain": [
              "6"
            ]
          },
          "metadata": {},
          "execution_count": 12
        }
      ]
    },
    {
      "cell_type": "code",
      "source": [
        "# LC 125. Valid Palindrome\n",
        "def isPalindrome(s):\n",
        "  l = [ch.lower() for ch in s if ch.isalnum()]\n",
        "  for i in range(len(l)//2):\n",
        "    if l[i] != l[-i-1]:\n",
        "      return False\n",
        "  return True\n",
        "  \n",
        "# tests\n",
        "# s = \"A man, a plan, a canal: Panama\" # true\n",
        "# s = \"race a car\" # false\n",
        "s = \" \" # true\n",
        "isPalindrome(s)"
      ],
      "metadata": {
        "id": "_T8nogXCe1Wp"
      },
      "execution_count": null,
      "outputs": []
    },
    {
      "cell_type": "code",
      "source": [
        "# LC 199. Binary Tree Right Side View\n",
        "# works but slow, too much memory\n",
        "def rightSideView(self, root: Optional[TreeNode]) -> List[int]:\n",
        "  r = []\n",
        "  if not root: return r\n",
        "  q = [root]\n",
        "  t = []\n",
        "  while q:\n",
        "    r.append(q[-1].val)\n",
        "    while q:\n",
        "      t.append(q.pop())\n",
        "    while t:\n",
        "      e = t.pop()\n",
        "      if e.left:\n",
        "        q.append(e.left)\n",
        "      if e.right:\n",
        "        q.append(e.right)\n",
        "\n",
        "  return r"
      ],
      "metadata": {
        "id": "1rUFADa3ogOn"
      },
      "execution_count": null,
      "outputs": []
    },
    {
      "cell_type": "code",
      "source": [
        "# LC 200. Number of Islands\n",
        "# passes, but is slow and uses too much memory\n",
        "def numIslands(grid):\n",
        "  rows = len(grid)\n",
        "  cols = len(grid[0])\n",
        "  v = set()\n",
        "  result = 0\n",
        "  for i in range(rows):\n",
        "    for j in range(cols):\n",
        "      if f'{i},{j}' not in v:\n",
        "        v.add(f'{i},{j}')\n",
        "        if grid[i][j] == '1':\n",
        "          result += 1\n",
        "          q = [(i,j)]\n",
        "          while q:\n",
        "            cur = q.pop()\n",
        "            r = cur[0]\n",
        "            c = cur[1]\n",
        "            if f'{r},{c}' not in v:\n",
        "              v.add(f'{r},{c}')\n",
        "            if c+1 < cols and grid[r][c+1] == '1' and f'{r},{c+1}' not in v and (r,c+1) not in q: # right\n",
        "              q.append((r,c+1))\n",
        "            if r+1 < rows and grid[r+1][c] == '1' and f'{r+1},{c}' not in v and (r+1,c) not in q: # down\n",
        "              q.append((r+1,c))\n",
        "            if c-1 >= 0 and grid[r][c-1] == '1' and f'{r},{c-1}' not in v and (r,c-1) not in q: # left\n",
        "              q.append((r,c-1))\n",
        "            if r-1 >= 0 and grid[r-1][c] == '1' and f'{r-1},{c}' not in v and (r-1,c) not in q: # up\n",
        "              q.append((r-1,c))\n",
        "            # print('v',v)\n",
        "            # print('q',q)\n",
        "  return result\n",
        "\n",
        "# tests\n",
        "# g = [\n",
        "#   [\"1\",\"1\",\"1\",\"1\",\"0\"],\n",
        "#   [\"1\",\"1\",\"0\",\"1\",\"0\"],\n",
        "#   [\"1\",\"1\",\"0\",\"0\",\"0\"],\n",
        "#   [\"0\",\"0\",\"0\",\"0\",\"0\"]\n",
        "# ] # 1\n",
        "# g = [\n",
        "#   [\"1\",\"1\",\"0\",\"0\",\"0\"],\n",
        "#   [\"1\",\"1\",\"0\",\"0\",\"0\"],\n",
        "#   [\"0\",\"0\",\"1\",\"0\",\"0\"],\n",
        "#   [\"0\",\"0\",\"0\",\"1\",\"1\"]\n",
        "# ] # 3\n",
        "g = [[\"1\",\"0\",\"0\",\"1\",\"1\",\"1\",\"0\",\"1\",\"1\",\"0\",\"0\",\"0\",\"0\",\"0\",\"0\",\"0\",\"0\",\"0\",\"0\",\"0\"],[\"1\",\"0\",\"0\",\"1\",\"1\",\"0\",\"0\",\"1\",\"0\",\"0\",\"0\",\"1\",\"0\",\"1\",\"0\",\"1\",\"0\",\"0\",\"1\",\"0\"],[\"0\",\"0\",\"0\",\"1\",\"1\",\"1\",\"1\",\"0\",\"1\",\"0\",\"1\",\"1\",\"0\",\"0\",\"0\",\"0\",\"1\",\"0\",\"1\",\"0\"],[\"0\",\"0\",\"0\",\"1\",\"1\",\"0\",\"0\",\"1\",\"0\",\"0\",\"0\",\"1\",\"1\",\"1\",\"0\",\"0\",\"1\",\"0\",\"0\",\"1\"],[\"0\",\"0\",\"0\",\"0\",\"0\",\"0\",\"0\",\"1\",\"1\",\"1\",\"0\",\"0\",\"0\",\"0\",\"0\",\"0\",\"0\",\"0\",\"0\",\"0\"],[\"1\",\"0\",\"0\",\"0\",\"0\",\"1\",\"0\",\"1\",\"0\",\"1\",\"1\",\"0\",\"0\",\"0\",\"0\",\"0\",\"0\",\"1\",\"0\",\"1\"],[\"0\",\"0\",\"0\",\"1\",\"0\",\"0\",\"0\",\"1\",\"0\",\"1\",\"0\",\"1\",\"0\",\"1\",\"0\",\"1\",\"0\",\"1\",\"0\",\"1\"],[\"0\",\"0\",\"0\",\"1\",\"0\",\"1\",\"0\",\"0\",\"1\",\"1\",\"0\",\"1\",\"0\",\"1\",\"1\",\"0\",\"1\",\"1\",\"1\",\"0\"],[\"0\",\"0\",\"0\",\"0\",\"1\",\"0\",\"0\",\"1\",\"1\",\"0\",\"0\",\"0\",\"0\",\"1\",\"0\",\"0\",\"0\",\"1\",\"0\",\"1\"],[\"0\",\"0\",\"1\",\"0\",\"0\",\"1\",\"0\",\"0\",\"0\",\"0\",\"0\",\"1\",\"0\",\"0\",\"1\",\"0\",\"0\",\"0\",\"1\",\"0\"],[\"1\",\"0\",\"0\",\"1\",\"0\",\"0\",\"0\",\"0\",\"0\",\"0\",\"0\",\"1\",\"0\",\"0\",\"1\",\"0\",\"1\",\"0\",\"1\",\"0\"],[\"0\",\"1\",\"0\",\"0\",\"0\",\"1\",\"0\",\"1\",\"0\",\"1\",\"1\",\"0\",\"1\",\"1\",\"1\",\"0\",\"1\",\"1\",\"0\",\"0\"],[\"1\",\"1\",\"0\",\"1\",\"0\",\"0\",\"0\",\"0\",\"1\",\"0\",\"0\",\"0\",\"0\",\"0\",\"0\",\"1\",\"0\",\"0\",\"0\",\"1\"],[\"0\",\"1\",\"0\",\"0\",\"1\",\"1\",\"1\",\"0\",\"0\",\"0\",\"1\",\"1\",\"1\",\"1\",\"1\",\"0\",\"1\",\"0\",\"0\",\"0\"],[\"0\",\"0\",\"1\",\"1\",\"1\",\"0\",\"0\",\"0\",\"1\",\"1\",\"0\",\"0\",\"0\",\"1\",\"0\",\"1\",\"0\",\"0\",\"0\",\"0\"],[\"1\",\"0\",\"0\",\"1\",\"0\",\"1\",\"0\",\"0\",\"0\",\"0\",\"1\",\"0\",\"0\",\"0\",\"1\",\"0\",\"1\",\"0\",\"1\",\"1\"],[\"1\",\"0\",\"1\",\"0\",\"0\",\"0\",\"0\",\"0\",\"0\",\"1\",\"0\",\"0\",\"0\",\"1\",\"0\",\"1\",\"0\",\"0\",\"0\",\"0\"],[\"0\",\"1\",\"1\",\"0\",\"0\",\"0\",\"1\",\"1\",\"1\",\"0\",\"1\",\"0\",\"1\",\"0\",\"1\",\"1\",\"1\",\"1\",\"0\",\"0\"],[\"0\",\"1\",\"0\",\"0\",\"0\",\"0\",\"1\",\"1\",\"0\",\"0\",\"1\",\"0\",\"1\",\"0\",\"0\",\"1\",\"0\",\"0\",\"1\",\"1\"],[\"0\",\"0\",\"0\",\"0\",\"0\",\"0\",\"1\",\"1\",\"1\",\"1\",\"0\",\"1\",\"0\",\"0\",\"0\",\"1\",\"1\",\"0\",\"0\",\"0\"]]\n",
        "# 58\n",
        "numIslands(g)"
      ],
      "metadata": {
        "id": "n8wQUlKYfuZe"
      },
      "execution_count": null,
      "outputs": []
    },
    {
      "cell_type": "code",
      "source": [
        "# LC 213. House Robber II\n",
        "# faster than 70%, less memory than 71%\n",
        "def rob(nums):\n",
        "  n = len(nums)\n",
        "  if n <= 3:\n",
        "    return max(nums)\n",
        "  \n",
        "  def rs(p, c, b, e):\n",
        "    mt = 0\n",
        "    for i in range(b, e):\n",
        "      mt = max(c, nums[i]+p)\n",
        "      p, c = c, mt\n",
        "    return mt\n",
        "\n",
        "  cur = max(nums[0], nums[1])\n",
        "  s0 = rs(nums[0], cur, 2, n-1)\n",
        "  cur = max(nums[2], nums[1])\n",
        "  s1 = rs(nums[1], cur, 3, n)\n",
        "\n",
        "  return max(s0, s1)\n",
        "\n",
        "# tests\n",
        "# n = [2,3,2] # 3\n",
        "n = [2,1,1,3] # 4\n",
        "rob(n)"
      ],
      "metadata": {
        "colab": {
          "base_uri": "https://localhost:8080/"
        },
        "id": "bqhD8OZDYC03",
        "outputId": "9d243229-14e3-413d-8044-40072c676dae"
      },
      "execution_count": null,
      "outputs": [
        {
          "output_type": "execute_result",
          "data": {
            "text/plain": [
              "4"
            ]
          },
          "metadata": {},
          "execution_count": 24
        }
      ]
    },
    {
      "cell_type": "code",
      "source": [
        "# 322. Coin Change -ret min # coins to make change or -1\n",
        "# avg speed, well below avg on memory\n",
        "def coinChange(coins, amount):\n",
        "  \n",
        "  def chng(coins, a, memo={}):\n",
        "    if a in memo: return memo[a]\n",
        "    if a == 0: return []\n",
        "    if a < 0: return None\n",
        "\n",
        "    short = None\n",
        "\n",
        "    for c in coins:\n",
        "      rem = a - c\n",
        "      remChg = chng(coins, rem, memo)\n",
        "      if remChg is not None:\n",
        "        combo = remChg + [c]\n",
        "        if short == None or (len(combo) < len(short)):\n",
        "          short = combo\n",
        "    memo[a] = short\n",
        "    return short\n",
        "  \n",
        "  r = chng(coins, amount)\n",
        "  return -1 if r is None else len(r)\n",
        "\n",
        "# tests\n",
        "# c, a = [1,2,5], 11 # 3\n",
        "# c, a = [2], 3 # -1\n",
        "c, a = [1], 0 # 0\n",
        "coinChange(c, a)"
      ],
      "metadata": {
        "colab": {
          "base_uri": "https://localhost:8080/"
        },
        "id": "YIkFZaJzOncw",
        "outputId": "0d32092a-91c6-4fcf-87f7-5602e23b8945"
      },
      "execution_count": null,
      "outputs": [
        {
          "output_type": "execute_result",
          "data": {
            "text/plain": [
              "0"
            ]
          },
          "metadata": {},
          "execution_count": 11
        }
      ]
    },
    {
      "cell_type": "code",
      "source": [
        "# LC 345. Reverse Vowels of a String\n",
        "# Given a string s, reverse only all the vowels in the string and return it.\n",
        "def reverseVowels(s):\n",
        "  l = [ch for ch in s]\n",
        "  v = ['a','e','i','o','u','A','E','I','O','U']\n",
        "  j = len(l) - 1\n",
        "  for i in range(len(l)):\n",
        "    if i > j: break\n",
        "    if l[i] in v:\n",
        "      while j > i:\n",
        "        if l[j] in v:\n",
        "          break\n",
        "        j -= 1\n",
        "      if l[j] in v:\n",
        "        l[i], l[j] = l[j], l[i]\n",
        "        j -= 1\n",
        "  return ''.join(l)\n",
        "\n",
        "# tests\n",
        "# s = \"hello\" # \"holle\"\n",
        "# s = \"leetcode\" # \"leotcede\"\n",
        "# s = 'aA' # 'Aa'\n",
        "# s = 'ai' # 'ia'\n",
        "s = \"Marge, let's \\\"went.\\\" I await news telegram.\"\n",
        "#   \"Marge, let's \\\"went.\\\" i awaIt news telegram.\"\n",
        "reverseVowels(s)"
      ],
      "metadata": {
        "id": "cCATmwTQfIGi"
      },
      "execution_count": null,
      "outputs": []
    },
    {
      "cell_type": "code",
      "source": [
        "# LC 557. Reverse Words in a String III\n",
        "# top 28% speed, top 10% memory\n",
        "def reverseWords(s: str) -> str:\n",
        "  l = s.split()\n",
        "  for i in range(len(l)):\n",
        "    l[i] = l[i][::-1]\n",
        "  return ' '.join(l)\n",
        "\n",
        "# tests\n",
        "s = \"Let's take LeetCode contest\" # \"s'teL ekat edoCteeL tsetnoc\"\n",
        "# s = \"God Ding\" # \"doG gniD\"\n",
        "reverseWords(s)"
      ],
      "metadata": {
        "id": "W6-6qjg3ejOR"
      },
      "execution_count": null,
      "outputs": []
    },
    {
      "cell_type": "code",
      "source": [
        "# LC 724. Find Pivot Index\n",
        "# O(n) avg speed, avg memory O(1)\n",
        "def pivotIndex(nums) -> int:\n",
        "  lg = len(nums)\n",
        "  r = sum(nums) - nums[0]\n",
        "  l = 0\n",
        "  for i in range(lg-1):\n",
        "    if l == r: return i\n",
        "    l += nums[i]\n",
        "    r -= nums[i+1]\n",
        "  if l == r: return lg-1\n",
        "  return -1\n",
        "\n",
        "  # l = [0] * lg # works but slow, too much memory\n",
        "  # r = [0] * lg\n",
        "  # for i in range(1, lg):\n",
        "  #   l[i] = l[i-1] + nums[i-1]\n",
        "  #   r[-i-1] = r[-i] + nums[-i]\n",
        "  # for i in range(lg):\n",
        "  #   if l[i] == r[i]:\n",
        "  #     return i\n",
        "\n",
        "# tests\n",
        "n = [1,7,3,6,5,6] # 3\n",
        "# n = [1,2,3] # -1\n",
        "# n = [2,1,-1] # 0\n",
        "pivotIndex(n)"
      ],
      "metadata": {
        "colab": {
          "base_uri": "https://localhost:8080/"
        },
        "id": "6drxciT14SEn",
        "outputId": "902352c8-57d3-40a1-c3de-a605233cceed"
      },
      "execution_count": null,
      "outputs": [
        {
          "output_type": "execute_result",
          "data": {
            "text/plain": [
              "3"
            ]
          },
          "metadata": {},
          "execution_count": 20
        }
      ]
    },
    {
      "cell_type": "code",
      "source": [
        "# LC 838. Push Dominoes\n",
        "# very slow, better than avg memory\n",
        "def pushDominoes(dominoes):\n",
        "  n = len(dominoes)\n",
        "  if n == 1: return dominoes\n",
        "  while True:\n",
        "    t = ''\n",
        "    if dominoes[0] == '.' and dominoes[1] == 'L':\n",
        "      t += 'L'\n",
        "    else:\n",
        "      t += dominoes[0]\n",
        "    for i in range(1, n-1):\n",
        "      # print(t)\n",
        "      if dominoes[i] == '.':\n",
        "        if dominoes[i+1] == 'L' and dominoes[i-1] != 'R':\n",
        "          t += 'L'\n",
        "        elif dominoes[i+1] != 'L' and dominoes[i-1] == 'R':\n",
        "          t += 'R'\n",
        "        else:\n",
        "          t += '.'\n",
        "      else:\n",
        "        t += dominoes[i]\n",
        "    if dominoes[n-1] == '.' and dominoes[n-2] == 'R':\n",
        "      t += 'R'\n",
        "    else:\n",
        "      t += dominoes[n-1]\n",
        "    if t == dominoes: return t\n",
        "    dominoes = t\n",
        "\n",
        "# tests\n",
        "d = \"RR.L\" # \"RR.L\"\n",
        "# d = \".L.R...LR..L..\" # \"LL.RR.LLRRLL..\"\n",
        "pushDominoes(d)"
      ],
      "metadata": {
        "colab": {
          "base_uri": "https://localhost:8080/",
          "height": 38
        },
        "id": "ZqouaxNZPsGw",
        "outputId": "ef796910-53cb-4151-f206-49040de7df40"
      },
      "execution_count": 9,
      "outputs": [
        {
          "output_type": "execute_result",
          "data": {
            "text/plain": [
              "'RR.L'"
            ],
            "application/vnd.google.colaboratory.intrinsic+json": {
              "type": "string"
            }
          },
          "metadata": {},
          "execution_count": 9
        }
      ]
    },
    {
      "cell_type": "code",
      "source": [
        "# LC Unique Paths\n",
        "# memoized solution, slow -non-memoized does not pass\n",
        "def uniquePaths(self, m: int, n: int) -> int:\n",
        "    \n",
        "    def walk(y,x, memo={}):\n",
        "      if f'{y},{x}' in memo:\n",
        "        return memo[f'{y},{x}']\n",
        "      if y == m-1 or x == n-1:\n",
        "        return 1\n",
        "\n",
        "      memo[f'{y},{x}'] = walk(y+1,x,memo) + walk(y,x+1,memo)\n",
        "      return memo[f'{y},{x}']\n",
        "    \n",
        "    return walk(0,0)"
      ],
      "metadata": {
        "id": "BPfgvqJnz_TY"
      },
      "execution_count": null,
      "outputs": []
    },
    {
      "cell_type": "code",
      "source": [
        "# LC Minimum Path Sum -can only move down or right\n",
        "# works, but slow\n",
        "def minPathSum(grid):\n",
        "  m = len(grid)\n",
        "  n = len(grid[0])\n",
        "\n",
        "  def walk(y,x, memo={}):\n",
        "    if f'{y},{x}' in memo:\n",
        "      return memo[f'{y},{x}']\n",
        "    if y == m-1 and x == n-1:\n",
        "      return grid[m-1][n-1]\n",
        "    p = grid[y][x]\n",
        "    if y == m-1:\n",
        "      memo[f'{y},{x}'] = p + walk(y, x+1, memo)\n",
        "      return memo[f'{y},{x}']\n",
        "    elif x == n-1:\n",
        "      memo[f'{y},{x}'] = p + walk(y+1, x, memo)\n",
        "      return memo[f'{y},{x}']\n",
        "    else:\n",
        "      d = walk(y+1, x, memo)\n",
        "      r = walk(y, x+1, memo)\n",
        "      memo[f'{y},{x}'] = p + min(d,r)\n",
        "      return memo[f'{y},{x}']\n",
        "  \n",
        "  return walk(0,0)\n",
        "\n",
        "# tests\n",
        "g = [[1,3,1],[1,5,1],[4,2,1]] # 7\n",
        "# g = [[1,2,3],[4,5,6]] # 12\n",
        "# g = [[1],[1]] # 2\n",
        "minPathSum(g)"
      ],
      "metadata": {
        "colab": {
          "base_uri": "https://localhost:8080/"
        },
        "id": "KlkaUbDsBoNa",
        "outputId": "ed886e92-bd8d-4add-8cba-02d785342709"
      },
      "execution_count": null,
      "outputs": [
        {
          "output_type": "execute_result",
          "data": {
            "text/plain": [
              "7"
            ]
          },
          "metadata": {},
          "execution_count": 16
        }
      ]
    },
    {
      "cell_type": "code",
      "source": [
        "# LC Palindrome Linked List -copied and edited code\n",
        "# faster than 94%, less memory than 95%\n",
        "def isPalindrome(self, head: Optional[ListNode]) -> bool:\n",
        "    revHead = None\n",
        "    slow = fast = head\n",
        "\n",
        "    while fast and fast.next:\n",
        "        fast = fast.next.next\n",
        "        # reversing\n",
        "        tmp = slow.next\n",
        "        slow.next = revHead\n",
        "        revHead = slow\n",
        "        slow = tmp\n",
        "\n",
        "    # if fast is not None we have odd elements so skip 1 in the middle\n",
        "    if fast:\n",
        "        slow = slow.next\n",
        "\n",
        "    while revHead and revHead.val == slow.val:\n",
        "        revHead = revHead.next\n",
        "        slow = slow.next\n",
        "\n",
        "    return revHead == None"
      ],
      "metadata": {
        "id": "1U-1rrcIvQHK"
      },
      "execution_count": null,
      "outputs": []
    },
    {
      "cell_type": "code",
      "source": [
        "# LC Longest Palindrome by Concatenating Two Letter Words\n",
        "# avg speed and memory\n",
        "def longestPalindrome(words) -> int:\n",
        "    hm = {}\n",
        "    p = ct = 0\n",
        "    for w in words:\n",
        "      if w in hm:\n",
        "        if w[1] == w[0]:\n",
        "          p -= 1\n",
        "        hm[w] -= 1\n",
        "        ct += 4\n",
        "        if hm[w] == 0:\n",
        "          del hm[w]\n",
        "      else:\n",
        "        if w[1] == w[0]:\n",
        "          p += 1\n",
        "        t = w[1] + w[0]\n",
        "        hm[t] = 1 if t not in hm else hm[t] +1\n",
        "    if p:\n",
        "      ct += 2\n",
        "    return ct\n",
        "\n",
        "# tests\n",
        "w = [\"lc\",\"cl\",\"gg\"] # 6\n",
        "# w = [\"ab\",\"ty\",\"yt\",\"lc\",\"cl\",\"ab\"] # 8\n",
        "# w = [\"cc\",\"ll\",\"xx\"] # 2\n",
        "longestPalindrome(w)"
      ],
      "metadata": {
        "colab": {
          "base_uri": "https://localhost:8080/"
        },
        "id": "xsLRRpE25ZOs",
        "outputId": "a8874785-251b-4055-8302-3eaa97188da0"
      },
      "execution_count": null,
      "outputs": [
        {
          "output_type": "execute_result",
          "data": {
            "text/plain": [
              "6"
            ]
          },
          "metadata": {},
          "execution_count": 6
        }
      ]
    },
    {
      "cell_type": "code",
      "execution_count": null,
      "metadata": {
        "id": "sBgVP81eHFD_"
      },
      "outputs": [],
      "source": [
        "# LC Remove Nth Node From End of List\n",
        "# faster than 53%, less memory than 70%\n",
        "def removeNthFromEnd(self, head: Optional[ListNode], n: int) -> Optional[ListNode]:\n",
        "  l = 0\n",
        "  c = head\n",
        "  while c:\n",
        "    l += 1\n",
        "    c = c.next\n",
        "  \n",
        "  if l == n:\n",
        "    return head.next\n",
        "  \n",
        "  t = 1\n",
        "  c = head\n",
        "  while t < l -n:\n",
        "    c = c.next\n",
        "    t += 1\n",
        "  \n",
        "  c.next = c.next.next\n",
        "  \n",
        "  return head"
      ]
    },
    {
      "cell_type": "code",
      "source": [
        "# LC Odd Even Linked List\n",
        "# slowish O(n), but memory efficient O(1)\n",
        "def oddEvenList(self, head: Optional[ListNode]) -> Optional[ListNode]:\n",
        "    if not head or not head.next or not head.next.next:\n",
        "      return head\n",
        "    eh = head.next\n",
        "    cur = head\n",
        "    ec = eh\n",
        "    while ec and ec.next:\n",
        "      t = cur\n",
        "      cur = ec.next\n",
        "      t.next = cur\n",
        "      et = ec\n",
        "      ec = cur.next\n",
        "      et.next = ec\n",
        "    cur.next = eh\n",
        "    return head"
      ],
      "metadata": {
        "id": "zFSwvgyrt8eD"
      },
      "execution_count": null,
      "outputs": []
    },
    {
      "cell_type": "code",
      "source": [
        "# LC valid BST\n",
        "# solution works; pases low and high to make sure values on either side of the root are valid\n",
        "def isValidBST(self, root: Optional[TreeNode],l=-2**31-1,h=2**31) -> bool:\n",
        "    if not root:\n",
        "        return True\n",
        "    if root.val > l and root.val < h:\n",
        "        return self.isValidBST(root.left,l,root.val) and self.isValidBST(root.right,root.val,h)\n",
        "    else:\n",
        "        return False"
      ],
      "metadata": {
        "id": "7NHqE1g0bRZh"
      },
      "execution_count": null,
      "outputs": []
    },
    {
      "cell_type": "code",
      "source": [
        "# LC Happy Number  -faster than 50%, less memory than 62%\n",
        "def isHappy(n) -> bool:\n",
        "    s = set()\n",
        "    \n",
        "    def sumsq(num):\n",
        "      r = 0\n",
        "      while num > 0:\n",
        "        num, cur = divmod(num, 10)\n",
        "        r += cur**2\n",
        "      return r\n",
        "    \n",
        "    while n not in s:\n",
        "      s.add(n)\n",
        "      n = sumsq(n)\n",
        "      if n == 1:\n",
        "        return True\n",
        "      \n",
        "    return False\n",
        "\n",
        "# tests\n",
        "# n = 19 # T\n",
        "n = 2 # F\n",
        "isHappy(n)"
      ],
      "metadata": {
        "id": "j0RtU-tMrG39"
      },
      "execution_count": null,
      "outputs": []
    },
    {
      "cell_type": "code",
      "source": [
        "# LC Gas Station\n",
        "# naive - exceeds time limit\n",
        "def canCompleteCircuit(gas, cost):\n",
        "    n = len(gas)\n",
        "    for i in range(len(gas)):\n",
        "      j = i\n",
        "      t = gas[j] - cost[j]\n",
        "      while t >= 0:\n",
        "        j = (j + 1) % n\n",
        "        if j == i:\n",
        "          return i\n",
        "        t += gas[j] - cost[j]\n",
        "    return -1\n",
        "\n",
        "# tests\n",
        "# gas, cost = [1,2,3,4,5], [3,4,5,1,2] # 3\n",
        "gas, cost = [2,3,4], [3,4,3] # -1\n",
        "canCompleteCircuit(gas, cost)"
      ],
      "metadata": {
        "colab": {
          "base_uri": "https://localhost:8080/"
        },
        "id": "76Ns_CyFBzl9",
        "outputId": "abb559db-6fde-4adf-94c5-e79d2d01331e"
      },
      "execution_count": null,
      "outputs": [
        {
          "output_type": "stream",
          "name": "stdout",
          "text": [
            "2 2 1\n",
            "2 0 0\n"
          ]
        },
        {
          "output_type": "execute_result",
          "data": {
            "text/plain": [
              "-1"
            ]
          },
          "metadata": {},
          "execution_count": 10
        }
      ]
    },
    {
      "cell_type": "code",
      "source": [
        "#LC 3Sum -return all the triplets [nums[i], nums[j], nums[k]] such that i != j, i != k, and j != k, and nums[i] + nums[j] + nums[k] == 0; w/o duplicates\n",
        "\n",
        "def threeSum(nums):\n",
        "    r = []\n",
        "    s = set((nums[0], nums[1]))\n",
        "    hm = {}\n",
        "    hm[nums[0]+nums[1]] = [ [min(nums[0],nums[1]), max(nums[0],nums[1])] ]\n",
        "    \n",
        "    for i in range(2, len(nums)):\n",
        "      if -nums[i] in hm:\n",
        "        for l in hm[-nums[i]]:\n",
        "          \n",
        "          r.append(l + [nums[i]])\n",
        "    \n",
        "      for e in s:\n",
        "        if e+nums[i] not in hm:\n",
        "          hm[e+nums[i]] = [ [min(e,nums[i]), max(e,nums[i])] ]\n",
        "        else:\n",
        "          if [min(e,nums[i]), max(e,nums[i])] not in hm[e+nums[i]]:\n",
        "            hm[e+nums[i]] += [[min(e,nums[i]), max(e,nums[i])]]\n",
        "    \n",
        "    return r\n",
        "\n",
        "# tests\n",
        "n = [-1,0,1,2,-1,-4]\n",
        "threeSum(n)"
      ],
      "metadata": {
        "colab": {
          "base_uri": "https://localhost:8080/"
        },
        "id": "3SJ7eI1o0rDH",
        "outputId": "f09b2844-6a67-4435-bf55-1fa2ceaf0827"
      },
      "execution_count": null,
      "outputs": [
        {
          "output_type": "execute_result",
          "data": {
            "text/plain": [
              "[[-1, 0, 1], [0, 1, -1], [-1, 2, -1]]"
            ]
          },
          "metadata": {},
          "execution_count": 1
        }
      ]
    },
    {
      "cell_type": "code",
      "source": [
        "# LC Container With Most Water\n",
        "# faster than 69%, less memory than 98%\n",
        "def maxArea(height) -> int:\n",
        "    l = 0\n",
        "    r = len(height) -1\n",
        "    m = 0\n",
        "    while l < r:\n",
        "      if height[l] < height[r]:\n",
        "        m = max(m, height[l] * (r-l))\n",
        "        l += 1\n",
        "      else:\n",
        "        m = max(m, height[r] * (r-l))\n",
        "        r -= 1\n",
        "    return m\n",
        "\n",
        "# tests\n",
        "h = [1,8,6,2,5,4,8,3,7] # 49\n",
        "# h = [1,1] # 1\n",
        "maxArea(h)"
      ],
      "metadata": {
        "colab": {
          "base_uri": "https://localhost:8080/"
        },
        "id": "Oa_hnSmUJreg",
        "outputId": "091bb1f3-740e-48c9-f90e-940358c745b6"
      },
      "execution_count": null,
      "outputs": [
        {
          "output_type": "execute_result",
          "data": {
            "text/plain": [
              "49"
            ]
          },
          "metadata": {},
          "execution_count": 4
        }
      ]
    },
    {
      "cell_type": "code",
      "source": [
        "# LC Search Insert Position\n",
        "# Faster than 87%, less memory than 83%\n",
        "def searchInsert(nums, target) -> int:\n",
        "    sub = nums\n",
        "    \n",
        "    while len(sub) > 1:\n",
        "      m = len(sub)//2\n",
        "      if sub[m] == target:\n",
        "        return nums.index(sub[m])\n",
        "        \n",
        "      if target > sub[m]:\n",
        "        sub = sub[m:]\n",
        "      else:\n",
        "        sub = sub[:m]\n",
        "    \n",
        "    m = nums.index(sub[0])\n",
        "    return m if target <= sub[0] else m+1\n",
        "\n",
        "# tests\n",
        "# n, target = [1,3,5,6], 5 # 2\n",
        "# n, target = [1,3,5,6], 2 # 1\n",
        "n, target = [1,3,5,6], 7 # 4\n",
        "\n",
        "searchInsert(n, target)"
      ],
      "metadata": {
        "colab": {
          "base_uri": "https://localhost:8080/"
        },
        "id": "0uSwg6AFtioG",
        "outputId": "a3f05926-0676-4e8d-80cb-4bc4a9e3680b"
      },
      "execution_count": null,
      "outputs": [
        {
          "output_type": "execute_result",
          "data": {
            "text/plain": [
              "4"
            ]
          },
          "metadata": {},
          "execution_count": 5
        }
      ]
    },
    {
      "cell_type": "code",
      "source": [
        "# LC Reorder List\n",
        "# works; slow, not memory efficient\n",
        "def reorderList(self, head: Optional[ListNode]) -> None:\n",
        "  \"\"\"\n",
        "  Do not return anything, modify head in-place instead.\n",
        "  \"\"\"\n",
        "  s = []\n",
        "  c = 0\n",
        "  cur = head\n",
        "  while cur:\n",
        "    s.append(cur)\n",
        "    cur = cur.next\n",
        "    c += 1\n",
        "  \n",
        "  cur = head\n",
        "  for i in range(c//2):\n",
        "    t = cur.next\n",
        "    cur.next = s.pop()\n",
        "    cur.next.next = t\n",
        "    cur = t\n",
        "  cur.next = None\n",
        "  return head"
      ],
      "metadata": {
        "id": "ztyqRFW6TyyJ"
      },
      "execution_count": null,
      "outputs": []
    },
    {
      "cell_type": "code",
      "source": [
        "# LC Merge k Sorted (linked) Lists\n",
        "# solution faster than 97% and more memory efficient than 94%\n",
        "# however, since the lists are sorted, it would be better to use a merge and avoid having to sort a newly created list\n",
        "def mergeKLists(lists: List[Optional[ListNode]]) -> Optional[ListNode]:\n",
        "    ml = []\n",
        "    if not lists:\n",
        "        return \n",
        "    for l in lists:\n",
        "        cur = l\n",
        "        while cur:\n",
        "            ml.append(cur)\n",
        "            cur = cur.next\n",
        "    ml.sort(key=lambda node: node.val)\n",
        "    for i in range(len(ml)):\n",
        "        if i < len(ml)-1:\n",
        "            ml[i].next = ml[i+1]\n",
        "        else:\n",
        "            ml[i].next = None\n",
        "    if len(ml):\n",
        "        return ml[0]"
      ],
      "metadata": {
        "id": "mHr39xtuDccD"
      },
      "execution_count": null,
      "outputs": []
    },
    {
      "cell_type": "code",
      "source": [
        "#LC Sum of Left Leaves\n",
        "# works but reportedly slow\n",
        "def sumOfLeftLeaves(self, root: Optional[TreeNode]) -> int:\n",
        "    \n",
        "    def walk(root, cand):\n",
        "        if not root:\n",
        "            return 0\n",
        "        if cand and not root.left and not root.right:\n",
        "            return root.val\n",
        "        return walk(root.left, True) + walk(root.right, False)\n",
        "    \n",
        "    return walk(root, False)"
      ],
      "metadata": {
        "id": "mjjsAQh4C0sX"
      },
      "execution_count": null,
      "outputs": []
    },
    {
      "cell_type": "code",
      "source": [
        "# LC Maximum Depth of Binary Tree\n",
        "# works; ~50% t and space\n",
        "def maxDepth(self, root: Optional[TreeNode], c=0) -> int:\n",
        "    if not root:\n",
        "        return c\n",
        "    return max(self.maxDepth(root.left, c+1), self.maxDepth(root.right, c+1))"
      ],
      "metadata": {
        "id": "1MPCA4KPYdAp"
      },
      "execution_count": null,
      "outputs": []
    },
    {
      "cell_type": "code",
      "source": [
        "# LC Binary Tree Zigzag Level Order Traversal\n",
        "# t 81%, mem 14%\n",
        "def zigzagLevelOrder(self, root: Optional[TreeNode]) -> List[List[int]]:\n",
        "    r = []\n",
        "    if not root: return r\n",
        "    q = [root]\n",
        "    z = False\n",
        "    while q:\n",
        "      l = []\n",
        "      for i in range(len(q)):\n",
        "        c = q.pop(0)\n",
        "        l.append(c.val)\n",
        "        if c.left:\n",
        "          q.append(c.left)\n",
        "        if c.right:\n",
        "          q.append(c.right)\n",
        "      if z:\n",
        "        l.reverse()\n",
        "      z = not z\n",
        "      r.append(l)\n",
        "    return r"
      ],
      "metadata": {
        "id": "IySvL0BtNUQ9"
      },
      "execution_count": null,
      "outputs": []
    },
    {
      "cell_type": "code",
      "source": [
        "# LC Next Greater Element I\n",
        "# naive solution; slow\n",
        "def nextGreaterElement(self, nums1: List[int], nums2: List[int]) -> List[int]:\n",
        "    r = []\n",
        "    for n in nums1:\n",
        "        f = 0\n",
        "        for i in range(len(nums2)):\n",
        "            if nums2[i] == n:\n",
        "                f = 1\n",
        "            if f and nums2[i] > n:\n",
        "                r.append(nums2[i])\n",
        "                break\n",
        "            if i == len(nums2)-1:\n",
        "                r.append(-1)\n",
        "    return r"
      ],
      "metadata": {
        "id": "PHA6PiVRPrkF"
      },
      "execution_count": null,
      "outputs": []
    },
    {
      "cell_type": "code",
      "source": [
        "# LC Backspace String Compare\n",
        "# Given two strings s and t, return true if they are equal when both are typed into empty text editors. '#' means a backspace character.\n",
        "# stack solution O(n), O(n); there's a two pointer solution with O(1) space\n",
        "def backspaceCompare(s: str, t: str) -> bool:\n",
        "    def clean(s):\n",
        "        st=[]\n",
        "        for ch in s:\n",
        "            if ch == '#':\n",
        "              if st:\n",
        "                st.pop()\n",
        "            else:\n",
        "                st.append(ch)\n",
        "        return st\n",
        "    return clean(s) == clean(t)\n",
        "\n",
        "# tests\n",
        "# s, t = \"ab#c\", \"ad#c\" # T\n",
        "# s, t = \"ab##\", \"c#d#\" # T\n",
        "# s, t = \"a#c\", \"b\" # F\n",
        "# s, t = \"a##c\", \"#a#c\" # T\n",
        "s, t = \"y#fo##f\", \"y#f#o##f\" # T\n",
        "backspaceCompare(s, t)"
      ],
      "metadata": {
        "colab": {
          "base_uri": "https://localhost:8080/"
        },
        "id": "P09pAoml6Io4",
        "outputId": "07140db8-8b30-4fac-802b-18c2a9a66865"
      },
      "execution_count": null,
      "outputs": [
        {
          "output_type": "execute_result",
          "data": {
            "text/plain": [
              "True"
            ]
          },
          "metadata": {},
          "execution_count": 21
        }
      ]
    },
    {
      "cell_type": "code",
      "source": [
        "# LC Reverse Linked List\n",
        "# faster than 69%, less memory than 94%\n",
        "def reverseList(self, head: Optional[ListNode]) -> Optional[ListNode]:\n",
        "    prev = None\n",
        "    temp = None\n",
        "    cur = head\n",
        "    while cur:\n",
        "        temp = cur.next\n",
        "        cur.next = prev\n",
        "        prev = cur\n",
        "        cur = temp\n",
        "    return prev"
      ],
      "metadata": {
        "id": "9Q5wa59fvZxO"
      },
      "execution_count": null,
      "outputs": []
    },
    {
      "cell_type": "code",
      "source": [
        "# LC Reverse Linked List II\n",
        "# faster than 72%, avg memory\n",
        "def reverseBetween(self, head: Optional[ListNode], left: int, right: int) -> Optional[ListNode]:\n",
        "    cur = head\n",
        "    ct = 1\n",
        "    b = 0\n",
        "    s = []\n",
        "    while cur:\n",
        "        if ct == left:\n",
        "            l = cur\n",
        "            b = 1\n",
        "        if b:\n",
        "            s.append(cur.val)\n",
        "        if ct == right:\n",
        "            b = 0\n",
        "        cur = cur.next\n",
        "        ct += 1\n",
        "    cur = l\n",
        "    while s:\n",
        "        cur.val = s.pop()\n",
        "        cur = cur.next\n",
        "    return head"
      ],
      "metadata": {
        "id": "YXwTt6Qj5FtK"
      },
      "execution_count": null,
      "outputs": []
    },
    {
      "cell_type": "code",
      "source": [
        "# LC Same Tree\n",
        "# BFS solution -works ok; recursive (below is cleaner)\n",
        "def isSameTree(p: Optional[TreeNode], q: Optional[TreeNode]) -> bool:\n",
        "    if not p and not q:\n",
        "        return True\n",
        "    if (not p and q) or (p and not q):\n",
        "        return False\n",
        "    lq = [p]\n",
        "    rq = [q]\n",
        "    while lq:\n",
        "        l = lq.pop(0)\n",
        "        r = rq.pop(0)\n",
        "        if l.val != r.val:\n",
        "            return False\n",
        "        if (l.left and not r.left) or (not l.left and r.left):\n",
        "            return False\n",
        "        if (l.right and not r.right) or (not l.right and r.right):\n",
        "            return False\n",
        "        if l.left:\n",
        "            lq.append(l.left)\n",
        "            rq.append(r.left)\n",
        "        if l.right:\n",
        "            lq.append(l.right)\n",
        "            rq.append(r.right)\n",
        "    return True\n",
        "\n",
        "def isSameTree(p, q):\n",
        "    if not p and not q:\n",
        "        return True\n",
        "    if not q or not p:\n",
        "        return False\n",
        "    if p.val != q.val:\n",
        "        return False\n",
        "    return isSameTree(p.right, q.right) and isSameTree(p.left, q.left)"
      ],
      "metadata": {
        "id": "8PRwekErrvas"
      },
      "execution_count": null,
      "outputs": []
    },
    {
      "cell_type": "code",
      "source": [
        "# LC Count Good Nodes in Binary Tree\n",
        "# faster than 74%, less memory than 17%\n",
        "def goodNodes(self, root: TreeNode) -> int:\n",
        "  def walk(node, mval=-10**4, ct=0):\n",
        "    if not node:\n",
        "      return ct\n",
        "    if node.val >= mval:\n",
        "      ct += 1\n",
        "    mval = max(mval, node.val)\n",
        "    ct = walk(node.left, mval, ct)\n",
        "    ct = walk(node.right, mval, ct)\n",
        "    return ct\n",
        "  \n",
        "  return walk(root)\n"
      ],
      "metadata": {
        "id": "wiOWRwAUBYWZ"
      },
      "execution_count": null,
      "outputs": []
    },
    {
      "cell_type": "code",
      "source": [
        "# LC Invert Binary Tree\n",
        "# faster than 98%, less memory than 57%\n",
        "def invertTree(self, root: Optional[TreeNode]) -> Optional[TreeNode]:\n",
        "    \n",
        "    def walk(root):\n",
        "      if not root:\n",
        "        return\n",
        "      root.right, root.left = root.left, root.right\n",
        "      walk(root.left)\n",
        "      walk(root.right)\n",
        "    \n",
        "    walk(root)\n",
        "    return root\n"
      ],
      "metadata": {
        "id": "vLcggRdf9vIp"
      },
      "execution_count": null,
      "outputs": []
    },
    {
      "cell_type": "code",
      "source": [
        "# LC First Unique Character in a String\n",
        "# slow solution\n",
        "def firstUniqChar(s: str) -> int:\n",
        "    q = []\n",
        "    r = set()\n",
        "    for ch in s:\n",
        "        if ch in q:\n",
        "            r.add(ch)\n",
        "        else:\n",
        "            q.append(ch)\n",
        "    for ch in q:\n",
        "        if ch not in r:\n",
        "            return s.index(ch)\n",
        "    return -1\n",
        "\n",
        "# tests\n",
        "s = \"leetcode\" # 0\n",
        "# s = \"loveleetcode\" # 2\n",
        "# s = \"aabb\" # -1\n",
        "s = \"dddccdbba\" #8\n",
        "firstUniqChar(s)"
      ],
      "metadata": {
        "colab": {
          "base_uri": "https://localhost:8080/"
        },
        "id": "MIo1BF-Txjdl",
        "outputId": "8c801089-b1fa-462f-afbb-38305bcff334"
      },
      "execution_count": null,
      "outputs": [
        {
          "output_type": "execute_result",
          "data": {
            "text/plain": [
              "8"
            ]
          },
          "metadata": {},
          "execution_count": 9
        }
      ]
    },
    {
      "cell_type": "code",
      "source": [
        "# LC Group Anagrams -works ok\n",
        "def groupAnagrams(strs):\n",
        "    hm = {}\n",
        "    r = []\n",
        "    for s in strs:\n",
        "        k = [0]*26\n",
        "        for ch in s:\n",
        "            k[ord(ch)-97] += 1\n",
        "        k = tuple(k)\n",
        "        if k in hm:\n",
        "            hm[k].append(s)\n",
        "        else:\n",
        "            hm[k] = [s]\n",
        "    return hm.values()\n",
        "\n",
        "# tests\n",
        "s = [\"eat\",\"tea\",\"tan\",\"ate\",\"nat\",\"bat\"] # [[\"eat\",\"tea\",\"ate\"],[\"tan\",\"nat\"],[\"bat\"]]\n",
        "# s = [\"run\",\"had\",\"lot\",\"kim\",\"fat\",\"net\",\"fin\",\"rca\",\"chi\",\"lei\",\"lox\",\"iva\",\"liz\",\"hug\",\"hot\",\"irk\",\"lap\",\"tan\",\"tux\",\"yuk\",\"hep\",\"map\",\"ran\",\"ell\",\"kit\",\"put\",\"non\",\"aol\",\"add\",\"lad\",\"she\",\"job\",\"mes\",\"pen\",\"vic\",\"fag\",\"bud\",\"ken\",\"nod\",\"jam\",\"coy\",\"hui\",\"sue\",\"nap\",\"ton\",\"coy\",\"rut\",\"fit\",\"cut\",\"eta\",\"our\",\"oho\",\"zip\"]\n",
        "# [[\"zip\"],[\"eta\"],[\"cut\"],[\"fit\"],[\"ton\"],[\"coy\",\"coy\"],[\"jam\"],[\"ken\"],[\"bud\"],[\"fag\"],[\"nap\"],[\"vic\"],[\"oho\"],[\"mes\"],[\"job\"],[\"she\"],[\"iva\"],[\"had\"],[\"hep\"],[\"lad\"],[\"lox\"],[\"aol\"],[\"rut\"],[\"nod\"],[\"pen\"],[\"chi\"],[\"ell\"],[\"fat\"],[\"hot\"],[\"tux\"],[\"liz\"],[\"lot\"],[\"ran\"],[\"net\"],[\"hui\"],[\"rca\"],[\"lei\"],[\"fin\"],[\"run\"],[\"sue\"],[\"irk\"],[\"hug\"],[\"lap\"],[\"our\"],[\"tan\"],[\"yuk\"],[\"map\"],[\"kit\"],[\"kim\"],[\"put\"],[\"non\"],[\"add\"]]"
      ],
      "metadata": {
        "id": "qr6wI72IoTMB"
      },
      "execution_count": null,
      "outputs": []
    },
    {
      "cell_type": "code",
      "source": [
        "# LC Vowels of All Substrings\n",
        "# faster than 93%, less memory than 60%\n",
        "def countVowels(self, word: str) -> int:\n",
        "  v = 'aeiou'\n",
        "  n = len(word)\n",
        "  r = 0\n",
        "  for i in range(ceil(n/2)):\n",
        "    if word[i] in v:\n",
        "      r += (i+1)*(n-i)\n",
        "    if word[-i-1] in v:\n",
        "      r += (i+1)*(n-i)\n",
        "  if n%2:\n",
        "    i = n//2\n",
        "    if word[i] in v:\n",
        "      r -= (i+1)*(n-i)\n",
        "  return r"
      ],
      "metadata": {
        "id": "hBRHxluavcdX"
      },
      "execution_count": null,
      "outputs": []
    },
    {
      "cell_type": "code",
      "execution_count": null,
      "metadata": {
        "colab": {
          "base_uri": "https://localhost:8080/"
        },
        "id": "A7PBipaVwDnv",
        "outputId": "397f735f-0dc5-4151-b1c5-a76c74ae59f4"
      },
      "outputs": [
        {
          "output_type": "execute_result",
          "data": {
            "text/plain": [
              "18"
            ]
          },
          "metadata": {},
          "execution_count": 7
        }
      ],
      "source": [
        "# LC Minimum Cost Homecoming of a Robot in a Grid\n",
        "# works, but slow, albeit memory efficient\n",
        "def minCost(startPos, homePos, rowCosts, colCosts) -> int:\n",
        "    dy = homePos[0] - startPos[0]\n",
        "    dx = homePos[1] - startPos[1]\n",
        "    cy = cx = 0\n",
        "    ty = startPos[0]\n",
        "    while ty != homePos[0]:\n",
        "      ty += dy//abs(dy)\n",
        "      cy += rowCosts[ty]\n",
        "    tx = startPos[1]\n",
        "    while tx != homePos[1]:\n",
        "      tx += dx//abs(dx)\n",
        "      cx += colCosts[tx]\n",
        "    return cy + cx\n",
        "\n",
        "# tests\n",
        "startPos, homePos, rowCosts, colCosts = [1, 0], [2, 3], [5, 4, 3], [8, 2, 6, 7] # 18\n",
        "\n",
        "minCost(startPos, homePos, rowCosts, colCosts)"
      ]
    },
    {
      "cell_type": "code",
      "source": [
        "# LC Minimum Cost Homecoming of a Robot in a Grid -refactored\n",
        "# a very little faster\n",
        "def minCost(startPos, homePos, rowCosts, colCosts) -> int:\n",
        "    by = startPos[0] +1 if startPos[0] < homePos[0] else homePos[0]\n",
        "    ey = homePos[0] +1 if startPos[0] < homePos[0] else startPos[0]\n",
        "\n",
        "    bx = startPos[1] +1 if startPos[1] < homePos[1] else homePos[1]\n",
        "    ex = homePos[1] +1 if startPos[1] < homePos[1] else startPos[1]\n",
        "\n",
        "    cy = sum(rowCosts[by:ey])\n",
        "    cx = sum(colCosts[bx:ex])\n",
        "    \n",
        "    return cy + cx\n",
        "\n",
        "# tests\n",
        "# startPos, homePos, rowCosts, colCosts = [1, 0], [2, 3], [5, 4, 3], [8, 2, 6, 7] # 18\n",
        "startPos, homePos, rowCosts, colCosts = [5,5], [5,2], [7,1,3,3,5,3,22,10,23], [5,5,6,2,0,16] # 8\n",
        "minCost(startPos, homePos, rowCosts, colCosts)"
      ],
      "metadata": {
        "colab": {
          "base_uri": "https://localhost:8080/"
        },
        "id": "E_UzitzsTzwz",
        "outputId": "08cd16cf-f05b-4783-8f11-6ac777d08244"
      },
      "execution_count": null,
      "outputs": [
        {
          "output_type": "stream",
          "name": "stdout",
          "text": [
            "0 8 [6, 2, 0]\n"
          ]
        },
        {
          "output_type": "execute_result",
          "data": {
            "text/plain": [
              "8"
            ]
          },
          "metadata": {},
          "execution_count": 14
        }
      ]
    },
    {
      "cell_type": "code",
      "source": [
        "# LC Detect Capital\n",
        "# Given a word, return true if: all letters are capitals (\"USA\"), or all are lowercase (\"leetcode\"), ro only the first letter is capital (\"Google\").\n",
        "def detectCapitalUse(word: str) -> bool:\n",
        "    return word.islower() or word.isupper() or (word[0].isupper() and word[1:].islower())\n"
      ],
      "metadata": {
        "id": "SM0F6FjFEOIb"
      },
      "execution_count": null,
      "outputs": []
    },
    {
      "cell_type": "code",
      "source": [
        "# LC Baseball Game\n",
        "def calPoints(ops: List[str]) -> int:\n",
        "    res = []\n",
        "    for i in range(len(ops)):\n",
        "        if ops[i] == '+':\n",
        "            res.append(res[-1]+res[-2])\n",
        "        elif ops[i] == 'D':\n",
        "            res.append(res[-1]*2)\n",
        "        elif ops[i] == 'C':\n",
        "            res.pop()\n",
        "        else:\n",
        "            res.append(int(ops[i]))\n",
        "    return sum(res)\n",
        "\n",
        "# tests\n",
        "o = [\"5\",\"2\",\"C\",\"D\",\"+\"] # 30\n",
        "o = [\"5\",\"-2\",\"4\",\"C\",\"D\",\"9\",\"+\",\"+\"] # 27\n",
        "o = [\"1\",\"C\"] # 0"
      ],
      "metadata": {
        "id": "MjxKlX_0DKCU"
      },
      "execution_count": null,
      "outputs": []
    },
    {
      "cell_type": "code",
      "source": [
        "# LC Valid Anagram\n",
        "# sol faster than 61%, less memory than 67%\n",
        "def isAnagram(s: str, t: str) -> bool:\n",
        "    if len(s) != len(t):\n",
        "        return False\n",
        "    hm = {}\n",
        "    for ch in s:\n",
        "        hm[ch] = hm[ch]+1 if ch in hm else 1\n",
        "    for ch in t:\n",
        "        if ch not in hm:\n",
        "            return False\n",
        "        hm[ch] -= 1\n",
        "        if hm[ch] < 0:\n",
        "          return False\n",
        "    return True\n",
        "\n",
        "# tests\n",
        "s, t, = \"anagram\", \"nagaram\" # true\n",
        "# s, t = 'rat', 'car' # false\n",
        "# s, t = 'aacc', 'ccac' # false\n",
        "isAnagram(s, t)"
      ],
      "metadata": {
        "colab": {
          "base_uri": "https://localhost:8080/"
        },
        "id": "Q3kuWmbmvEdD",
        "outputId": "9cdd879b-d260-4e59-d493-f82ff02961ab"
      },
      "execution_count": null,
      "outputs": [
        {
          "output_type": "execute_result",
          "data": {
            "text/plain": [
              "True"
            ]
          },
          "metadata": {},
          "execution_count": 9
        }
      ]
    },
    {
      "cell_type": "code",
      "source": [
        "# LC Array Partition\n",
        "def arrayPairSum(nums) -> int:\n",
        "    nums.sort()\n",
        "    res = 0\n",
        "    for i in range(0,len(nums),2):\n",
        "        res += min(nums[i], nums[i+1])\n",
        "    return res\n",
        "\n",
        "# tests\n",
        "# n = [1,4,3,2] # 4\n",
        "n = [6,2,6,5,1,2] # 9\n",
        "arrayPairSum(n)"
      ],
      "metadata": {
        "colab": {
          "base_uri": "https://localhost:8080/"
        },
        "id": "zo58MvU20dRJ",
        "outputId": "2482f5cb-e42b-4f82-fdc6-9c73c725c949"
      },
      "execution_count": null,
      "outputs": [
        {
          "output_type": "execute_result",
          "data": {
            "text/plain": [
              "9"
            ]
          },
          "metadata": {},
          "execution_count": 3
        }
      ]
    },
    {
      "cell_type": "code",
      "source": [
        "# LC Find All Anagrams in a String\n",
        "# return an array of all the start indices of p's anagrams in s.\n",
        "# solution that checks each seq at i takes too long.  Better solution is sliding window; faster than 73%\n",
        "def findAnagrams(s, p):\n",
        "  res = []\n",
        "  lp, ls = len(p), len(s)\n",
        "  if lp > ls: return res\n",
        "  hm = {}\n",
        "  for ch in p:\n",
        "    hm[ch] = hm[ch] +1 if ch in hm else 1\n",
        "  for i in range(lp): # first window pass\n",
        "    if s[i] in hm:\n",
        "      hm[s[i]] -= 1\n",
        "  if all(v==0 for v in hm.values()): # if first set is anagram, add index 0\n",
        "    res.append(0)\n",
        "  for i in range(lp, ls): # slide window 1 at a time\n",
        "    if s[i] in hm:\n",
        "      hm[s[i]] -= 1\n",
        "    if s[i-lp] in hm:\n",
        "      hm[s[i-lp]] += 1\n",
        "    if all(v==0 for v in hm.values()):\n",
        "      res.append(i-lp+1)\n",
        "\n",
        "  return res\n",
        "\n",
        "# tests\n",
        "s, p = \"cbaebabacd\", \"abc\" # [0, 6]\n",
        "# s, p = \"abab\", \"ab\" # [0,1,2]\n",
        "findAnagrams(s, p)"
      ],
      "metadata": {
        "colab": {
          "base_uri": "https://localhost:8080/"
        },
        "id": "j8m62-UK7Cm2",
        "outputId": "7cc22766-310b-48f3-8a8a-6151b5a83a4e"
      },
      "execution_count": null,
      "outputs": [
        {
          "output_type": "execute_result",
          "data": {
            "text/plain": [
              "[0, 10001]"
            ]
          },
          "metadata": {},
          "execution_count": 18
        }
      ]
    },
    {
      "cell_type": "code",
      "source": [
        "# LC Sort List\n",
        "# Given the head of a linked list, return the head of the sorted (in ascending order) list\n",
        "# Solution faster than 86%, less memory than 54%\n",
        "def sortList(head):\n",
        "    r = []\n",
        "    if not head:\n",
        "        return head\n",
        "    cur = head\n",
        "    while cur:\n",
        "        r.append(cur)\n",
        "        cur = cur.next\n",
        "    r.sort(key=attrgetter('val'))\n",
        "    for i in range(len(r)-1):\n",
        "        r[i].next = r[i+1]\n",
        "    r[-1].next = None\n",
        "    \n",
        "    return r[0]"
      ],
      "metadata": {
        "id": "Ok4c-nC73hpA"
      },
      "execution_count": null,
      "outputs": []
    },
    {
      "cell_type": "code",
      "source": [
        "# LC Where Will the Ball Fall\n",
        "# avg time, less memory than 84%\n",
        "def findBall(grid):\n",
        "  ans = []\n",
        "  m = len(grid)\n",
        "  n = len(grid[0])\n",
        "  for i in range(n):\n",
        "    x = i\n",
        "    y = 0\n",
        "    while y < m:\n",
        "      if x < n-1 and grid[y][x] == 1 and grid[y][x+1] == 1:\n",
        "        x += 1\n",
        "        y += 1\n",
        "      elif x > 0 and grid[y][x] == -1 and grid[y][x-1] == -1:\n",
        "        x -= 1\n",
        "        y += 1\n",
        "      else:\n",
        "        break\n",
        "    if y == m:\n",
        "      ans.append(x)\n",
        "    else:\n",
        "      ans.append(-1)\n",
        "  return ans\n",
        "\n",
        "# tests\n",
        "g = [[1,1,1,-1,-1],[1,1,1,-1,-1],[-1,-1,-1,1,1],[1,1,1,1,-1],[-1,-1,-1,-1,-1]] # [1,-1,-1,-1,-1]\n",
        "# g = [[1,1,1,1,1,1],[-1,-1,-1,-1,-1,-1],[1,1,1,1,1,1],[-1,-1,-1,-1,-1,-1]] # [0,1,2,3,4,-1]\n",
        "# g = [[-1]]\n",
        "findBall(g)"
      ],
      "metadata": {
        "colab": {
          "base_uri": "https://localhost:8080/"
        },
        "id": "RO6u_Oj6-CJV",
        "outputId": "9becd482-cf1a-4979-eff0-8db8fb4b1e8b"
      },
      "execution_count": null,
      "outputs": [
        {
          "output_type": "execute_result",
          "data": {
            "text/plain": [
              "[1, -1, -1, -1, -1]"
            ]
          },
          "metadata": {},
          "execution_count": 16
        }
      ]
    },
    {
      "cell_type": "code",
      "source": [
        "# LC Longest Substring Without Repeating Characters\n",
        "# naive: slow, memory intensive\n",
        "def lengthOfLongestSubstring(s) -> int:\n",
        "  l = 0\n",
        "  for i in range(len(s)):\n",
        "    st = set()\n",
        "    cur = s[i]\n",
        "    ct = 0\n",
        "    while cur not in st:\n",
        "      st.add(cur)\n",
        "      ct += 1\n",
        "      if i + ct >= len(s):\n",
        "        break\n",
        "      cur = s[i+ct]\n",
        "    l = max(l,ct)\n",
        "  return l\n",
        "\n",
        "# tests\n",
        "s = \"abcabcbb\" # 3\n",
        "# s = \"pwwkew\" # 3\n",
        "lengthOfLongestSubstring(s)"
      ],
      "metadata": {
        "colab": {
          "base_uri": "https://localhost:8080/"
        },
        "id": "I144ddMfMX-Y",
        "outputId": "2644690a-f49b-47de-ad07-5d6ca2a48432"
      },
      "execution_count": null,
      "outputs": [
        {
          "output_type": "execute_result",
          "data": {
            "text/plain": [
              "3"
            ]
          },
          "metadata": {},
          "execution_count": 17
        }
      ]
    },
    {
      "cell_type": "code",
      "source": [
        "# LC Longest Substring Without Repeating Characters -refactored\n",
        "# faster than 20%, less memory than 93%\n",
        "from collections import deque\n",
        "def lengthOfLongestSubstring(s) -> int:\n",
        "  l = 0\n",
        "  q = deque()\n",
        "  for ch in s:\n",
        "    while ch in q:\n",
        "      q.popleft()\n",
        "    q.append(ch)\n",
        "    l = max(l, len(q))\n",
        "  return l\n",
        "\n",
        "# tests\n",
        "s = '' # 0\n",
        "# s = \"abcabcbb\" # 3\n",
        "# s = \"pwwkew\" # 3\n",
        "lengthOfLongestSubstring(s)"
      ],
      "metadata": {
        "colab": {
          "base_uri": "https://localhost:8080/"
        },
        "id": "s2Mhf63oPkde",
        "outputId": "b4d2a360-a724-48af-aee6-bbc58e95f23c"
      },
      "execution_count": null,
      "outputs": [
        {
          "output_type": "execute_result",
          "data": {
            "text/plain": [
              "0"
            ]
          },
          "metadata": {},
          "execution_count": 5
        }
      ]
    },
    {
      "cell_type": "markdown",
      "source": [
        "### Hacker Rank (HR)"
      ],
      "metadata": {
        "id": "86W0QOMlC5VI"
      }
    },
    {
      "cell_type": "code",
      "source": [
        "# HR Tree: Preorder Traversal\n",
        "def preOrder(root):\n",
        "    def walk(root, r=''):\n",
        "        if not root:\n",
        "            return r\n",
        "        r += str(root.info) + ' '\n",
        "        r = walk(root.left, r)\n",
        "        r = walk(root.right, r)\n",
        "        return r\n",
        "    print(walk(root))"
      ],
      "metadata": {
        "id": "FCP_QonCWvoJ"
      },
      "execution_count": null,
      "outputs": []
    },
    {
      "cell_type": "code",
      "execution_count": null,
      "metadata": {
        "colab": {
          "base_uri": "https://localhost:8080/"
        },
        "id": "FK1NQCfspT--",
        "outputId": "695e0168-242c-4f0b-8557-129d81fbc33d"
      },
      "outputs": [
        {
          "data": {
            "text/plain": [
              "[4, 5, 1, 2, 3]"
            ]
          },
          "execution_count": 10,
          "metadata": {},
          "output_type": "execute_result"
        }
      ],
      "source": [
        "# HR Arrays: Left Rotation\n",
        "def rotLeft(a, d):\n",
        "    l = len(a)\n",
        "    ef = d % l\n",
        "    r = [0]*l\n",
        "    for i in range(l):\n",
        "        r[i-ef] = a[i]\n",
        "    return r\n",
        "\n",
        "rotLeft([1,2,3,4,5],3)"
      ]
    },
    {
      "cell_type": "code",
      "source": [
        "# HR Greedy Algorithms > Greedy Florist\n",
        "def getMinimumCost(k, c):\n",
        "    r = 0\n",
        "    c.sort(reverse=True)\n",
        "    for i in range(0, len(c), k):\n",
        "        r += sum(c[i:i+k]) * (i//k +1)\n",
        "    return r\n",
        "\n",
        "# tests\n",
        "# k, c = 3, [1, 3, 5, 7, 9] # 29\n",
        "# k, c = 3, [9, 5, 3, 7, 1] # 29\n",
        "# k, c = 3, [9, 5, 3, 7, 1, 6] # 40 = 9+7+6+ 5x2 +3x2 +1x2\n",
        "# k, c = 3, [1,1,1,2,2,2,3,3,3,4] # 40 = 4+3+3+ 2*(3+2+2)+ 3*(2+1+1)+ 4*1\n",
        "# k, c = 2, [2, 5, 6] # 15\n",
        "# k, c = 3, [2, 5, 6] # 13\n",
        "k, c = 3, [1,2,3,4]\n",
        "# s = '390225 426456 688267 800389 990107 439248 240638 15991 874479 568754 729927 980985 132244 488186 5037 721765 251885 28458 23710 281490 30935 897665 768945 337228 533277 959855 927447 941485 24242 684459 312855 716170 512600 608266 779912 950103 211756 665028 642996 262173 789020 932421 390745 433434 350262 463568 668809 305781 815771 550800'\n",
        "# k, c = 3, s.split() # 163578911\n",
        "getMinimumCost(k, c)"
      ],
      "metadata": {
        "colab": {
          "base_uri": "https://localhost:8080/"
        },
        "id": "S35ixEMDzNPl",
        "outputId": "17c8d874-0965-4bcb-d35e-09157997dca0"
      },
      "execution_count": null,
      "outputs": [
        {
          "output_type": "execute_result",
          "data": {
            "text/plain": [
              "[4]"
            ]
          },
          "metadata": {},
          "execution_count": 30
        }
      ]
    },
    {
      "cell_type": "code",
      "source": [
        "# HR Greedy Algorithms > Max Min\n",
        "def maxMin(k, arr):\n",
        "    arr.sort()\n",
        "    md = arr[k-1]-arr[0]\n",
        "    for i in range(len(arr)-k+1):\n",
        "        md = min(md, arr[i+k-1] - arr[i])\n",
        "    return md\n",
        "\n",
        "# tests\n",
        "# k, arr = 3, [10,100,300,200,1000,20,30] # 20\n",
        "k, arr = 4, [1,2,3,4,10,20,30,40,100,200] # 3\n",
        "maxMin(k, arr)"
      ],
      "metadata": {
        "colab": {
          "base_uri": "https://localhost:8080/"
        },
        "id": "MAxZP5DOE59R",
        "outputId": "8a80a8bd-643d-4a56-97ea-3db6f08935d3"
      },
      "execution_count": null,
      "outputs": [
        {
          "output_type": "execute_result",
          "data": {
            "text/plain": [
              "3"
            ]
          },
          "metadata": {},
          "execution_count": 32
        }
      ]
    },
    {
      "cell_type": "code",
      "execution_count": null,
      "metadata": {
        "id": "WIexNX3kBJ7h"
      },
      "outputs": [],
      "source": [
        "# HR Sherlock and Anagrams\n",
        "def grams(s):\n",
        "    size = 512\n",
        "    p = 0\n",
        "    hm = [None]*size\n",
        "    def hsh(key):\n",
        "        return (sum([ord(e) for e in str(key)]) * 1) % size\n",
        "    for i in range(len(s)):\n",
        "        for j in range(i+1,len(s)+1):\n",
        "            if hm[hsh(s[i:j])] and len(s[i:j]) == len(hm[hsh(s[i:j])][0]):\n",
        "                print('pair',s[i:j], hsh(s[i:j]))\n",
        "                p += hm[hsh(s[i:j])][1]\n",
        "                hm[hsh(s[i:j])][1] += 1\n",
        "            else:\n",
        "                hm[hsh(s[i:j])] = [s[i:j], 1]\n",
        "                print(s[i:j], hsh( s[i:j] ))\n",
        "    return p\n",
        "\n",
        "grams('abba')\n",
        "# grams('ifailuhkqq')\n",
        "# grams('kkkk')"
      ]
    },
    {
      "cell_type": "code",
      "execution_count": null,
      "metadata": {
        "colab": {
          "base_uri": "https://localhost:8080/"
        },
        "id": "WwsLiR8iRv5-",
        "outputId": "dafd51d9-5d1d-490c-9efa-ced689f48639"
      },
      "outputs": [
        {
          "data": {
            "text/plain": [
              "6"
            ]
          },
          "execution_count": 63,
          "metadata": {},
          "output_type": "execute_result"
        }
      ],
      "source": [
        "# HR Count Triplets\n",
        "def ct(arr, r):\n",
        "    d = {}\n",
        "    s = {}\n",
        "    t = 0\n",
        "    for e in arr:\n",
        "        if e/r in d:\n",
        "            t += d[e/r]\n",
        "        if e/r in s:\n",
        "            d[e] = s[e/r] if e not in d else d[e] + s[e/r]\n",
        "        s[e] = 1 if e not in s else s[e] + 1\n",
        "        # print(s,d,t)\n",
        "    return t\n",
        "\n",
        "# ct([1,2,2,4],2)\n",
        "# ct([2,2,1,1,4],2)\n",
        "# ct([2,2,1,1,2,4],2)\n",
        "# ct([1,1,2,2,4,8],2)\n",
        "# ct([1,3,9,9,27,81],3)\n",
        "# ct([1,5,5,25,125],5)\n",
        "# ct([125,1,5,5,25],5)\n",
        "# ct([1, 1, 1],1)"
      ]
    },
    {
      "cell_type": "code",
      "execution_count": null,
      "metadata": {
        "colab": {
          "base_uri": "https://localhost:8080/"
        },
        "id": "j_0E3mdkfaiz",
        "outputId": "4be7770e-5d81-4abf-84eb-629514fafe6f"
      },
      "outputs": [
        {
          "data": {
            "text/plain": [
              "[0, 1]"
            ]
          },
          "execution_count": 71,
          "metadata": {},
          "output_type": "execute_result"
        }
      ],
      "source": [
        "# HR Frequency Queries\n",
        "def freqQuery(queries):\n",
        "    d = {}\n",
        "    f = []\n",
        "    for e in queries:\n",
        "        if e[0] == 1:\n",
        "            d[e[1]] = 1 if e[1] not in d else d[e[1]] +1\n",
        "        if e[0] == 2 and e[1] in d and d[e[1]] > 0:\n",
        "            d[e[1]] -= 1\n",
        "        if e[0] == 3:\n",
        "            if e[1] in d.values():\n",
        "                f.append(1)\n",
        "            else:\n",
        "                f.append(0)\n",
        "    return f\n",
        "\n",
        "# freqQuery([(1,1),(2,2),(3,2),(1,1),(1,1),(2,1),(3,2)])\n",
        "freqQuery([(3,4),(2,1003),(1,16),(3,1)])"
      ]
    },
    {
      "cell_type": "code",
      "execution_count": null,
      "metadata": {
        "colab": {
          "base_uri": "https://localhost:8080/"
        },
        "id": "ACNebN921SzN",
        "outputId": "db539b01-0802-4906-8b74-017991954df4"
      },
      "outputs": [
        {
          "name": "stdout",
          "output_type": "stream",
          "text": [
            "0 0\n"
          ]
        }
      ],
      "source": [
        "# HR Fraudulent Activity Notifications\n",
        "def an(expenditure, d):\n",
        "    nt = 0\n",
        "    hm = {}\n",
        "    def get_med(idx):\n",
        "        s = 0\n",
        "        for i in range(201): # expenditures are between 0 - 200\n",
        "            if i in hm:\n",
        "                s += hm[i]\n",
        "                if s >= idx:\n",
        "                    return i\n",
        "    for i in range(len(expenditure)):\n",
        "        v = expenditure[i]\n",
        "        if i >= d:\n",
        "          m = get_med(d//2 +1)\n",
        "          if d%2:\n",
        "              if v >= m*2:\n",
        "                  nt += 1\n",
        "                  print(hm,v)\n",
        "          else:\n",
        "              if v >= m + get_med(d//2):\n",
        "                nt += 1\n",
        "                print(hm,v)\n",
        "          hm[expenditure[i-d]] -= 1 # remove oldest element from period\n",
        "        hm[v] = 1 if v not in hm else hm[v] +1 # add new element to period\n",
        "    return nt\n",
        "\n",
        "from statistics import median\n",
        "def an0(expenditure, d):\n",
        "    nt = 0\n",
        "    for i in range(d,len(expenditure)):\n",
        "      if expenditure[i] >= 2*median(expenditure[i-d:i]):\n",
        "        nt += 1\n",
        "        print(expenditure[i-d:i], expenditure[i])\n",
        "    return nt\n",
        "\n",
        "# e,d = [2, 3, 4, 2, 3, 6, 8, 4, 5],5\n",
        "# e,d = [2, 3, 4, 2, 3, 6, 8, 4, 5],3\n",
        "# e,d = [2, 3, 4, 2, 3, 6, 8, 4, 5],2\n",
        "# e,d = [1,2,3,4,4],4\n",
        "# e,d = [1,2,3,4,4],1\n",
        "# e,d = [1,2,3,4,4],5\n",
        "# e,d = [1,1,1,1,6,7,8,9,1,1,1,2],4\n",
        "# e,d = [1,1,1,1,6,7,8,9,1,1,1,2],2\n",
        "# e,d = [1,1,1,1,6,7,8,9,1,1,1,2],7\n",
        "# e,d = [1,1,1,1,6,7,8,9,1,1,1,2],1\n",
        "# e,d = [10,20,30,40,50],3\n",
        "# e,d = [10,20,30,40,50],1\n",
        "# e,d = [10,20,30,40,50],4\n",
        "e,d = [10,20,30,40,50],5\n",
        "# e,d = [1,2,3,4,4,2,2,4,4,5,6,1,2,1],3\n",
        "# an0(e,d)\n",
        "print(an(e,d), an0(e,d))"
      ]
    },
    {
      "cell_type": "code",
      "execution_count": null,
      "metadata": {
        "colab": {
          "base_uri": "https://localhost:8080/"
        },
        "id": "xLnyAhM21HXQ",
        "outputId": "8c69535f-caa3-45b4-b014-2ef22a41cba3"
      },
      "outputs": [
        {
          "name": "stdout",
          "output_type": "stream",
          "text": [
            "966\n"
          ]
        }
      ],
      "source": [
        "# HR NY Chaos\n",
        "def mb(q):\n",
        "  m = 0\n",
        "  for i,e in enumerate(q, 1):\n",
        "    if e-i > 2:\n",
        "      print('Too chaotic')\n",
        "      return\n",
        "    if e <= i:\n",
        "      # bribed, by how many people?\n",
        "      for j in range(max(e-2,0), i-1):\n",
        "        if q[j] > e:\n",
        "          m += 1\n",
        "  print(m)\n",
        "\n",
        "# q = [4,1,2,3]\n",
        "# q = [2, 1, 5, 3, 4]\n",
        "# q = [2, 1, 5, 4, 3]\n",
        "# mb([2, 5, 1, 3, 4])\n",
        "# mb([5,1,2,3,7,8,6,4])\n",
        "# mb([1,2,5,3,7,8,6,4])\n",
        "# mb([1,2,5,3,4,7,8,6])\n",
        "# mb([1,2,5,3,4,9,7,8,6])\n",
        "s = '2 1 5 6 3 4 9 8 11 7 10 14 13 12 17 16 15 19 18 22 20 24 23 21 27 28 25 26 30 29 33 32 31 35 36 34 39 38 37 42 40'\n",
        "s2 = '2 1 5 6 3 4 9 8 11 7 10 14 13 12 17 16 15 19 18 22 20 24 23 21 27 28 25 26 30 29 33 32 31 35 36 34 39 38 37 42 40 44 41 43 47 46 48 45 50 52 49 51 54 56 55 53 59 58 57 61 63 60 65 64 67 68 62 69 66 72 70 74 73 71 77 75 79 78 81 82 80 76 85 84 83 86 89 90 88 87 92 91 95 94 93 98 97 100 96 102 99 104 101 105 103 108 106 109 107 112 111 110 113 116 114 118 119 117 115 122 121 120 124 123 127 125 126 130 129 128 131 133 135 136 132 134 139 140 138 137 143 141 144 146 145 142 148 150 147 149 153 152 155 151 157 154 158 159 156 161 160 164 165 163 167 166 162 170 171 172 168 169 175 173 174 177 176 180 181 178 179 183 182 184 187 188 185 190 189 186 191 194 192 196 197 195 199 193 198 202 200 204 205 203 207 206 201 210 209 211 208 214 215 216 212 218 217 220 213 222 219 224 221 223 227 226 225 230 231 229 228 234 235 233 237 232 239 236 241 238 240 243 242 246 245 248 249 250 247 244 253 252 251 256 255 258 254 257 259 261 262 263 265 264 260 268 266 267 271 270 273 269 274 272 275 278 276 279 277 282 283 280 281 286 284 288 287 290 289 285 293 291 292 296 294 298 297 299 295 302 301 304 303 306 300 305 309 308 307 312 311 314 315 313 310 316 319 318 321 320 317 324 325 322 323 328 327 330 326 332 331 329 335 334 333 336 338 337 341 340 339 344 343 342 347 345 349 346 351 350 348 353 355 352 357 358 354 356 359 361 360 364 362 366 365 363 368 370 367 371 372 369 374 373 376 375 378 379 377 382 381 383 380 386 387 384 385 390 388 392 391 389 393 396 397 394 398 395 401 400 403 402 399 405 407 406 409 408 411 410 404 413 412 415 417 416 414 420 419 422 421 418 424 426 423 425 428 427 431 430 429 434 435 436 437 432 433 440 438 439 443 441 445 442 447 444 448 446 449 452 451 450 455 453 454 457 456 460 459 458 463 462 464 461 467 465 466 470 469 472 468 474 471 475 473 477 476 480 479 478 483 482 485 481 487 484 489 490 491 488 492 486 494 495 496 498 493 500 499 497 502 504 501 503 507 506 505 509 511 508 513 510 512 514 516 518 519 515 521 522 520 524 517 523 525 526 529 527 531 528 533 532 534 530 537 536 539 535 541 538 540 543 544 542 547 548 545 549 546 552 550 551 554 553 557 555 556 560 559 558 563 562 564 561 567 568 566 565 569 572 571 570 575 574 577 576 579 573 580 578 583 581 584 582 587 586 585 590 589 588 593 594 592 595 591 598 599 596 597 602 603 604 605 600 601 608 609 607 611 612 606 610 615 616 614 613 619 618 617 622 620 624 621 626 625 623 628 627 631 630 633 629 635 632 637 636 634 638 640 642 639 641 645 644 647 643 646 650 648 652 653 654 649 651 656 658 657 655 661 659 660 663 664 666 662 668 667 670 665 671 673 669 672 676 677 674 679 675 680 678 681 684 682 686 685 683 689 690 688 687 693 692 691 696 695 698 694 700 701 702 697 704 699 706 703 705 709 707 711 712 710 708 713 716 715 714 718 720 721 719 723 717 722 726 725 724 729 728 727 730 733 732 735 734 736 731 738 737 741 739 740 744 743 742 747 746 745 750 748 752 749 753 751 756 754 758 755 757 761 760 759 764 763 762 767 765 768 766 771 770 769 774 773 776 772 778 777 779 775 781 780 783 784 782 786 788 789 787 790 785 793 791 792 796 795 794 798 797 801 799 803 800 805 802 804 808 806 807 811 809 810 814 812 813 817 816 819 818 815 820 821 823 822 824 826 827 825 828 831 829 830 834 833 836 832 837 839 838 841 835 840 844 842 846 845 843 849 847 851 850 852 848 855 854 853 857 856 858 861 862 860 859 863 866 865 864 867 870 869 868 872 874 875 871 873 877 878 876 880 881 879 884 883 885 882 888 886 890 891 889 893 887 895 892 896 898 894 899 897 902 901 903 905 900 904 908 907 910 909 906 912 911 915 913 916 918 914 919 921 917 923 920 924 922 927 925 929 928 926 932 931 934 930 933 935 937 939 940 938 936 943 944 942 941 947 946 948 945 951 950 949 953 952 956 954 958 957 955 961 962 963 959 964 966 960 965 969 968 971 967 970 974 972 976 973 975 979 977 981 982 978 980 983 986 984 985 989 988 987 990 993 991 995 994 997 992 999 1000 996 998'\n",
        "r = 966\n",
        "q = list(map(int, s2.rstrip().split()))\n",
        "mb(q)"
      ]
    },
    {
      "cell_type": "code",
      "execution_count": null,
      "metadata": {
        "colab": {
          "background_save": true,
          "base_uri": "https://localhost:8080/"
        },
        "id": "b4lML4ZyZL1q",
        "outputId": "7560c243-0b24-45ca-d894-545c919730f8"
      },
      "outputs": [
        {
          "data": {
            "text/plain": [
              "2"
            ]
          },
          "execution_count": null,
          "metadata": {},
          "output_type": "execute_result"
        }
      ],
      "source": [
        "#HR Strings: Making Anagrams\n",
        "def makeAnagram(a, b):\n",
        "  e = 0\n",
        "  d = {}\n",
        "  for ch in a:\n",
        "    d[ch] = 1 if ch not in d else d[ch] +1\n",
        "  for ch in b:\n",
        "    d[ch] = -1 if ch not in d else d[ch] -1\n",
        "  for v in d.values():\n",
        "    e += abs(v)\n",
        "  \n",
        "  return e\n",
        "\n",
        "# test cases\n",
        "# a = 'cde'\n",
        "# b = 'abc'\n",
        "a = 'cde'\n",
        "b = 'dcf'\n",
        "makeAnagram(a, b)"
      ]
    },
    {
      "cell_type": "code",
      "source": [
        "# HR Alternating Characters\n",
        "def ac(s):\n",
        "  d = 0\n",
        "  for i in range(len(s)-1):\n",
        "    if s[i] == s[i+1]:\n",
        "      d += 1\n",
        "  return d\n",
        "\n",
        "#tests\n",
        "# s = 'AABAAB' # 2\n",
        "# s = 'AAAA' # 3\n",
        "# s = 'BABABA' # 0\n",
        "s = 'AAABBB' # 4\n",
        "ac(s)"
      ],
      "metadata": {
        "colab": {
          "base_uri": "https://localhost:8080/"
        },
        "id": "uFJXfqLfcxvc",
        "outputId": "bdd5747a-765f-409e-9cad-35cd6f86f6ff"
      },
      "execution_count": null,
      "outputs": [
        {
          "output_type": "execute_result",
          "data": {
            "text/plain": [
              "4"
            ]
          },
          "metadata": {},
          "execution_count": 48
        }
      ]
    },
    {
      "cell_type": "code",
      "source": [
        "# HR Sherlock and the Valid String\n",
        "def isValid(s):\n",
        "  d = {}\n",
        "  for ch in s:\n",
        "    d[ch] = 1 if ch not in d else d[ch] +1\n",
        "  l = d.values()\n",
        "  s = sorted(l)\n",
        "  ls = len(s)\n",
        "  sms = sum(s)\n",
        "  if s[0] == 1 and (sms <= ls +1 or sms == s[-1]*(ls-1)+1):\n",
        "    return 'YES'\n",
        "  if sms == s[0]*ls or sms == s[0]*ls +1:\n",
        "    return 'YES'\n",
        "  return 'NO'\n",
        "\n",
        "# tests\n",
        "t = 'aaabbbcc' # n\n",
        "# t = 'abc' # y\n",
        "# t = 'abcc' # y\n",
        "# t = 'cabc' # y\n",
        "# t = 'abccc' # n\n",
        "# t = 'aabbcd' # n\n",
        "# t = 'abcdefghhgfedecba' # y\n",
        "# t = 'aabbccddeefghi' # n\n",
        "# t = 'ibfdgaeadiaefgbhbdghhhbgdfgeiccbiehhfcggchgghadhdhagfbahhddgghbdehidbibaeaagaeeigffcebfbaieggabcfbiiedcabfihchdfabifahcbhagccbdfifhghcadfiadeeaheeddddiecaicbgigccageicehfdhdgafaddhffadigfhhcaedcedecafeacbdacgfgfeeibgaiffdehigebhhehiaahfidibccdcdagifgaihacihadecgifihbebffebdfbchbgigeccahgihbcbcaggebaaafgfedbfgagfediddghdgbgehhhifhgcedechahidcbchebheihaadbbbiaiccededchdagfhccfdefigfibifabeiaccghcegfbcghaefifbachebaacbhbfgfddeceababbacgffbagidebeadfihaefefegbghgddbbgddeehgfbhafbccidebgehifafgbghafacgfdccgifdcbbbidfifhdaibgigebigaedeaaiadegfefbhacgddhchgcbgcaeaieiegiffchbgbebgbehbbfcebciiagacaiechdigbgbghefcahgbhfibhedaeeiffebdiabcifgccdefabccdghehfibfiifdaicfedagahhdcbhbicdgibgcedieihcichadgchgbdcdagaihebbabhibcihicadgadfcihdheefbhffiageddhgahaidfdhhdbgciiaciegchiiebfbcbhaeagccfhbfhaddagnfieihghfbaggiffbbfbecgaiiidccdceadbbdfgigibgcgchafccdchgifdeieicbaididhfcfdedbhaadedfageigfdehgcdaecaebebebfcieaecfagfdieaefdiedbcadchabhebgehiidfcgahcdhcdhgchhiiheffiifeegcfdgbdeffhgeghdfhbfbifgidcafbfcd'\n",
        "isValid(t)"
      ],
      "metadata": {
        "colab": {
          "base_uri": "https://localhost:8080/",
          "height": 38
        },
        "id": "ugQrYGJTewYl",
        "outputId": "bf08685e-8691-4701-ea5b-678d322e4a79"
      },
      "execution_count": null,
      "outputs": [
        {
          "output_type": "execute_result",
          "data": {
            "text/plain": [
              "'NO'"
            ],
            "application/vnd.google.colaboratory.intrinsic+json": {
              "type": "string"
            }
          },
          "metadata": {},
          "execution_count": 94
        }
      ]
    },
    {
      "cell_type": "code",
      "source": [
        "# HR Special String Again\n",
        "def substrCount(n, s):\n",
        "  c = n\n",
        "  for i in range(n):\n",
        "    lc = 1\n",
        "    sw = 1\n",
        "    for j in range(i+1,n):\n",
        "      if sw == -1 and s[j] != s[i]:\n",
        "        break\n",
        "      if s[j] == s[i]:\n",
        "        lc += 1*sw\n",
        "        if sw == 1:\n",
        "          c += 1\n",
        "        if lc == 0:\n",
        "          c += 1\n",
        "          break\n",
        "      else:\n",
        "        sw = -1\n",
        "  return c\n",
        "\n",
        "# tests\n",
        "# s = 'mnonopoo'\n",
        "# s = 'asasd'\n",
        "# s = 'abcbaba'\n",
        "# s = 'aaaa'\n",
        "n = len(s)\n",
        "substrCount(n, s)"
      ],
      "metadata": {
        "colab": {
          "base_uri": "https://localhost:8080/"
        },
        "id": "ltYO_R6K9RBj",
        "outputId": "65f9e8da-3804-4ffd-e6e0-90df9fe5a842"
      },
      "execution_count": null,
      "outputs": [
        {
          "output_type": "execute_result",
          "data": {
            "text/plain": [
              "10"
            ]
          },
          "metadata": {},
          "execution_count": 7
        }
      ]
    },
    {
      "cell_type": "code",
      "source": [
        "# HR Hash Tables: Ice Cream Parlor\n",
        "def whatFlavors(cost, money):\n",
        "  d = {}\n",
        "  for i in range(len(cost)):\n",
        "    if cost[i] in d:\n",
        "      print(d[cost[i]], i+1)\n",
        "      return\n",
        "    if money - cost[i] > 0:\n",
        "      d[money -cost[i]] = i+1\n",
        "\n",
        "# tests\n",
        "# c = [1, 4, 5, 3, 2] # 1,4\n",
        "# m = 4\n",
        "c = [2, 2, 4, 3] # 1,2\n",
        "m = 4\n",
        "whatFlavors(c, m)"
      ],
      "metadata": {
        "colab": {
          "base_uri": "https://localhost:8080/"
        },
        "id": "ipM41Ts1aYPU",
        "outputId": "46ecea84-0940-4e3e-ae54-49eb9a7d1c9c"
      },
      "execution_count": null,
      "outputs": [
        {
          "output_type": "stream",
          "name": "stdout",
          "text": [
            "1 2\n"
          ]
        }
      ]
    },
    {
      "cell_type": "code",
      "source": [
        "# HR GS intvw 1 -return index of elemnt that parts arr into two subarr whose sum is equal\n",
        "def balancedSum(arr):\n",
        "    pp = len(arr)\n",
        "    p = len(arr)//2\n",
        "    # bisect until target found\n",
        "    while True:\n",
        "        l = sum(arr[:p])\n",
        "        h = sum(arr[p+1:])\n",
        "        print(l,p,h)\n",
        "        if l == h:\n",
        "            return p\n",
        "        t = p\n",
        "        dif = abs(p-pp)//2+1 if abs(p-pp)%2 else abs(p-pp)//2\n",
        "        if l > h:\n",
        "            p = p - dif\n",
        "        else:\n",
        "            p = p + dif\n",
        "        pp = t\n",
        "\n",
        "# tests\n",
        "# a = [1,2,3,3] # 2\n",
        "# a = [1,2,1] # 1\n",
        "# a = [1,2,3,4,6] # 3\n",
        "a = [1,1,1,1,1,1,1,1,1,1,1,1,4,4,4,4] # 12\n",
        "balancedSum(a)"
      ],
      "metadata": {
        "colab": {
          "base_uri": "https://localhost:8080/"
        },
        "id": "GwdQ70NYt7Nv",
        "outputId": "d5003045-cf44-4460-8528-94bd9472e813"
      },
      "execution_count": null,
      "outputs": [
        {
          "output_type": "stream",
          "name": "stdout",
          "text": [
            "8 8 19\n",
            "12 12 12\n"
          ]
        },
        {
          "output_type": "execute_result",
          "data": {
            "text/plain": [
              "12"
            ]
          },
          "metadata": {},
          "execution_count": 29
        }
      ]
    },
    {
      "cell_type": "code",
      "source": [
        "# HR GS intvw 2 -return max number of 3-elemnent subseq where i>j>k\n",
        "def maxInversions(arr):\n",
        "  hm = {arr.index(e):e for e in arr}\n",
        "  p = {}\n",
        "  ct = 0\n",
        "  for i in range(len(arr)):\n",
        "    # find larger predecesors\n",
        "    for c,e in hm.items():\n",
        "      if c < i and e > arr[i]:\n",
        "        p[arr[i]] = 1 if arr[i] not in p else p[arr[i]] +1\n",
        "    # how many 2-element subsequences can the curr element complete\n",
        "    for k in p:\n",
        "      if k > arr[i]:\n",
        "        ct += p[k]\n",
        "  return ct\n",
        "# tests\n",
        "a = [15,10,1,7,8]\n",
        "maxInversions(a)"
      ],
      "metadata": {
        "colab": {
          "base_uri": "https://localhost:8080/"
        },
        "id": "aPS25zyG84gb",
        "outputId": "30b7427f-5787-4f30-aef3-90850dca142f"
      },
      "execution_count": null,
      "outputs": [
        {
          "output_type": "execute_result",
          "data": {
            "text/plain": [
              "3"
            ]
          },
          "metadata": {},
          "execution_count": 12
        }
      ]
    },
    {
      "cell_type": "code",
      "source": [
        "# HR Love letter\n",
        "import string\n",
        "def theLoveLetterMystery(s):\n",
        "    # Write your code here\n",
        "    d = {ch: i for i,ch in enumerate(string.ascii_lowercase)}\n",
        "    c = 0\n",
        "    for i in range(len(s)//2):\n",
        "        if s[i] != s[-i-1]:\n",
        "            c += abs(d[s[i]]-d[s[-i-1]])\n",
        "    return c\n",
        "\n",
        "# tests\n",
        "s = 'abc'\n",
        "theLoveLetterMystery(s)"
      ],
      "metadata": {
        "colab": {
          "base_uri": "https://localhost:8080/"
        },
        "id": "VrMNgfRsssKb",
        "outputId": "f4f5f452-8b37-4cf3-bb92-75fab329c3e0"
      },
      "execution_count": null,
      "outputs": [
        {
          "output_type": "execute_result",
          "data": {
            "text/plain": [
              "2"
            ]
          },
          "metadata": {},
          "execution_count": 6
        }
      ]
    },
    {
      "cell_type": "code",
      "source": [
        "# HR Tree: Height of a Binary Tree\n",
        "def height(root):\n",
        "    h = 0\n",
        "    def walk(node, h):\n",
        "        if node is None:\n",
        "            return h\n",
        "        if node.left or node.right:\n",
        "            h += 1\n",
        "            h = max(walk(node.left, h), walk(node.right, h))\n",
        "        return h\n",
        "    return walk(root,h)"
      ],
      "metadata": {
        "id": "BbFX2qKPpyg8"
      },
      "execution_count": null,
      "outputs": []
    },
    {
      "cell_type": "code",
      "source": [
        "# HR Binary Search Tree : Lowest Common Ancestor\n",
        "def lca(root, v1, v2):\n",
        "    if v1 < root.info and v2 > root.info or v2 < root.info and v1 > root.info or v1 == root.info or v2 == root.info:\n",
        "        return root\n",
        "    if v1 > root.info:\n",
        "        return lca(root.right, v1, v2)\n",
        "    else:\n",
        "        return lca(root.left, v1, v2)"
      ],
      "metadata": {
        "id": "xjihnjGwplla"
      },
      "execution_count": null,
      "outputs": []
    },
    {
      "cell_type": "code",
      "source": [
        "# HR Tree: Level Order Traversal\n",
        "def levelOrder(root):\n",
        "    r = ''\n",
        "    q = [root]\n",
        "    while q:\n",
        "        cur = q.pop(0)\n",
        "        r += str(cur.info) +' '\n",
        "        if cur.left:\n",
        "            q.append(cur.left)\n",
        "        if cur.right:\n",
        "            q.append(cur.right)\n",
        "    print(r)"
      ],
      "metadata": {
        "id": "75y7GwkEFMIL"
      },
      "execution_count": null,
      "outputs": []
    },
    {
      "cell_type": "code",
      "source": [
        "# HR Binary Search Tree : Insertion\n",
        "def insert(self, val):\n",
        "    if self.root == None:\n",
        "        self.root = Node(val)\n",
        "        return\n",
        "    cur = self.root\n",
        "    while cur:\n",
        "        if val < cur.info:\n",
        "            if cur.left:\n",
        "                cur = cur.left\n",
        "            else:\n",
        "                cur.left = Node(val)\n",
        "                break\n",
        "        else:\n",
        "            if cur.right:\n",
        "                cur = cur.right\n",
        "            else:\n",
        "                cur.right = Node(val)\n",
        "                break\n"
      ],
      "metadata": {
        "id": "tWlLdLzd03Xn"
      },
      "execution_count": null,
      "outputs": []
    },
    {
      "cell_type": "code",
      "source": [
        "# HR Dynamic Programming > Max Array Sum\n",
        "\n",
        "def maxSubsetSum(arr):\n",
        "  n = len(arr)\n",
        "  z = max(0, arr[-1])\n",
        "  p = max(max(0, arr[-2]), z)\n",
        "  c = max(max(0, arr[-3]) + z, arr[-2])\n",
        "  if n == 1:\n",
        "    return z\n",
        "  if n == 2:\n",
        "    return p\n",
        "  if n == 3:\n",
        "    return c\n",
        "  for i in range(n-4,-1,-1):\n",
        "    r = max(max(0, arr[i]) + p, c)\n",
        "    p = c\n",
        "    c = r\n",
        "  return r\n",
        "\n",
        "# tests\n",
        "# a = [3,7,4,6,5] # 13\n",
        "# a = [-2,1,3,-4,5] # 8\n",
        "# a = [2,1,5,8,4] # 11\n",
        "# a = [3, 5, -7, 8, 10] # 15\n",
        "# a = [2,1,5,8,4,1,1,1,1,1,1,1] # 14\n",
        "maxSubsetSum(a)"
      ],
      "metadata": {
        "colab": {
          "base_uri": "https://localhost:8080/"
        },
        "id": "rS9N7D82ywzV",
        "outputId": "188ea0b3-d73b-4af9-f797-c00e828b59e5"
      },
      "execution_count": null,
      "outputs": [
        {
          "output_type": "execute_result",
          "data": {
            "text/plain": [
              "27902749"
            ]
          },
          "metadata": {},
          "execution_count": 17
        }
      ]
    },
    {
      "cell_type": "code",
      "source": [
        "# HR Dynamic Programming > Abbreviation\n",
        "\n",
        "# Needs work\n",
        "def abbreviation(a, b):\n",
        "  i = 0\n",
        "  d = {}\n",
        "  for ch in a:\n",
        "    if i < len(b):\n",
        "      if ch == b[i] or ch.upper() == b[i]:\n",
        "        d[b[i]] = ch\n",
        "        i += 1\n",
        "      elif ch.isupper():\n",
        "        if ch in d and d[ch].islower():\n",
        "          d[ch] = ch\n",
        "        else:\n",
        "          print('no')\n",
        "          return 'NO'\n",
        "    else:\n",
        "      if ch.isupper():\n",
        "        if ch in d and d[ch].islower():\n",
        "          d[ch] = ch\n",
        "        else:\n",
        "          print(d)\n",
        "          return 'NO'\n",
        "  \n",
        "  return 'YES' if i == len(b) else 'NO'\n",
        "\n",
        "# tests\n",
        "# a, b = 'daBcd', 'ABC' # YES\n",
        "# a, b = 'daBcdefG', 'ABC' # NO\n",
        "# a, b = 'daBcdefgC', 'ABC' # YES\n",
        "# a, b = 'dabcdefBgCij', 'ABC' # YES\n",
        "# a, b = 'daBcdefgCC', 'ABC' # NO\n",
        "# a, b = 'AbcDE', 'ABDE' # YES\n",
        "# a, b = 'AbcDE', 'AFDE' # NO\n",
        "# a, b = 'LLZOSYAMQRMBTZXTQMQcKGLR', 'LLZOSYAMBTZXMQKLR' # NO\n",
        "# a, b = 'MGYXKOVSMAHKOLAZZKWXKS', 'MGXKOVSAHKOLZKKDP' # NO\n",
        "# a, b = 'VLKHNlpsrlrvfxftslslrrh', 'VLKHN' # YES\n",
        "# a, b = 'OQSVONTNZMDJAVRZAZCVPKh', 'OSVONTNZMDJAVRZAZCVPK' # NO\n",
        "# a, b = 'AXbosoh', 'AX' # YES\n",
        "# a, b = 'EYONDOCHNZYYlBZXPGzX', 'EYONDOCHNZYYBZXPGXOG' # NO\n",
        "# a, b = 'BJAFXKGENMFUvdsvcptrp', 'BJAFXKGENMFU' # YES\n",
        "# a, b = 'UBUFOOSIXXsdtfmeyongkhehq', 'UBUFOOSIXX' # YES\n",
        "# a, b = 'PWBIJLCOIAXGJGUXUZOutgic', 'PWBIJLCOIAXGJGUXUZO' # YES\n",
        "# a, b = 'EOWZEOHWYOJTBNMcefdsp', 'EOWZEOHWYOJTBNM' # YES\n",
        "# a, b = 'hahHhaaA', 'HA' # YES\n",
        "# a, b = 'hahHhaa', 'HA' # YES\n",
        "a, b = 'abchheffHH', 'HH' # YES\n",
        "# a, b = 'hHhAhhcahhacaccacccahhchhcHcahaahhchhhchaachcaCchhchcaccccchhhcaahhhhcaacchccCaah', 'HAHHCHAAC' # YES\n",
        "abbreviation(a, b)"
      ],
      "metadata": {
        "colab": {
          "base_uri": "https://localhost:8080/",
          "height": 55
        },
        "id": "djDTUyQ2n7Je",
        "outputId": "860d4393-c21e-436e-e711-fa62ab609f75"
      },
      "execution_count": null,
      "outputs": [
        {
          "output_type": "stream",
          "name": "stdout",
          "text": [
            "{'H': 'H'}\n"
          ]
        },
        {
          "output_type": "execute_result",
          "data": {
            "text/plain": [
              "'NO'"
            ],
            "application/vnd.google.colaboratory.intrinsic+json": {
              "type": "string"
            }
          },
          "metadata": {},
          "execution_count": 58
        }
      ]
    },
    {
      "cell_type": "code",
      "source": [
        "10\n",
        "'hHhAhhcahhacaccacccahhchhcHcahaahhchhhchaachcaCchhchcaccccchhhcaahhhhcaacchccCaahhaahachhacaahhaachhhaaaCalhhchaccaAahHcchcazhachhhaaahaahhaacchAahccacahahhcHhccahaachAchahacaahcahacaahcahacaHhccccaahaahacaachcchhahhacchahhhaahcacacachhahchcaAhhcaahchHhhaacHcacahaccccaaahacCHhChchhhahhchcahaaCccccahhcaachhhacaaahcaaaccccaacaaHachaahcchaahhchhhcahahahhcaachhchacahhahahahAahaAcchahaahcaaaaahhChacahcacachacahcchHcaahchhcahaachnachhhhcachchahhhacHhCcaHhhhcaCccccaaahcahacahchahcaachcchaachahhhhhhhhcahhacacCcchahccaaaaaHhhccaAaaaCchahhccaahhacaccchhcahhcahaahhgacahcahhchcaaAccchahhhaahhccaaHcchaccacahHahChachhcaaacAhacacaacacchhchchacchchcacchachacaahachccchhhaccahcacchaccaahaaaccccccaaaaaaaHhcahcchmcHchcchaaahaccchaaachchHahcaccaaccahcacacahAhaacaacaccaccaaacahhhcacAhaCchcaacCcccachhchchcchhchahchchahchchhchcacaachahhccacachaAhaaachchhchchchhaachahaahahachhaaaccacahhcacchhhaaachaaacAahhcachchachhhcacchacaaChCahhhccahChaachhcahacchanaaacchhhccacacchcahccchAcahacaaachhacchachccaaHacaacAhahcCh'\n",
        "'HAHHCHAACCCAHCHHAHHAHCACCHCCHHCAAHHCACCCAHHHACAAHHHHCHHCAHHAHHAAAHAACAAHAHHCAHAHACHACHCHACACHAAHHAAAHCAHHACACAACHHHCHAHCAHCHHHAHAHACCAAAHCHHCHHCCAACCCCAACHACAACAAHACHCHAHHACCHCAHHHAAACHACAACHCACACAHHCCHAHACCCACCAACHCHHHCCCCCHCCAHHCAAHHAHHHHHHHAACCCCAHCCAAAAAHHHAAAACCAHHCAHACACCHHCHAHAHHCHAACHHHHHCCHCCAHAHCHCAAACCACCCCHACCACHHACHHACACHACCAACCCCAAAAHHAHCHHHCCAHCCHACHHAHCCACACCHAHAAACACCCCAHCCAHACCCCCCHCCHHCHHHHCHCHCAHHHACHAHAACCCAAAACHAACAAAHHAAHAAAHACHHCACHCCHCHAACHACACHHCCCCCAHCACHAAAHCHCAHACAAC'\n",
        "\n",
        "# a='XbxxobxBobbbxooXobXxxBOXoOboxxbobXOoBbxbXooXBboxooOxxXbboxoOxlobbObbXoXXbbXobbbXoxbxXBxoobooxbxoxoxOxxOxbxbxXobbbbBbxoxoooxooobXxbooBbOXxXxbxqobbbboXxoXXbbbxObXXxobOXXOxoOoxoXOXBxOxBoxbobxoBxbobobXooOxxOBXbxxXbooxbxooOxoxoobxxBOxxbbbxBxzXxbBxOobBObooofbbBXXOxxoxxbXBbOboxxooBbxOoboXoooXBbBbooOoBbbObxobxbBBoOxoxobBoOXXobObxobxOObobbbxxoboxoXxbXoxxxxbbobbXoXooBXXxboxbobxxxXboxOoOoxBoboOXboBoobXobxXdxObbbBxbxBbOOXbxooXboxboonxxxXOBbbXXoobooxbbxboxoOxBBbxBOxoobXbbxxbXXObxBbxBXBxoxOxoBbxBobOXbboxooBxbooXbXbooBbbxXboxXbxXoxbboxOXOooXbobooXXoxobbxoOxOoBbxxoBboboxoOBBxoboBoOboxbbxxbbbObXbboXbObOjXOXBxbxXobbbboBxBoOooxbxxOooxxbxxobbobxbbXoOobbBXoObxobXxoobxBxBbxoobXxoxObboxobobooxOoooBBbbbxxXoxbXxoXooxOBxboobxooxXOxobXoXmObxxXObooXXXboOXxbXxObxxbbObObxbxxbxxBXxBxoxOooaxooxXBXoXOxoOXxbBoBXxXooboXboOooxoxOxXxbxoboOObbBoXxbboxxooBBbooxXBbBoxBOobbboobobooxoxOxoXOXXboxXOboBxoboOooxbxBxobooXOoxOOObbxbobxxoxbOBoBxboxoobbbxoooxBxoobBbobBbooOBbxoboooookxXoobbbbBbOoxOBOobXObXBxoXoboxobbXBXBBoxBxoxooOxobxo'\n",
        "# b='XBOBBOBOXOXBOXOOBOXOXOBBXOXBXOXXBBOBXOXXXOBBXBOOOXXOXBBBXOXOOOXXOBBOXXOBBXXXOXXXOXXOOXOXBOBBBXBBXOOXOBXXOOOOBXBOXXBXBXXXBXOBBOBBXXOXXBOBBXOXXBBOOOBBBOXBBBOXXBXXOBOBXOOOXXXXXXOBXXBOXXOOOOBOOOXBBOOBXOXXOBBBBOOXXOOXXXOBBXXOXBBOXOXBBBOXOBXXXBXXOBBXBOOBBBOXBBBOXBXBOBBXXXOXBOOXOOXBOXXOOOOBBBBOOBBOBOOBOBXBBOXBOBOXOXBXOBBOBBOXBOOXXBBBBBXOBXOBXXXBBBXOOBOOOXOOBBBXXOXXOXOBOXOBXXOXOOXXXOXXOBOOXBBXBOXBXXOXOXBOBXXOOXOOOXXBOOBBXXXBBOXBBXBOBBOOBOOXOXXBXOBOOOXBOXOOXOOOBBOBBOOOBBBBBOOBOXBBBOBOBXOXBXOBXBXBXBBBXOOO'\n",
        "\n",
        "a='laalsAsaasLbbabLslalBbssaAsAlSLsbBllsSalblsssbsaaaAsabBaaAaalsssasssssLbasbbllbbLSsslbabAbSlllsbsbbalbBaSaaalbslaabAAaaabsabSlsassSshBBllbAAllsSbaLblabsaLBasBsAlLaabBbAllbaslsllsaAaAabbSallbLalsslbbblbasBAsbaBLalbBssbbAlbbbsSlsllbaLBLaaLblalBSbsBbSsbbaaSlllsblbsSaaBbassslaalblBbslLlaASASbbabbLlbalSabbBbLsbaabbalsAAbSbBbABbabbabaallBsasllbsbbsslSsbBlBlbabaalblaLsllbasasalabllSsbslLbsllbLsBlaSbssSAbsSasbsSalsabbllbbaBSBlabsBlAsbaSLbSllbsAblllSLaaAlBssSsBSLslAAlsbslbalsbSbsbalbsBabSbbsssaaabassalslllbsSLSsaLlbbBslSlSbbslsbslSLbbSbAaaaalLlSlAslsbmslbbalblLabSslassBabllSAsbbsvLllSalalbsaaaLAaSSbLbblaaSbLaalABlabsAsBsalssbBLlsLssaabsslabpSbsBaBbbSBlsaaabbblslBAblsLaASlaAlbaaSssbblalAaasbaalbLlaabbAaaaaAalsabbsllaaAsallsasBbAaslbbsbllbbllbslaBASbbSblaAbbsbbssAaBbsasLllalBlslssasbssBALAasbbsbSfasabbllbAslbalbaSSlslbbSbsaBsAalablAbbaBBsbsSbdaAsBblsblbABbLAssAbalsbssSssbBBssAsABLssblsLbllSblasllLbBsassllBbBbsbBsbllsBBsAbbLLlAslBlsAAASlaalabasaLslasBLlsslsaaslsbblbAsalSlllsLSAaLlalAalsBsaslaaaalb'\n",
        "b='ALASALABLABBASASLSBLSSLSSASBBAASSSLBBLLSSBAASLBBASBSLAAASSSSSBBLAALSALLBASBALLBBABASLLSAAAASLBBABABLABBALBSALBLLLBSSBSSAASSBBALALBBBSLLLASASLASABBBLASAASBBABAAALBLLBSSBBLBLBLLLAALLLSSSLLSLLBSSSABSSSSSBABSBLASBASSLBSLSASLAALBSBSLAASBSSBBSBBSSLLBSLSSLLBBLSLSSLBBSAALSASLSLBSABALSASLLLSLLAASSLBASBLAAABBABSBLLASASSBABBSBBBBLBABSLAASAASSSBLALAAASBLLBBAAABBLAABASSBBBLBLABASBSLAABBBSAABBASLLBSSSBBALASBSSBBASSLSBABABBBSSAABBLBABLAAABSBBSAABLSSSLSLLBALBBBBBSBBSABLLABLSAAASLABAALSABLSLBLBASASLLSALAABAAAALB'\n",
        "\n",
        "'EerRrrreeReeeErEEEEeRErerrrreeeerreerRrrEeeeReerrrrErereeRRRrREReERrEerREeEsrrrREeErererrRreERrrErreeeEEeReRrerrrERrreeerrrreEerrerreRerrRerRererrereeeerrrrReRRRrRreerrererReRererRrRRerRRreRRrRrrrEeRrrEEeeEeerErrereErEerreeeREererrRRERrerrrrreEerRrrrEeRERreereeereErerrrrrererErerErREEereReeeEeerRrerrrrrrreerErreEReeererrreeeeeeeEereErreerEerrerERrrereeEeREeRerErErreRrrrRrreEERrrRErrRreeEeEeeeerreRerRreEReeEeRERRreReEeerEErrrERreeErerEeERrRrrReerrreeeEerrerrrerrrrreeerreEerReRRErEerreerReeeeerrRrrrrrreerRreeEEereeeeErrrrrererErREeRrrReerrErEeEeerRreeeeeRrERerRrrererreReerereeerreRreeereERrrErreeeeerrrrrEReErrRerrErereEeerrrerrEerreEeererRererReeeErEereeRrrerreEeRrrRrrErrEereRreeereErRerereeeeRrRrreeerrrereereeERrRrrrRRrrRReerEEEReerRrererREereerRrrerrEeeererRrERreEreRrrRreerReRerreereRRreeERrEeEreErEreERrerEerrereEeerereerrEREeeEerserrrrreeRrRerrrERreEersEReREEerRrerrrReErrRerreReerererrrRErrsEErrErEEerrEREreeErrrEereRrrErRereeerREeEeEeerrrererrrRrRrEreERrrrerEerrrRRrerreereeRereerreeee'\n",
        "'ERREREEEEEEREERREEERERRERRRERERRRRREREEREERREEERRREERERERRERREEERRRERRRRERRERRRRREERRRRRRRRRRRRERRRRRRERRRREERREEEEEREERERREEERRRERERERRERERRERRREEERREEEEREEEERRRREERERREREEEEEEEREREEEEREEREREEERRRREERREREEEEERREREERERRREEEEERREREEREEERRRRERERRRRREERERRRERERRRRERRREEREERRERERRREREERREERERRRREREREERRERERERERERRREEEEERREREERERRERREREERRREEERRREREREERERREEEERRRRRRREEERERREEEREERREREERRRRRRERRERREEREEREEERRREREEREREREEERERRERERERSERREERREREERRERREREREEREREEEREEREERERREREEEREEEERRERRREERRERERRREEEREE'\n",
        "'YYRlYyrYYrLYYyrllRLzrLLRrRylyylrRRyYYLLYllyyLllyLrLrYlrryRsYYYYYlyRrrrRlRRrLlyrlLLLRYlrrrrrlrrylYRRLlllRyyYRlyyLYryrRyyryLiLylyryyrlRLLLrlLRLYrylYrLylyyRrLyyylYlLrrylYyrLLrwyRRylLRrllYRrrrYlLyyRLrLRlLLlLYLYYYlRyyYYRyrllrrlllyrLrlllLrylRRrLLrRRlyrrRRYyYlllyLrRLlRlrRrYyLLjyRLlLYyryYyrylrlrLyylRyryrLLyLYLyLYrYlLYrRRrlYlyrryRYllLLLyRrRRylLyYlYyRLRLlyRRlrrRRrlRlRlryRRyRYRrryYYYlYYrLlllYrlRRlryyllYyRlYyRLrRrLYYyLrrYllYRyLlylLlrlRlLlryLryRlYylRLYlLYrlyRrrrllYlYLLYRRrRRLLYLlYllYlyrLRylRYlLyLRLrRYLyRlmLLlYlLrRlLylLlrLYyyYYYrRlrrylyRylryrLryrlYrlLrYlyryryRLyLlYRlYyrYRyylryYRryyylRylryRRyllrlllYrYRrrlYyRRyrYlYpylRrRYRLyRRRrrrYRLylrlRyyRlylYLYYRYlryLlRLYyRLLYyllRlRlRlyylRYRlLlYlyRlYrYRYLyYRyRLrRYrYrLYyYYlRryrrlylYyrlRrryYllnRLyYlYryrRLlYyLryylYyRRYLrLlyrYlRLlRLryrylLLRLrlYYyLrLyrYLyLrYlYYrYYlrLrllYlllYYlrlRyYRyLRRRrLrlLyRLRRLrLRrLyLRYRLYyRLLyRRlRLllyrYlRllrLlLyLrLYlryYYlLyLlRRRrfyLLrlRlyYRLrYyYyYylyyyryllYLRRrLrylYlyRyYLlnrYrLyRRRyRYYYrYrRlyLryyrrrlygrrRRyRYRyrRRllRlrYlRylryLryylrryYlYlyrllLllyYYY'\n",
        "'YYRYYYLYYRLLLRRLRRYYLLYLLLLYYRYYYYYLRRRRLLLLRYRYRRLLRYRYLYRLLLRRLLLLRLYYLRLYLYLLRRLRLYRYLRLLRLLLLYLYYYRYYRLLRRLLRRLRRYYLLRLRLRYLLRLLYRYLRLLLYLLYYLYRRYRYLLLRRRLYYRLRLYRRRRRRYRRRYRRYYYYYLYRRRYRYYRLRLYYLRYYRLLLRLLRYYRLYLYRRRYYLLYRRRRLLYLLYYYLRRYLLRLRYLRLLYLRLLLYYYYRRRLYLLYRLLYRYYRYRRLRRLYYRYYRRRYYLRRYRLRRRYRLRRYLYYRYLRLRLYRLLYRRRRYRLLYLRYYRYLYRRLRRYYLYYYLRYYRYYRLYYRRLYLYRRYLLYRLRLLLRLYYLRLYLLYYYYYLLYYYRYRLRRRLLRLRRLLRLLRYRLYRLLRRRLYRYRLLLLYYYLLLRRRLLRYRLYYYYLRRLYRYLLYLRRRRYYYYRRLRRRRYRRRRRYRLYYLYYY'\n",
        "'vvvkeevekVVvvkkKeeVvKvkevkvvkevevkeveekkkvekVkeEevVvkkKevekkkkekkekvevkevekkevEvEkEvvKkkveveKkKkkEekevkveKvkKkVeeEeeeekkekekvvkkvkeKvkKvkeKkKKEvvVekeKeKvvkeKvveeEEvkeveekVvekkkkevkkkkekVvvvkkEekkvkekVKvekVevvKkvvEveeekkEvevkekeveVkKevkVkeEvkeeEkkvekeevVvvvvkkvveKeevkkevvVekvKEEVvkvVkeVkEkkvvEekVkekevvVEEvvkKkkevEeVKvEekkVkVvkkevkvVeEeeeEvvkkkeVkeeVekEkeevkvVkKeevkKvkekvVevvvVkvKKKevekEvVekvEVeKkKKkvvevekvevkKvvvVvEEkEeveekKKVEKkkVKvKevkveVvVveeKVekEkkevvveveKeevkVvvEVeEkEkKkkeeeveeekekKeVvekevEKvkkkkVkEkekeEEekvkVVkekvKKkeeEvkeVkkekkvvKvKvEEVvvvVekkeeekEvvKvvvvVVEeeKVKvVekeekvvekvvekEeKekeEeVVEeeKEeEEvvveEevVEVkEvkeEkeveeeeevkkeVkVKvvvekeveKekeekvevkveEkKkkevEkKkvveKkkkvvEEvKKeVekVVkveeekEvkkvKvkvveEvKkvEvvveKKekevEeekKekkkkvKkkEvKkeEkvKvkevekVKVKvveKvkvvkkVvkvKEKvvvvkeekevkEVvKeKkkevVkkEEkkvkveVVvevevekkkeEevEkeVkeKkVekvEevkeeEvVKVeeVkVekkvevekEeKevvvkeevvvVevKvVevVvVkkevEeVkEvEvevEeevKkkevekkvEkvkvKkeveveekvveKvKeeeeekEkEkKeKkkkvkEkekvEekeekkvvvekveekeeveKekeVevEVekkKKKvkekkkEvkeekke'\n",
        "'VVVKEEVEKVVKKEEVVKEVKVVKEVEVKEVEEKKKVEKKEEVVKKEVEKKKKEKKEKVEVKEVEKKEVVKVVKKVEVEKKKEKEVKVEVKKEEEEEEKKEKEKVVKKVKEVKVKEKVVEKEEVVKEVVEEVKEVEEKVEKKKKEVKKKKEKVVVKKEKKVKEKVEKEVVKVVVEEEKKVEVKEKEVEKEVKKEVKEEKKVEKEEVVVVVKKVVEEEVKKEVVEKVVKVKEKKKVVEKKEKEVVVVKKKEVEVEKKKVKKEVKVEEEEVVKKKEKEEEKKEEVKVKEEVKVKEKVEVVVKVEVEKVEKVEKKVVEVEKVEVKVVVVKEVEEKKKVEVKVEVVEEEKKKEVVVEVEEEVKVVEKKKKEEEVEEEKEKEVEKEVVKKKKKKEKEEKVKKEKVKEEVKEKKEKKVVVVVVVEKKEEEKVVVVVVEEVEKEEKVVEKVVEKEEKEEEEEVVVEEVKVKEKEVEEEEEVKKEKVVVEKEVEEKEEKVEVKVEKKKEVKKVVEKKKVVVEEKKVEEEKVKKVVKVVEVKVVVVEEKEVEEKEKKKKVKKVKEKVVKEVEKVVEVKVVKKVKVVVVVKEEKEVKVEKKEVKKKKVKVEVEVEVEKKKEEVKEKEKEKVEVKEEVEEKEKKVEVEKEEVVVKEEVVVEVVEVVKKEVEKVVEVEEVKKEVEKKVKVKVKEVEVEEKVVEVEEEEEKKKEKKKVKKEKVEKEEKKVVVEKVEEKEEVEEKEEVEKKVKEKKKVKEEKKE'\n",
        "'RreeerrEeRReReErrrReerresrERrrrReTrreEerRRerRrereeSeeererEeEeeErEREErrErrreeeerRerrrrRerEREeererSeRrReRerrrerrErEReeerrrrrReEreerReerRerREERreeeeRreReeeeeEErRRrrererreRreReeereRrerreRrREEeReEErrrreeErEeReRrrerrrEreereereeRrEeRrreREeeerEReREerrrrreerErEErrrrRErrrRrreeReReereERerereReRreEeeeeEEeerrrerRrrrrRerreeeEEereeereeEeeEseeReEreRRERrrrereerrererrEReerrrrrreeeRrreeeeeRRrsrrREererERRreereeRereEeRrRrRereEeeeRreEeerrRrereRerrrerererErRererrreeEeRRrErErrErrerrrreerrrreReeererersreReerEreRerReRRreEeeReereeEerrEEErrrEererreeerreeerrrrrEeeEEerrrReReeerreeREeEeREeReeeeREeRerERerreRereeslrrreeerERerErrRreRRrreEeererrrRRRreErrRREreeEeereeerrreeerrEerrrRRrerrerRReErRRrreEeeRereeEeERreEeEerREErReReRerrrreeERErereRreeReeeeeeErrreeerEeerEREeeReereerrrrerrErerrErerRrrErerrReEEerReeERRRrErereeeerERerRrRErSeEeeeeRrEereeeErrrREerERerReeeeReerRrreeEEeEerrereeeererEEERseeererRrrRerreersereeeRrreeEerrrrrreRERrErerrreRrrererRerererRreErEErrRrREreRrRrerReEeRrErrerererrreerreEReeRererrreReEEererREeEvRRrrer'\n",
        "'REEERRRERERERRRRETRERRRRRERESEEEEEEEREREEEERRRRRERERSRRRERRREEREERRREERREEREREEEERRRRRRREREEEREERRRREERRERRREEERRERREEEEERRRRERRRREEERRRREEEEEEERRRRREEEEEEEEEEESRERRERRRRRERRRERRRRRREREREEREERRRREREEREERRRERERRREERREERERRERRRESERERRRERREREEEEEEREERERREEREEEERREREEEREEERERRERRERREEEEERERRRRREERRRREERRRREEERERREEERRRRRERRREREEEREEEREERREREREEREEREEEERREEREEEREREEREERERRERRERRREEEERREERRREREERERRRERSEEEEREERERREERERERREEEREEREEERSERRREREEERREERRRRERERREERERERREEREERRRERRREEREEEREEREERERREEEEREEERRR'\n",
        "'ANzaNanaanAZnnaazzzNAznnZaaZzzaZzzznaaaaZAANnaaanZnzazaAANanZaznazznzaAaNznazzanaZznzANzznzaaZzAnanNanzzAazzZZananazAznaznNznaAAaZnnanzazANAANAnnnzazaaaanzaznAaaNZnNAnnanazaZzNzazanZnazaAzanazzaNznNzzzaaanZaAnNAanzznNaNznanAnananNnaazznznnzNznnNzzanzAaNzzzZzAnnznaanzZznzNZzZzznnnaazzzanaazzazznnanANnznzAZzNZnNnanzazNaZZzzazAnNzAzAZAazanzzZzaznnZzaaazzznnaanaazaAnzzzZaaazzzzNaaNazzaaANznazAannzAaZZaznnzznnAzaaaanaaAznazZAnzzaAzaZzzZzznzazAznnaznznnaNAazZzzazNazanzaanZaZznnznzaNzannnZZNnaznzaNaAZznazAzAzNnnanznannaznAznnnnazzNnaazAanzZnaAnnaAzaanZnZNNzannanznazAnzNanaZznAAnnnNzaznAnZZnznaanzzaNzzAZzaNzNzaZanaNzNnnnAnaaZnaaznanZnzaannanzAzazazaNannaaznNnNnzaazazAzAnAzzaNaaNnanzaaZANaaZnaAzazaZZZAznAaaZnaAnnAanaAAnznNNzNnanZzzZzzNzaZaaznnznzNnaNZannNzAnnnznAazaaaanZzzananznzzZznNNzzznnznannZzznzzaZazaNnnnZzanznazzazzanzazzZannzAzazAZnnzNZannzZaNznAZanaaanAnNzzznzZaanANZananzzZaNzzaZnnzazZanzznAaaAZZaznANNzanaaanNzAnaanaAzzZnNannznaNznANzznzZanaNNaZnzaznzZaanzznnnAANzzZananzNZnaaZaANZzNAAaz'\n",
        "'ZAANAANNNAAZZZZNNAAZZAZZZNAAAANAAANNZAZAANAZNAZZNZAAZNAZZANAZNZZZNZAAZNANANZZAZZANANAZZNAZNZNAANNANZAZNNNZAZAAAANZAZNAANNNANAZAZZAZANNAZAZANAZZAZNZZZAAANANANZZNAZNANNANANNAAZZNZNNZZNNZZANZAZZZZNNZNAANZZNZZZZNNNAAZZZANAAZZAZZNNANNZNZZNNANZAZAZZAZNZZAZANZZZAZNNZAAAZZZNNAANAAZANZZZAAAZZZZAAAZZAAZNAZANNZAAZNNZZNNZAAAANAAZNAZNZZAZAZZZZNZAZZNNAZNZNNAAZZZAZAZANZAANAZNNZNZAZANNNNAZNZAAZNAZZZNNANZNANNAZNZNNNNAZZNAAZANZNANNAZAANNZANNANZNAZNZANAZNNNNZAZNNNZNAANZZAZZZAZZAANAZNNNNAANAAZNANNZAANNANZZAZAZAANNAAZNNNZAAZAZZNZZAAANANZAAAANAZAZAZNAANANNANANZNZNANZZZZZAAAZNNZNZNAANNZNNNZNAZAAAANZZANANZNZZZNZZZNNZNANNZZNZZAAZANNNZANZNAZZAZZANZAZZANNZZAZNNZANNZAZNANAAANNZZZNZAANANANZZAZZANNZAZANZZNAAAZNZANAAANZNAANAZZNANNZNAZNZZNZANAANZAZNZAANZZNNNZZANANZNAAAZAZ'\n",
        "'evivevvVvevvEeeevVevevVvevEVevEeeEVVveevEvevevEeEeEEeeVevvvVVvevveevevEeVeVvvveeeeeivVveEevvEeveevvevvvVeevVeeeeveebveeVvvvvvEVEvEvvvvEEVVeeeVvEVEvevvevEvveVeEeeeVveVEVvvvvEeeVVvVeEEVvEEeeeveveeevVVeeeevVveeVvevVVevevvEEveVEEVVeeeEeveevevEvvvvevveeeeVEvevvEVvvvVevevvvveVeevVveevVeEevEEeeevVeieeeVvvvevvVeevvveeeevvVevEeevvvevveveevvveeeveeevVivevvevVvVeeevvEveevEEVeeVVEeeeevvveeEeveevvVeeEeevvvveeVvveveeeEveeeEeveeveVeVEveevvvVeevvveeEevVveeeVEeevEveevvVeveeeeVVVVeVEvvEVveveEvVeeeeEeeevvVEvveevvEeevevvVEeeeEvvvevvVvEVEvvvvvVvevEvVvVeevVevvVvEvveeeeeeEeveeVvEvVVvveveEvvVveeevvvViEeEEveeevvVevEveVVVeEeevVeveeEeeeeeveEvvVEeeEeveEvvvvveeVveVeVveeeVveEveeVvEVeEEeveeeVvvveEeveveeeVevevvveveVEEeveveevevveeevVeeeveveeveeveevvvEeeEvVeveevVEVEvvVVeeveVevViEEvVevevvVVEVVvvVeiEvVeevevvvEevvEvvvvevVveeVvvEevEeEEvEeeeeevveveevveveeeeVVeeveevvvveeVEEEveeeveeeEveeVVeeeVvEvvevveevvveVveeievivvVvvevevveeEeVEEeveveeVEEveviEveeivVvvVIEeEEvEveevEEveVvvEEveVeVEVvveveeVvVeEveeVVvveveeveVeveevvevEeVeeveVeEeVve'\n",
        "'VEVVEEVEVVEVEEVVVEVEEEEEEEVVVEVEVEVVEEVEEEVVVEEVEEVVVEVEEVEEVVVVEVEVEVVEEVEEEEVEVVEEEVVVEEEVEEEVVEEVVVVVVEVVVVVEEVEEVVEEEVEVVVVEVEVEVEVVVEVVEEVVVEEEEEEVVIEEVVVVEEVVVEVEVVVEVVVEVIVEVVVVEEEEEVVVEVEEEVEVEEVEVVVEVVVEEEEEEVEVEVEVVEVVVVVEVEVEVEEEEVVEVEEEEVVEEEEEVEVEVEVVVEEVVEVVVVEEEEEVEVVVVVEEEVEEVEEEEVEEVVVEEEVEEVEEEEEEEVVVEVVEEVEVEEEVVVVEVEEVEVEVVVEEVEVVEVVVEVEEEEVVEVEVVEEVVVEEVVVVEVVVVEVVVVVEVEVVVVEVEEEEEEVVVEVVEEVVVEEVEEEEEEEEVVEEVEVEVVEVEIVVEEVEEVVEEVEEEIVVVVIEEEEEVEEEVEEEVVEVVEVVEVVEVEVEVEVVVEVE'\n",
        "'cCccCoccocOOCCOccoccoCooCocoOoCcoCoooooOcococccOoocCoccOcoCcoooocCoooocCwcooowcocoocOococoocooOooCCooccooCCocooccoCoococccCccocoOoCcOCocccocOoOooOOooooccOcococcOOooCccooCoccOccoCcoCccOcccOoCCococCooOCoocccocoOocoOCCcoccOcOcccoOooooOOOoOcCcocCoCoOCOOcOcOOocooooocoCccocooocoooocccccooccccCCcoocococCcccCOcccccOoooOoooCcocccooocoCccOCCCccooccOwcCoccCcCcccocooOocCocccoOccocooccOocccooocooccOcccocoocoOOCOocOoococooOoOcocoocOcCcococcocCcoCoCOoOcoOOccoCcOoococoCooocccCooccCCcccCOooocoCOoOCcCccccocwcoCCOOcOoOccccCcocoCCococcCooOCcocccocOcocoocooooCoccccooOccCocoOOocococooOcccCocoOoccoCoocOccOoOOooooooocCoocCCcccococoooocCcoOooooOCcOccCooooOoocccccocoOocoCccCCcwOoOcocoocoOocccoOoCccocoocccccccooowccccOcCCoocooocOooococOOoooccoOwooOCccccoooocCooooooooooCwcooCcccoOcCoooOoOcwOoCoCcCocwoOOCcoocOOcCooocOoOooOoOccOcccocCoOcOcocoococcOoooccccccCoCooCcoooocCccOCccCooCcoOCcocoocOcoocoooOocCcCcoocoCOoOoocooCococoOccCoCoooocOoooOcoooCccocoocococOcOCccccoocccccccCooOoowoOcooOcCCOoCccCocooccoccoCCoccocOcccCo'\n",
        "'CCCOOCCOCOCOCOOCCCOOCOCOCOCOCCCOOCOOCOOWCOOOOOOOOOOCCOOCCCCCOCOCOOCOCOOOOOOOOOOOCCOCOOCCCCCOCOOCCCCOCOCCOOOOCCCOCOOCOOOOOOOCCCCOOCOOCOOOOOOCCOOOOCCCCCCCCOCCCCOOOOOCOCOCCOCCCCOCOCCCCCCCOOCCOCCOCCOOOCOOOOCOOOOOOCCOOCCOOCOCCCCOOOOOOOCOCOCCCCCCOOOCCOOCCCCCCOOCOOCCCCCOOCCCOCCCOCOOCOCCOCCOOOOOOOOOCCOOOCCOCOOOOOOOOCCCCOCOOCCOOOCOCCOOOOCOOOCCCWOOOCCOOCCOCCOCCOOCOCCCOCOOOOOCOOOCCCCCOCOCOOCOOWOOCCCOOOCCOOOCCOOCOOOOOOCOCCCOOCCCOOCOCOCOCCCCOCCCCOCCOOOOOCCOCCOOOOCOOCCCOOOCOOOOCCCOCOCCCOCCOOOCCOOCCCOOCCOCOOCC'\n",
        "'YES'\n",
        "'NO'\n",
        "'YES'\n",
        "'YES'\n",
        "'YES'\n",
        "'NO'\n",
        "'NO'\n",
        "'NO'\n",
        "'NO'\n",
        "'YES'\n",
        "abbreviation(a, b)"
      ],
      "metadata": {
        "colab": {
          "base_uri": "https://localhost:8080/",
          "height": 37
        },
        "id": "a_Qnei6F30iZ",
        "outputId": "bd40b893-8316-4f32-fc2f-99d4e2fd15dc"
      },
      "execution_count": null,
      "outputs": [
        {
          "output_type": "execute_result",
          "data": {
            "text/plain": [
              "'NO'"
            ],
            "application/vnd.google.colaboratory.intrinsic+json": {
              "type": "string"
            }
          },
          "metadata": {},
          "execution_count": 43
        }
      ]
    },
    {
      "cell_type": "code",
      "source": [
        "# HR Tree: Huffman Decoding -easy\n",
        "def decodeHuff(root, s):\n",
        "    r = ''\n",
        "    c= root\n",
        "    for ch in s:\n",
        "        if ch == '1':\n",
        "            c = c.right\n",
        "            if not c.left and not c.right:\n",
        "                r += c.data\n",
        "                c = root\n",
        "        if ch == '0':\n",
        "            c = c.left\n",
        "            if not c.left and not c.right:\n",
        "                r += c.data\n",
        "                c = root\n",
        "    print (r)"
      ],
      "metadata": {
        "id": "GVjRyzL9g4_K"
      },
      "execution_count": null,
      "outputs": []
    },
    {
      "cell_type": "code",
      "source": [
        "# HR Dynamic Programming > The Maximum Subarray\n",
        "# Given an array, find the maximum possible sum among: a) all nonempty subarrays, and b) all nonempty subsequences\n",
        "def maxSubarray(arr):\n",
        "  mxsubset = 0\n",
        "  msa = 0\n",
        "  mx = arr[0]\n",
        "  cur = 0\n",
        "\n",
        "  for n in arr:\n",
        "    if n>0:\n",
        "      mxsubset += n\n",
        "    cur = max(0, cur+n)\n",
        "    msa = max(msa, cur)\n",
        "    mx = max(mx, n)\n",
        "  if mx < 0:\n",
        "    return mx,mx\n",
        "  return msa,mxsubset\n",
        "\n",
        "\n",
        "# tests\n",
        "# a = [2,-1,2,3,4,-5] # 10,11\n",
        "# a = [-1,2,3,-4,5,10] #16,20\n",
        "a = [-1,2,3,-4,1,2] #5,8\n",
        "# a = [-2,-3,-1,-4,-6] #-1,-1\n",
        "maxSubarray(a)"
      ],
      "metadata": {
        "colab": {
          "base_uri": "https://localhost:8080/"
        },
        "id": "Sh9LHULrBAP7",
        "outputId": "f068dbc8-b407-4499-990f-1cea1e9f72b1"
      },
      "execution_count": null,
      "outputs": [
        {
          "output_type": "execute_result",
          "data": {
            "text/plain": [
              "(5, 8)"
            ]
          },
          "metadata": {},
          "execution_count": 6
        }
      ]
    },
    {
      "cell_type": "code",
      "source": [
        "# HR Dynamic Programming > The Coin Change Problem\n",
        "# Given an amount and the denominations of coins available, determine how many ways change can be made for amount. There is a limitless supply of each coin type\n",
        "\n",
        "def getWays(n, c): # this solution is too slow\n",
        "  c.sort()\n",
        "  t = [[] for i in range((n+1))]\n",
        "  t[0].append([0 for coin in c])\n",
        "  for i in range(n):\n",
        "    for e in t[i]:\n",
        "      for j in range(len(c)):\n",
        "        if i+c[j] < n+1:\n",
        "          combo = [k for k in e]\n",
        "          combo[j] += 1\n",
        "          if combo not in t[i+c[j]]:\n",
        "            t[i+c[j]].append(combo)\n",
        "  return len(t[n])\n",
        "\n",
        "# tests\n",
        "# n, c = 3, [8,3,1,2] # 3 -(1,1,1),(1,2),(3)\n",
        "# n, c = 4, [1,2,3] # 4 -(1,1,1,1),(1,1,2),(2,2),(1,3)\n",
        "# n, c = 10, [2,5,3,6] # 5\n",
        "n, c = 166, [5,37,8,39,33,17,22,32,13,7,10,35,40,2,43,49,46,19,41,1,12,11,28] # 96190959\n",
        "getWays(n, c)"
      ],
      "metadata": {
        "id": "0a83Ur-hAIPR"
      },
      "execution_count": null,
      "outputs": []
    },
    {
      "cell_type": "code",
      "source": [
        "# HR Inserting a Node Into a Sorted Doubly Linked List\n",
        "# passes all HR tests\n",
        "def sortedInsert(llist, data):\n",
        "    temp = DoublyLinkedListNode(data)\n",
        "    if not llist:\n",
        "        return temp\n",
        "    if data < llist.data:\n",
        "        llist.prev = temp\n",
        "        temp.next = llist\n",
        "        return temp\n",
        "    else:\n",
        "        cur = llist\n",
        "        while cur.next:\n",
        "            if data < cur.next.data:\n",
        "                temp.next = cur.next\n",
        "                cur.next.prev = temp\n",
        "                temp.prev = cur\n",
        "                cur.next = temp\n",
        "                return llist\n",
        "            cur = cur.next\n",
        "        cur.next = temp\n",
        "        temp.prev = cur\n",
        "        return llist\n"
      ],
      "metadata": {
        "id": "5y6KxhHt2dGW"
      },
      "execution_count": null,
      "outputs": []
    },
    {
      "cell_type": "code",
      "source": [
        "# HR Array Manipulation -naive solution; exceeds time limit\n",
        "def arrayManipulation(n, queries):\n",
        "    a = [0] * n\n",
        "    m = 0\n",
        "    for q in queries:\n",
        "        for i in range(q[0]-1,q[1]):\n",
        "            a[i] += q[2]\n",
        "            m = max(m, a[i])\n",
        "    return m\n",
        "\n",
        "# tests\n",
        "# n, q = 10, [[1, 5, 3],[4, 8, 7],[6, 9, 1]] # 10\n",
        "n, q = 5, [[1, 2, 100],[2, 5, 100],[3, 4, 100]] # 200\n",
        "\n",
        "arrayManipulation(n, q)"
      ],
      "metadata": {
        "colab": {
          "base_uri": "https://localhost:8080/"
        },
        "id": "mK6yxgY6f1HU",
        "outputId": "3010f1ce-8a52-4814-e6e1-ead278b4e16d"
      },
      "execution_count": null,
      "outputs": [
        {
          "output_type": "execute_result",
          "data": {
            "text/plain": [
              "200"
            ]
          },
          "metadata": {},
          "execution_count": 3
        }
      ]
    },
    {
      "cell_type": "code",
      "source": [
        "# HR Poisonous Plants\n",
        "# works but exceeds time limit\n",
        "def poisonousPlants(p):\n",
        "    d = 0\n",
        "    while True:\n",
        "        inds = [0]\n",
        "        r = 0\n",
        "        for i in range(1,len(p)):\n",
        "            if p[i] <= p[i-1]:\n",
        "                inds.append(i)\n",
        "            else:\n",
        "                r += 1\n",
        "        if r == 0:\n",
        "            return d\n",
        "        t = []\n",
        "        for e in inds:\n",
        "            t.append(p[e])\n",
        "        p = t\n",
        "        d += 1\n",
        "        if len(p) == 1:\n",
        "            return d\n",
        "\n",
        "# tests\n",
        "p = [6, 5, 8, 4, 7, 10, 9] # 2\n",
        "poisonousPlants(p)"
      ],
      "metadata": {
        "colab": {
          "base_uri": "https://localhost:8080/"
        },
        "id": "MEeN-sJ8eXgZ",
        "outputId": "a57b0fab-3705-4dbb-e25a-2d75a8a64c68"
      },
      "execution_count": null,
      "outputs": [
        {
          "output_type": "stream",
          "name": "stdout",
          "text": [
            "0 [6, 5, 4, 9] [0, 1, 3, 6]\n",
            "1 [6, 5, 4] [0, 1, 2]\n"
          ]
        },
        {
          "output_type": "execute_result",
          "data": {
            "text/plain": [
              "2"
            ]
          },
          "metadata": {},
          "execution_count": 3
        }
      ]
    },
    {
      "cell_type": "markdown",
      "source": [
        "### CodeSignal (CS)"
      ],
      "metadata": {
        "id": "R1D0078v98xS"
      }
    },
    {
      "cell_type": "code",
      "source": [
        "# CS climbingStairs\n",
        "def solution(n, m={}):\n",
        "    if n in m:\n",
        "        return m[n]\n",
        "    if n == 1:\n",
        "        return 1\n",
        "    if n == 2:\n",
        "        return 2\n",
        "    m[n-1] = solution(n-1)\n",
        "    m[n-2] = solution(n-2)\n",
        "    return m[n-1] + m[n-2]\n",
        "\n",
        "# tests\n",
        "n = 26 # 196418"
      ],
      "metadata": {
        "id": "soVsZ2om7NsE"
      },
      "execution_count": null,
      "outputs": []
    },
    {
      "cell_type": "code",
      "source": [
        "# CS houseRobber\n",
        "def solution(nums):\n",
        "    res = 0\n",
        "    if not nums:\n",
        "        return res\n",
        "    l = len(nums)\n",
        "    if l == 1:\n",
        "        return nums[0]\n",
        "    p = max(nums[0], nums[1])\n",
        "    if l == 2:\n",
        "        return p\n",
        "    c = max(nums[1], nums[0]+nums[2])\n",
        "    if l == 3:\n",
        "        return c\n",
        "    for i in range(3,l):\n",
        "        res = max(c, p+nums[i])\n",
        "        p, c = c, res\n",
        "    return res\n",
        "    \n",
        "# tests\n",
        "nums = [1, 1, 1] # 2\n",
        "nums = [1, 1, 1, 1] # 2\n",
        "nums = [1, 3, 1, 3, 100] # 103\n",
        "nums = [105, 153, 133, 205, 157, 227, 74, 225, 238, 239, 195, 58, 166, 193, 150, 89, 208, 149] # 1573"
      ],
      "metadata": {
        "id": "sUhed3d-T19r"
      },
      "execution_count": null,
      "outputs": []
    },
    {
      "cell_type": "code",
      "source": [
        "# CS kthSmallestInBST\n",
        "def solution(t, k):\n",
        "    \n",
        "    def walk(t, r=[]):\n",
        "        if not t:\n",
        "            return\n",
        "        walk(t.left, r)\n",
        "        r.append(t.value)\n",
        "        walk(t.right, r)\n",
        "        return r\n",
        "    \n",
        "    return walk(t)[k-1]"
      ],
      "metadata": {
        "id": "__wgJbU1Undv"
      },
      "execution_count": null,
      "outputs": []
    },
    {
      "cell_type": "code",
      "source": [
        "# CS isTreeSymmetric\n",
        "def solution(t):\n",
        "    if not t: return True\n",
        "    if (not t.left and t.right) or (t.left and not t.right) or (t.left.value != t.right.value):\n",
        "        return False\n",
        "    \n",
        "    def comp(t1, t2):\n",
        "        if not t1 and not t2:\n",
        "            return True\n",
        "        if (not t1 and t2) or (t1 and not t2) or not (t1.value == t2.value):\n",
        "            return False\n",
        "        return comp(t1.left, t2.right) and comp(t1.right, t2.left)\n",
        "\n",
        "    return comp(t.left, t.right)"
      ],
      "metadata": {
        "id": "ld-1bA08VCOa"
      },
      "execution_count": null,
      "outputs": []
    },
    {
      "cell_type": "code",
      "source": [
        "# CS findProfession\n",
        "def solution(level, pos):\n",
        "    p = 'Engineer'\n",
        "    if level == 1: return p\n",
        "    r = [1, 2**(level-1)]\n",
        "    for i in range(level-2):\n",
        "        if pos <= (r[0]-1 + r[1])//2:\n",
        "            r[1] = (r[0]-1 + r[1])//2\n",
        "            p = 'Engineer' if p == 'Engineer' else 'Doctor'\n",
        "        else:\n",
        "            r[0] = (r[0]+1 + r[1])//2\n",
        "            p = 'Engineer' if p != 'Engineer' else 'Doctor'\n",
        "    if pos == r[1]:\n",
        "        p = 'Engineer' if p != 'Engineer' else 'Doctor'\n",
        "    else:\n",
        "        p = 'Engineer' if p == 'Engineer' else 'Doctor'\n",
        "    return p\n",
        "\n",
        "# tests\n",
        "level: 3, pos: 3 # \"Doctor\"\n",
        "level: 4, pos: 2 # \"Doctor\"\n",
        "level: 10, pos: 470 # \"Engineer\""
      ],
      "metadata": {
        "id": "j06ioEdQVX6m"
      },
      "execution_count": null,
      "outputs": []
    },
    {
      "cell_type": "code",
      "source": [
        "# CS hasPathWithGivenSum\n",
        "def solution(t, s):\n",
        "    if not t:\n",
        "        return False\n",
        "    if not t.left and not t.right:\n",
        "        if s == t.value:\n",
        "            return True\n",
        "        else:\n",
        "            return False\n",
        "    if t.left and t.right:\n",
        "        return solution(t.left, s-t.value) or solution(t.right, s-t.value)\n",
        "    if t.left:\n",
        "        return solution(t.left, s-t.value)\n",
        "    if t.right:\n",
        "        return solution(t.right, s-t.value)"
      ],
      "metadata": {
        "id": "mLIko-0mWFyz"
      },
      "execution_count": null,
      "outputs": []
    },
    {
      "cell_type": "code",
      "source": [
        "# CS isSubtree\n",
        "# Current version misses a couple of hiddent test cases\n",
        "def solution(t1, t2):\n",
        "    if not t2: return True\n",
        "    if not t1: return False\n",
        "    \n",
        "    def comp(t2, t1):\n",
        "        if not t2:\n",
        "            return True\n",
        "        if t2 and not t1:\n",
        "            return False\n",
        "        if t2.value != t1.value:\n",
        "            return False\n",
        "        return comp(t2.left, t1.left) and comp(t2.right, t1.right)\n",
        "    \n",
        "    q = [t1]\n",
        "    while q:\n",
        "        cur = q.pop()\n",
        "        if cur.right:\n",
        "            q.append(cur.right)\n",
        "        if cur.left:\n",
        "            q.append(cur.left)\n",
        "        if cur.value == t2.value:\n",
        "            if comp(t2, cur):\n",
        "                return True\n",
        "    return False\n"
      ],
      "metadata": {
        "id": "9LSeu9QMWdXV"
      },
      "execution_count": null,
      "outputs": []
    },
    {
      "cell_type": "code",
      "source": [
        "# CS composeRanges\n",
        "def solution(nums):\n",
        "    res = []\n",
        "    if not nums:\n",
        "        return res\n",
        "    ln = len(nums)\n",
        "    if ln == 1:\n",
        "        return [str(nums[0])]\n",
        "    s = ''\n",
        "    for i in range(ln):\n",
        "        if not s:\n",
        "            s = str(nums[i])\n",
        "        if i+1 < ln and nums[i+1] != nums[i]+1:\n",
        "            if str(nums[i]) != s:\n",
        "                s += '->'+str(nums[i])\n",
        "            res.append(s)\n",
        "            s = ''\n",
        "        if i+1 >= ln:\n",
        "            if nums[i] == nums[i-1]+1:\n",
        "                s += '->'+str(nums[i])\n",
        "            res.append(s)\n",
        "    return res\n",
        "\n",
        "# tests\n",
        "nums = [-1, 0, 1, 2, 6, 7, 9] # [\"-1->2\", \"6->7\", \"9\"]"
      ],
      "metadata": {
        "id": "-UNvdSgiqAe9"
      },
      "execution_count": null,
      "outputs": []
    },
    {
      "cell_type": "code",
      "source": [
        "# CS traverseTree\n",
        "# return an array with all node values ordered by level letf to right\n",
        "def solution(t):\n",
        "    res = []\n",
        "    if not t:\n",
        "        return res\n",
        "    q = [t]\n",
        "    while q:\n",
        "        cur = q.pop(0)\n",
        "        res.append(cur.value)\n",
        "        if cur.left:\n",
        "            q.append(cur.left)\n",
        "        if cur.right:\n",
        "            q.append(cur.right)\n",
        "    return res"
      ],
      "metadata": {
        "id": "Sg_Oh8Szt-HY"
      },
      "execution_count": null,
      "outputs": []
    },
    {
      "cell_type": "code",
      "source": [
        "# CS largestValuesInTreeRows\n",
        "# return an array with the largest value of each row\n",
        "def solution(t):\n",
        "    hm = {}\n",
        "    if not t:\n",
        "        return []\n",
        "    def walk(t,l, hm):\n",
        "        if not t:\n",
        "            return\n",
        "        walk(t.left, l+1, hm)\n",
        "        if l in hm:\n",
        "            hm[l] = hm[l] + [t.value]\n",
        "        else:\n",
        "            hm[l] = [t.value]\n",
        "        walk(t.right, l+1, hm)\n",
        "    walk(t, 0, hm)\n",
        "    res = [max(hm[i]) for i in range(len(hm.keys()))]\n",
        "    return res"
      ],
      "metadata": {
        "id": "utW_vctVssqp"
      },
      "execution_count": null,
      "outputs": []
    },
    {
      "cell_type": "code",
      "source": [
        "# CS digitTreeSum\n",
        "# return sum of all root to leaf paths.  Each path is encoded as 't.value'+'child.value'+...+'leaf.value'\n",
        "# This solution can be optimized to use O(1) space\n",
        "def solution(t):\n",
        "    r=[]\n",
        "    def walk(t, r, path=''):\n",
        "        if not t:\n",
        "            return\n",
        "        path += str(t.value)\n",
        "        if not t.left and not t.right:\n",
        "            r.append(int(path))\n",
        "        walk(t.left, r, path)\n",
        "        walk(t.right, r, path)\n",
        "    walk(t,r)\n",
        "    \n",
        "    return sum(r)"
      ],
      "metadata": {
        "id": "rbHelMWnrt2Y"
      },
      "execution_count": null,
      "outputs": []
    },
    {
      "cell_type": "code",
      "source": [
        "# CS mapDecoding\n",
        "# A secret message containing uppercase letters from 'A' to 'Z' has been encoded as numbers 'A'->1, 'B'->2, ...'Z'->26\n",
        "# Determine the total number of ways that the message can be decoded.\n",
        "def solution(message):\n",
        "  pass\n",
        "\n",
        "# tests\n",
        "m = '123' # 3 [(1,2,3),(12,3),(1,23)]\n",
        "m = '12' # 2\n",
        "m = '0' # 0\n",
        "m = '1' # 1\n",
        "m = '301' # 0\n",
        "m = '10122110' # 5\n",
        "m = '' # 1\n",
        "m = '11115112112' # 104\n",
        "m = '2871221111122261' # 233\n",
        "m = '1221112111122221211221221212212212111221222212122221222112122212121212221212122221211112212212211211' # 782204094"
      ],
      "metadata": {
        "id": "Vr7o23GXqbie"
      },
      "execution_count": null,
      "outputs": []
    },
    {
      "cell_type": "code",
      "source": [
        "# CS climbingStaircase\n",
        "# Return all sequences, sorted, to climb a n-step staircase covering at most k steps in a single jump.\n",
        "# solution works, needs to be memoized\n",
        "def solution(n, k):\n",
        "  if n == 0:\n",
        "    return [[]]\n",
        "  res = []\n",
        "\n",
        "  for j in range(1,k+1):\n",
        "    if j <= n:\n",
        "      thisdifseqs = solution(n-j, k)\n",
        "      nseqs = [[j]+seq for seq in thisdifseqs]\n",
        "      res += nseqs\n",
        "  return res\n",
        "\n",
        "# tests\n",
        "n, k = 4, 2 # 5\n",
        "solution(n, k)"
      ],
      "metadata": {
        "colab": {
          "base_uri": "https://localhost:8080/"
        },
        "id": "9zWtbfQeo17h",
        "outputId": "2c8bca35-f01c-43ca-d2e8-545fd95f97b4"
      },
      "execution_count": null,
      "outputs": [
        {
          "output_type": "execute_result",
          "data": {
            "text/plain": [
              "[[1, 1, 1, 1], [1, 1, 2], [1, 2, 1], [2, 1, 1], [2, 2]]"
            ]
          },
          "metadata": {},
          "execution_count": 1
        }
      ]
    },
    {
      "cell_type": "code",
      "source": [
        "# CS how many contiguous subarrays of length m contain a pair of integers with a sum equal to k\n",
        "# solution works; seems like is a little slow, sliding window might make it faster\n",
        "def solution(a,m,k):\n",
        "  r = 0\n",
        "  def ispair(a):\n",
        "    s = set()\n",
        "    for i in range(len(a)):\n",
        "      if a[i] in s:\n",
        "        return True\n",
        "      s.add(k-a[i])\n",
        "\n",
        "  for i in range(len(a)-m+1):\n",
        "    if ispair(a[i:i+m]):\n",
        "      r += 1\n",
        "  return r\n",
        "\n",
        "# tests\n",
        "a, m, k = [2, 4, 7, 5, 3, 5, 8, 5, 1, 7], 4, 10 # 5\n",
        "# a, m, k = [15, 8, 8, 2, 6, 4, 1, 7], 2, 8 # 2\n",
        "\n",
        "solution(a,m,k)"
      ],
      "metadata": {
        "colab": {
          "base_uri": "https://localhost:8080/"
        },
        "id": "hRKFqAl5Hb92",
        "outputId": "abe4b369-053e-48e0-c6a2-d3f56d3ebeec"
      },
      "execution_count": null,
      "outputs": [
        {
          "output_type": "execute_result",
          "data": {
            "text/plain": [
              "5"
            ]
          },
          "metadata": {},
          "execution_count": 11
        }
      ]
    },
    {
      "cell_type": "code",
      "source": [
        "# CS -same as above, but sliding window\n",
        "def solution(a,m,k):\n",
        "  r = 0\n",
        "  np = 0\n",
        "  hm = {}\n",
        "  # go over initial window\n",
        "  for i in range(m):\n",
        "    if a[i] in hm:\n",
        "      np += 1\n",
        "    hm[k-a[i]] = hm[k-a[i]] +1 if k-a[i] in hm else 1\n",
        "  if np > 0:\n",
        "    r += 1\n",
        "  # slide window\n",
        "  for i in range(1, len(a)-m+1):\n",
        "    # remove old element\n",
        "    hm[k-a[i-1]] += -1\n",
        "    if a[i-1] in hm and hm[a[i-1]] > 0:\n",
        "      np += -1\n",
        "    # add new element\n",
        "    if a[i+m-1] in hm and hm[a[i+m-1]] > 0:\n",
        "      np += 1\n",
        "    hm[k-a[i+m-1]] = hm[k-a[i+m-1]] +1 if k-a[i+m-1] in hm else 1\n",
        "    if np > 0:\n",
        "      r += 1\n",
        "  return r\n",
        "\n",
        "solution(a,m,k)"
      ],
      "metadata": {
        "colab": {
          "base_uri": "https://localhost:8080/"
        },
        "id": "tzyF4EvcQKu0",
        "outputId": "635a52cc-d0c5-478c-c0e8-6ec47770f8e1"
      },
      "execution_count": null,
      "outputs": [
        {
          "output_type": "execute_result",
          "data": {
            "text/plain": [
              "5"
            ]
          },
          "metadata": {},
          "execution_count": 12
        }
      ]
    },
    {
      "cell_type": "code",
      "source": [
        "# CS return the number of full bateries used to talk t minutes given the capacity and recharge time of each battery\n",
        "def solution(t, capacity, recharge):\n",
        "    ready = [0] * len(capacity)\n",
        "    i = 0\n",
        "    b = 0\n",
        "    time = 0\n",
        "    while t > 0:\n",
        "        if ready[i] <= time:\n",
        "            t -= capacity[i]\n",
        "            time += capacity[i]\n",
        "            ready[i] = time + recharge[i]\n",
        "            if t <= 0:\n",
        "                break\n",
        "            b += 1\n",
        "        i += 1\n",
        "        if i >= len(capacity):\n",
        "            i = 0\n",
        "    if t <=0: return b\n",
        "    return -1\n",
        "\n",
        "t, c, r = 16, [2,5,6], [12,1,4]\n",
        "solution(t, c, r)"
      ],
      "metadata": {
        "colab": {
          "base_uri": "https://localhost:8080/"
        },
        "id": "ru9tQAD9Wke7",
        "outputId": "0d385245-152b-4a40-dc90-74d5d10c5326"
      },
      "execution_count": null,
      "outputs": [
        {
          "output_type": "stream",
          "name": "stdout",
          "text": [
            "0 14 2 [14, 0, 0]\n",
            "1 9 7 [14, 8, 0]\n",
            "2 3 13 [14, 8, 17]\n",
            "1 -2 18 [14, 19, 17]\n"
          ]
        },
        {
          "output_type": "execute_result",
          "data": {
            "text/plain": [
              "3"
            ]
          },
          "metadata": {},
          "execution_count": 2
        }
      ]
    },
    {
      "cell_type": "markdown",
      "source": [
        "### Coderbyte (CB)"
      ],
      "metadata": {
        "id": "tr-SnOnndiwQ"
      }
    },
    {
      "cell_type": "code",
      "source": [
        "# CB Bracket Matcher -actually parenthesis matcher\n",
        "def BracketMatcher(strParam):\n",
        "  s = []\n",
        "  for ch in strParam:\n",
        "    if ch == '(':\n",
        "      s.append(ch)\n",
        "    if ch == ')':\n",
        "      if not s or s.pop() != '(':\n",
        "        return 0\n",
        "  return 0 if s else 1\n",
        "\n",
        "# tests\n",
        "# p = \"(coder)(byte))\" # 0\n",
        "p = \"(c(oder)) b(yte)\" # 1\n",
        "BracketMatcher(p)"
      ],
      "metadata": {
        "colab": {
          "base_uri": "https://localhost:8080/"
        },
        "id": "jJUc4aH-dmVJ",
        "outputId": "cfcaa2fd-d4d7-4d08-e550-c24b476646ae"
      },
      "execution_count": null,
      "outputs": [
        {
          "output_type": "stream",
          "name": "stdout",
          "text": [
            "end []\n"
          ]
        },
        {
          "output_type": "execute_result",
          "data": {
            "text/plain": [
              "1"
            ]
          },
          "metadata": {},
          "execution_count": 25
        }
      ]
    }
  ],
  "metadata": {
    "colab": {
      "collapsed_sections": [],
      "provenance": [],
      "authorship_tag": "ABX9TyPa9nATpXp3ycQsI/pS3tib"
    },
    "kernelspec": {
      "display_name": "Python 3",
      "name": "python3"
    },
    "language_info": {
      "name": "python"
    }
  },
  "nbformat": 4,
  "nbformat_minor": 0
}