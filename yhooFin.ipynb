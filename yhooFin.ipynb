{
  "nbformat": 4,
  "nbformat_minor": 0,
  "metadata": {
    "colab": {
      "name": "yhooFin.ipynb",
      "provenance": [],
      "collapsed_sections": [
        "Gjpkut9CVvKV"
      ],
      "authorship_tag": "ABX9TyNbPRJOosgr43dIzAo2q4kI",
      "include_colab_link": true
    },
    "kernelspec": {
      "name": "python3",
      "display_name": "Python 3"
    },
    "language_info": {
      "name": "python"
    }
  },
  "cells": [
    {
      "cell_type": "markdown",
      "metadata": {
        "id": "view-in-github",
        "colab_type": "text"
      },
      "source": [
        "<a href=\"https://colab.research.google.com/github/lg550055/102-lab05/blob/main/yhooFin.ipynb\" target=\"_parent\"><img src=\"https://colab.research.google.com/assets/colab-badge.svg\" alt=\"Open In Colab\"/></a>"
      ]
    },
    {
      "cell_type": "code",
      "source": [
        "import re\n",
        "import json\n",
        "import requests\n",
        "headers={'User-Agent': 'Mozilla/5.0 (X11; Linux x86_64) (KHTML, like Gecko) Chrome/102.0.5005.63'}\n",
        "ticker = 'WMT'"
      ],
      "metadata": {
        "id": "KgvE0LZSNivT"
      },
      "execution_count": 3,
      "outputs": []
    },
    {
      "cell_type": "code",
      "source": [
        "url = 'https://finance.yahoo.com/quote/'+ ticker + '/analysis?p=' + ticker\n",
        "page = requests.get(url, headers=headers, timeout=5)\n",
        "data = json.loads(re.search('root\\.App\\.main\\s*=\\s*(.*);', page.text).group(1))[\"context\"][\"dispatcher\"][\"stores\"]\n",
        "# only the data[\"QuoteSummaryStore\"]['earningsTrend']['trend'] object has eps and rev estimates"
      ],
      "metadata": {
        "id": "1XXB8Yw-THJd"
      },
      "execution_count": 2,
      "outputs": []
    },
    {
      "cell_type": "code",
      "source": [
        "data['QuoteSummaryStore'].keys()"
      ],
      "metadata": {
        "colab": {
          "base_uri": "https://localhost:8080/"
        },
        "id": "E-kyb8FOkHsG",
        "outputId": "dd899889-d378-4bc6-d80d-54b3dfb6b985"
      },
      "execution_count": 5,
      "outputs": [
        {
          "output_type": "execute_result",
          "data": {
            "text/plain": [
              "dict_keys(['recommendationTrend', 'financialsTemplate', 'price', 'earningsHistory', 'indexTrend', 'financialData', 'earningsTrend', 'quoteType', 'sectorTrend', 'summaryDetail', 'symbol', 'upgradeDowngradeHistory', 'pageViews', 'industryTrend'])"
            ]
          },
          "metadata": {},
          "execution_count": 5
        }
      ]
    },
    {
      "cell_type": "code",
      "source": [
        "data['QuoteSummaryStore']['financialData'] # good snapshot summary\n",
        "data['QuoteSummaryStore']['summaryDetail'] # div, and x-div date, highs and lows\n",
        "data['QuoteSummaryStore']['industryTrend'] # empty\n",
        "data['QuoteSummaryStore']['sectorTrend'] # empty"
      ],
      "metadata": {
        "id": "uCFElCvmuzN3"
      },
      "execution_count": null,
      "outputs": []
    },
    {
      "cell_type": "code",
      "source": [
        "f = [t for t in data[\"QuoteSummaryStore\"][\"earningsTrend\"][\"trend\"] if t[\"period\"] in ['0y','+1y']]\n",
        "num_analysts = f[0]['earningsEstimate']['numberOfAnalysts']['fmt']\n",
        "fwd_eps = f[0]['earningsEstimate']['avg']['fmt']\n",
        "fwd_rev = f[0]['revenueEstimate']['avg']['raw']\n",
        "fwd_rev_g = f[0]['revenueEstimate']['growth']['raw']\n",
        "fwd2_eps = f[1]['earningsEstimate']['avg']['fmt']\n",
        "fwd2_rev = f[1]['revenueEstimate']['avg']['fmt']\n",
        "fwd2_rev_g = f[1]['revenueEstimate']['growth']['fmt']\n",
        "print(num_analysts, fwd_eps, fwd_rev, fwd_rev_g, fwd2_eps, fwd2_rev, fwd2_rev_g)\n",
        "# print(\"Next 5 Years (per annum) : \" + field[\"growth\"][\"fmt\"])"
      ],
      "metadata": {
        "colab": {
          "base_uri": "https://localhost:8080/"
        },
        "id": "TplmYzrOF574",
        "outputId": "ab4da383-f652-4712-b0c3-40f4bd996d02"
      },
      "execution_count": null,
      "outputs": [
        {
          "output_type": "stream",
          "name": "stdout",
          "text": [
            "35 6.41 595703000000 0.04 6.96 616.08B 3.40%\n"
          ]
        }
      ]
    },
    {
      "cell_type": "code",
      "source": [
        "# url for is, bs, cf -but not all items, e.g. q dil shrs or net debt\n",
        "url = 'https://finance.yahoo.com/quote/'+ ticker + '/financials?p=' + ticker\n",
        "page = requests.get(url, headers=headers, timeout=5)\n",
        "data = json.loads(re.search('root\\.App\\.main\\s*=\\s*(.*);', page.text).group(1))[\"context\"][\"dispatcher\"][\"stores\"]"
      ],
      "metadata": {
        "id": "ihc2EOcp813d"
      },
      "execution_count": 10,
      "outputs": []
    },
    {
      "cell_type": "code",
      "source": [
        "# data[\"RecommendationStore\"]['recommendedSimilarSymbols'] # a few others in the sector\n",
        "# data[\"QuoteSummaryStore\"]['incomeStatementHistoryQuarterly']['incomeStatementHistory'] # IS items x shr ct\n",
        "# data[\"QuoteSummaryStore\"]['balanceSheetHistoryQuarterly']['balanceSheetStatements'] # BS items (but not explicit net debt)\n",
        "# data[\"QuoteSummaryStore\"]['earnings'] # Q and A rev and net income\n",
        "# data[\"QuoteSummaryStore\"]['summaryDetail'] # price, vol, div, p/e, p/s\n",
        "data[\"QuoteTimeSeriesStore\"]['timeSeries'].keys() # annual and trailing IS items"
      ],
      "metadata": {
        "id": "0LXEkoTA1wr6"
      },
      "execution_count": null,
      "outputs": []
    },
    {
      "cell_type": "code",
      "source": [
        "# rev = data[\"QuoteSummaryStore\"]['incomeStatementHistory']['incomeStatementHistory'][0]['totalRevenue']['fmt']\n",
        "# eop = data[\"QuoteSummaryStore\"]['incomeStatementHistory']['incomeStatementHistory'][0]['endDate']['fmt']\n",
        "# bseop = data[\"QuoteSummaryStore\"]['balanceSheetHistory']['balanceSheetStatements'][0]['endDate']['fmt']\n",
        "# ebit = data[\"QuoteTimeSeriesStore\"]['timeSeries']['annualEBIT'][-1]['reportedValue']['raw'] / 1e9\n",
        "# dshrs = data[\"QuoteTimeSeriesStore\"]['timeSeries']['annualDilutedAverageShares'][-1]['reportedValue']['raw'] / 1e9\n",
        "# eps = data[\"QuoteTimeSeriesStore\"]['timeSeries']['annualDilutedEPS'][-1]['reportedValue']['fmt'] # for reference in this notebook\n",
        "\n",
        "eop = data[\"QuoteTimeSeriesStore\"]['timeSeries']['annualTotalRevenue'][-1]['asOfDate']\n",
        "rev = data[\"QuoteTimeSeriesStore\"]['timeSeries']['annualTotalRevenue'][-1]['reportedValue']['raw'] / 1e9\n",
        "ebitda = data[\"QuoteTimeSeriesStore\"]['timeSeries']['annualNormalizedEBITDA'][-1]['reportedValue']['raw'] / 1e9\n",
        "capex = data[\"QuoteSummaryStore\"]['cashflowStatementHistory']['cashflowStatements'][0]['capitalExpenditures']['raw'] / -1e9\n",
        "cfo = data[\"QuoteSummaryStore\"]['cashflowStatementHistory']['cashflowStatements'][0]['totalCashFromOperatingActivities']['raw'] / 1e9\n",
        "cfeop = data[\"QuoteSummaryStore\"]['cashflowStatementHistory']['cashflowStatements'][0]['endDate']['fmt']\n",
        "\n",
        "eop2 = data[\"QuoteTimeSeriesStore\"]['timeSeries']['annualTotalRevenue'][2]['asOfDate']\n",
        "rev2 = data[\"QuoteTimeSeriesStore\"]['timeSeries']['annualTotalRevenue'][2]['reportedValue']['raw'] / 1e9\n",
        "ebitda2 = data[\"QuoteTimeSeriesStore\"]['timeSeries']['annualNormalizedEBITDA'][2]['reportedValue']['raw'] / 1e9\n",
        "capex2 = data[\"QuoteSummaryStore\"]['cashflowStatementHistory']['cashflowStatements'][1]['capitalExpenditures']['raw'] / -1e9\n",
        "cfo2 = data[\"QuoteSummaryStore\"]['cashflowStatementHistory']['cashflowStatements'][1]['totalCashFromOperatingActivities']['raw'] / 1e9\n",
        "cfeop2 = data[\"QuoteSummaryStore\"]['cashflowStatementHistory']['cashflowStatements'][1]['endDate']['fmt']\n",
        "\n",
        "eop3 = data[\"QuoteTimeSeriesStore\"]['timeSeries']['annualTotalRevenue'][1]['asOfDate']\n",
        "rev3 = data[\"QuoteTimeSeriesStore\"]['timeSeries']['annualTotalRevenue'][1]['reportedValue']['raw'] / 1e9\n",
        "ebitda3 = data[\"QuoteTimeSeriesStore\"]['timeSeries']['annualNormalizedEBITDA'][1]['reportedValue']['raw'] / 1e9\n",
        "capex3 = data[\"QuoteSummaryStore\"]['cashflowStatementHistory']['cashflowStatements'][2]['capitalExpenditures']['raw'] / -1e9\n",
        "cfo3 = data[\"QuoteSummaryStore\"]['cashflowStatementHistory']['cashflowStatements'][2]['totalCashFromOperatingActivities']['raw'] / 1e9\n",
        "cfeop3 = data[\"QuoteSummaryStore\"]['cashflowStatementHistory']['cashflowStatements'][2]['endDate']['fmt']\n",
        "\n",
        "eop4 = data[\"QuoteTimeSeriesStore\"]['timeSeries']['annualTotalRevenue'][0]['asOfDate']\n",
        "rev4 = data[\"QuoteTimeSeriesStore\"]['timeSeries']['annualTotalRevenue'][0]['reportedValue']['raw'] / 1e9\n",
        "ebitda4 = data[\"QuoteTimeSeriesStore\"]['timeSeries']['annualNormalizedEBITDA'][0]['reportedValue']['raw'] / 1e9\n",
        "capex4 = data[\"QuoteSummaryStore\"]['cashflowStatementHistory']['cashflowStatements'][3]['capitalExpenditures']['raw'] / -1e9\n",
        "cfo4 = data[\"QuoteSummaryStore\"]['cashflowStatementHistory']['cashflowStatements'][3]['totalCashFromOperatingActivities']['raw'] / 1e9\n",
        "cfeop4 = data[\"QuoteSummaryStore\"]['cashflowStatementHistory']['cashflowStatements'][3]['endDate']['fmt']\n",
        "# print(eps, dshrs, eop, rev, ebit, ebitda, ebitda-capex, cfo, round(ebit/rev*100,1), round(ebitda/rev*100,1))\n",
        "trev = data[\"QuoteTimeSeriesStore\"]['timeSeries']['trailingTotalRevenue'][0]['reportedValue']['raw'] / 1e9\n",
        "treveop = data[\"QuoteTimeSeriesStore\"]['timeSeries']['trailingTotalRevenue'][0]['asOfDate']\n",
        "tebitda = data[\"QuoteTimeSeriesStore\"]['timeSeries']['trailingNormalizedEBITDA'][0]['reportedValue']['raw'] / 1e9\n",
        "print('trailing', treveop,trev,tebitda)\n",
        "print('prev yr',eop,rev,ebitda, capex, cfo, cfeop)\n",
        "print('p2 yr',eop2,rev2,ebitda2, capex2, cfo2, cfeop2)\n",
        "print('p3 yr',eop3,rev3,ebitda3, capex3, cfo3, cfeop3)\n",
        "print('p4 yr',eop4,rev4,ebitda4, capex4, cfo4, cfeop4)"
      ],
      "metadata": {
        "id": "F0GcQg8ARmm1",
        "colab": {
          "base_uri": "https://localhost:8080/"
        },
        "outputId": "db0e4ff0-d32d-48c9-ec33-9d2c123b6a25"
      },
      "execution_count": 14,
      "outputs": [
        {
          "output_type": "stream",
          "name": "stdout",
          "text": [
            "trailing 2022-04-30 576.013 32.723\n",
            "prev yr 2022-01-31 572.754 33.758 13.106 24.181 2022-01-31\n",
            "p2 yr 2021-01-31 559.151 34.031 10.264 36.074 2021-01-31\n",
            "p3 yr 2020-01-31 523.964 33.702 10.705 25.255 2020-01-31\n",
            "p4 yr 2019-01-31 514.405 24.484 10.344 27.753 2019-01-31\n"
          ]
        }
      ]
    },
    {
      "cell_type": "code",
      "source": [
        "# url for trailing CF items\n",
        "url = 'https://finance.yahoo.com/quote/'+ ticker + '/cash-flow?p=' + ticker\n",
        "page = requests.get(url, headers=headers, timeout=5)\n",
        "data = json.loads(re.search('root\\.App\\.main\\s*=\\s*(.*);', page.text).group(1))[\"context\"][\"dispatcher\"][\"stores\"]"
      ],
      "metadata": {
        "id": "5dS5_t4Ywcwz"
      },
      "execution_count": 6,
      "outputs": []
    },
    {
      "cell_type": "code",
      "source": [
        "data['QuoteTimeSeriesStore']['timeSeries'].keys()"
      ],
      "metadata": {
        "id": "7OSITWEWwnZr"
      },
      "execution_count": null,
      "outputs": []
    },
    {
      "cell_type": "code",
      "source": [
        "# data['QuoteTimeSeriesStore']['timeSeries']['annualCapitalExpenditure'] # list w 4 obj\n",
        "tcapex = data['QuoteTimeSeriesStore']['timeSeries']['trailingCapitalExpenditure'][0]['reportedValue']['raw'] / -1e9 # list w 1 obj\n",
        "tcfo = data['QuoteTimeSeriesStore']['timeSeries']['trailingOperatingCashFlow'][0]['reportedValue']['raw'] / 1e9 # list w 1 obj\n",
        "tcfoeop = data['QuoteTimeSeriesStore']['timeSeries']['trailingOperatingCashFlow'][0]['asOfDate']\n",
        "print('trailing',tcfoeop, tcapex, tcfo)"
      ],
      "metadata": {
        "colab": {
          "base_uri": "https://localhost:8080/"
        },
        "id": "vmDPWfP8xV5y",
        "outputId": "518474e6-8a24-414f-a0fe-19a0ed5f663a"
      },
      "execution_count": 8,
      "outputs": [
        {
          "output_type": "stream",
          "name": "stdout",
          "text": [
            "trailing 2022-04-30 14.431 17.565\n"
          ]
        }
      ]
    },
    {
      "cell_type": "code",
      "source": [
        "# url for netDebt\n",
        "url = 'https://finance.yahoo.com/quote/'+ ticker + '/balance-sheet?p=' + ticker\n",
        "page = requests.get(url, headers=headers, timeout=5)\n",
        "data = json.loads(re.search('root\\.App\\.main\\s*=\\s*(.*);', page.text).group(1))[\"context\"][\"dispatcher\"][\"stores\"]"
      ],
      "metadata": {
        "id": "QOfL7XzobJXY"
      },
      "execution_count": 16,
      "outputs": []
    },
    {
      "cell_type": "code",
      "source": [
        "ndebteop1 = data[\"QuoteTimeSeriesStore\"]['timeSeries']['annualNetDebt'][-1]['asOfDate'] # timeSeries is only object with data, has annual BS items\n",
        "ndebt1 = data[\"QuoteTimeSeriesStore\"]['timeSeries']['annualNetDebt'][-1]['reportedValue']['raw'] / 1e9\n",
        "ndebteop2 = data[\"QuoteTimeSeriesStore\"]['timeSeries']['annualNetDebt'][2]['asOfDate']\n",
        "ndebt2 = data[\"QuoteTimeSeriesStore\"]['timeSeries']['annualNetDebt'][2]['reportedValue']['raw'] / 1e9\n",
        "ndebteop3 = data[\"QuoteTimeSeriesStore\"]['timeSeries']['annualNetDebt'][1]['asOfDate']\n",
        "ndebt3 = data[\"QuoteTimeSeriesStore\"]['timeSeries']['annualNetDebt'][1]['reportedValue']['raw'] / 1e9\n",
        "ndebteop4 = data[\"QuoteTimeSeriesStore\"]['timeSeries']['annualNetDebt'][0]['asOfDate']\n",
        "ndebt4 = data[\"QuoteTimeSeriesStore\"]['timeSeries']['annualNetDebt'][0]['reportedValue']['raw'] / 1e9\n",
        "print('py', ndebteop1, ndebt1)\n",
        "print('py2', ndebteop2, ndebt2)\n",
        "print('py3', ndebteop3, ndebt3)\n",
        "print('py4', ndebteop4, ndebt4)"
      ],
      "metadata": {
        "colab": {
          "base_uri": "https://localhost:8080/"
        },
        "id": "Ycc1Eemo_hTq",
        "outputId": "d6a95157-bdc2-4035-e743-2f002de56487"
      },
      "execution_count": 19,
      "outputs": [
        {
          "output_type": "stream",
          "name": "stdout",
          "text": [
            "py 2022-01-31 23.317\n",
            "py2 2021-01-31 26.792\n",
            "py3 2020-01-31 40.186\n",
            "py4 2019-01-31 42.899\n"
          ]
        }
      ]
    },
    {
      "cell_type": "code",
      "source": [
        "url = 'https://finance.yahoo.com/quote/'+ ticker + '/profile?p=' + ticker\n",
        "page = requests.get(url, headers=headers, timeout=5)\n",
        "data = json.loads(re.search('root\\.App\\.main\\s*=\\s*(.*);', page.text).group(1))[\"context\"][\"dispatcher\"][\"stores\"]\n",
        "data.keys()"
      ],
      "metadata": {
        "colab": {
          "base_uri": "https://localhost:8080/"
        },
        "id": "tKL--6Je7BiF",
        "outputId": "355c2af8-a4aa-4d76-c3d2-bf8c3af232c8"
      },
      "execution_count": 20,
      "outputs": [
        {
          "output_type": "execute_result",
          "data": {
            "text/plain": [
              "dict_keys(['PageStore', 'MRTStore', 'RouteStore', 'I13nStore', 'PageTransitionStore', 'VideoPlayerStore', 'QuoteAutoCompleteStore', 'NavrailStore', 'StreamDataStore', 'QuoteSummaryStore', 'FinanceConfigStore', 'LangStore', 'BeaconStore', 'AdStore', 'VideoStore', 'ComponentConfigStore', 'CrumbStore', 'CompositeStore', 'MonalixaStore', 'StreamStore', 'UserStore', 'ProfileStore', 'QuotePageStore', 'MarketTimeStore', 'MarketSummaryStore', 'NavServiceStore', 'UHAccountSwitchStore', 'RmpStore', 'RecommendationStore', 'MobileHeaderStore'])"
            ]
          },
          "metadata": {},
          "execution_count": 20
        }
      ]
    },
    {
      "cell_type": "code",
      "source": [
        "data['QuoteSummaryStore'].keys()"
      ],
      "metadata": {
        "colab": {
          "base_uri": "https://localhost:8080/"
        },
        "id": "vv8rNB-d75C8",
        "outputId": "54c5360d-7c10-40a4-a40e-03aa8289ac61"
      },
      "execution_count": 48,
      "outputs": [
        {
          "output_type": "execute_result",
          "data": {
            "text/plain": [
              "dict_keys(['financialsTemplate', 'price', 'secFilings', 'quoteType', 'calendarEvents', 'summaryDetail', 'symbol', 'assetProfile', 'pageViews'])"
            ]
          },
          "metadata": {},
          "execution_count": 48
        }
      ]
    },
    {
      "cell_type": "code",
      "source": [
        "# data['QuoteSummaryStore']['secFilings'] # most recent sec filings\n",
        "data['QuoteSummaryStore']['assetProfile'].keys()"
      ],
      "metadata": {
        "colab": {
          "base_uri": "https://localhost:8080/"
        },
        "id": "Wh0Pliac8CRc",
        "outputId": "0be90a2e-1a51-4063-ea54-ae9e993142b7"
      },
      "execution_count": 52,
      "outputs": [
        {
          "output_type": "execute_result",
          "data": {
            "text/plain": [
              "dict_keys(['zip', 'sector', 'fullTimeEmployees', 'compensationRisk', 'auditRisk', 'longBusinessSummary', 'city', 'phone', 'state', 'shareHolderRightsRisk', 'compensationAsOfEpochDate', 'governanceEpochDate', 'boardRisk', 'country', 'companyOfficers', 'website', 'maxAge', 'overallRisk', 'address1', 'industry'])"
            ]
          },
          "metadata": {},
          "execution_count": 52
        }
      ]
    },
    {
      "cell_type": "code",
      "source": [
        "sector = data['QuoteSummaryStore']['assetProfile']['sector'] # invesment, e.g. WMT = consumer defensive\n",
        "industry = data['QuoteSummaryStore']['assetProfile']['industry'] # E.g. WMT = Discount Stores\n",
        "print('ind',industry, 'sec', sector)"
      ],
      "metadata": {
        "colab": {
          "base_uri": "https://localhost:8080/"
        },
        "id": "kd3LHd999FoW",
        "outputId": "4a08242a-6430-4d7a-b3eb-b0a4ba96833c"
      },
      "execution_count": 21,
      "outputs": [
        {
          "output_type": "stream",
          "name": "stdout",
          "text": [
            "ind Discount Stores sec Consumer Defensive\n"
          ]
        }
      ]
    },
    {
      "cell_type": "code",
      "source": [
        "url = 'https://finance.yahoo.com/quote/'+ ticker + '/key-statistics?p=' + ticker\n",
        "page = requests.get(url, headers=headers, timeout=5)\n",
        "data = json.loads(re.search('root\\.App\\.main\\s*=\\s*(.*);', page.text).group(1))[\"context\"][\"dispatcher\"][\"stores\"]\n",
        "data.keys()"
      ],
      "metadata": {
        "colab": {
          "base_uri": "https://localhost:8080/"
        },
        "id": "Ihv_axwhCNVQ",
        "outputId": "e6556e49-c7e0-4d67-f84a-b4fa20bf8edd"
      },
      "execution_count": 22,
      "outputs": [
        {
          "output_type": "execute_result",
          "data": {
            "text/plain": [
              "dict_keys(['PageStore', 'MRTStore', 'RouteStore', 'I13nStore', 'PageTransitionStore', 'VideoPlayerStore', 'QuoteAutoCompleteStore', 'NavrailStore', 'StreamDataStore', 'QuoteSummaryStore', 'FinanceConfigStore', 'LangStore', 'BeaconStore', 'AdStore', 'VideoStore', 'ComponentConfigStore', 'CrumbStore', 'CompositeStore', 'MonalixaStore', 'StreamStore', 'UserStore', 'ProfileStore', 'QuotePageStore', 'QuoteTimeSeriesStore', 'MarketTimeStore', 'MarketSummaryStore', 'NavServiceStore', 'UHAccountSwitchStore', 'RmpStore', 'RecommendationStore', 'MobileHeaderStore'])"
            ]
          },
          "metadata": {},
          "execution_count": 22
        }
      ]
    },
    {
      "cell_type": "code",
      "source": [
        "shrso = data['QuoteSummaryStore']['defaultKeyStatistics']['sharesOutstanding']['raw'] / 1e9\n",
        "print(shrso)"
      ],
      "metadata": {
        "colab": {
          "base_uri": "https://localhost:8080/"
        },
        "id": "36uDqHnHF778",
        "outputId": "7f423631-1741-486e-8036-0307453308ff"
      },
      "execution_count": 24,
      "outputs": [
        {
          "output_type": "stream",
          "name": "stdout",
          "text": [
            "2.741149952\n"
          ]
        }
      ]
    },
    {
      "cell_type": "code",
      "source": [
        "data['QuoteTimeSeriesStore'].keys()\n",
        "data['QuoteTimeSeriesStore']['timeSeries'].keys()"
      ],
      "metadata": {
        "colab": {
          "base_uri": "https://localhost:8080/"
        },
        "id": "mmGendo1CYPz",
        "outputId": "8412bd75-6a09-47a3-b905-984a8b31c1b4"
      },
      "execution_count": 60,
      "outputs": [
        {
          "output_type": "execute_result",
          "data": {
            "text/plain": [
              "dict_keys(['quarterlyEnterprisesValueEBITDARatio', 'trailingMarketCap', 'trailingPegRatio', 'quarterlyPeRatio', 'quarterlyMarketCap', 'trailingEnterprisesValueEBITDARatio', 'quarterlyPegRatio', 'quarterlyPsRatio', 'trailingEnterpriseValue', 'quarterlyEnterpriseValue', 'trailingForwardPeRatio', 'trailingPeRatio', 'quarterlyEnterprisesValueRevenueRatio', 'quarterlyForwardPeRatio', 'trailingPsRatio', 'trailingPbRatio', 'quarterlyPbRatio', 'trailingEnterprisesValueRevenueRatio', 'timestamp'])"
            ]
          },
          "metadata": {},
          "execution_count": 60
        }
      ]
    },
    {
      "cell_type": "code",
      "source": [
        "data['QuoteSummaryStore'].keys()"
      ],
      "metadata": {
        "colab": {
          "base_uri": "https://localhost:8080/"
        },
        "id": "bTNxjiXZFCus",
        "outputId": "c6200654-4a67-48c8-82e4-7d3d99c7a33c"
      },
      "execution_count": 61,
      "outputs": [
        {
          "output_type": "execute_result",
          "data": {
            "text/plain": [
              "dict_keys(['defaultKeyStatistics', 'financialsTemplate', 'price', 'financialData', 'quoteType', 'calendarEvents', 'summaryDetail', 'symbol', 'pageViews'])"
            ]
          },
          "metadata": {},
          "execution_count": 61
        }
      ]
    },
    {
      "cell_type": "code",
      "source": [
        "data['QuoteSummaryStore']['defaultKeyStatistics'].keys()"
      ],
      "metadata": {
        "colab": {
          "base_uri": "https://localhost:8080/"
        },
        "id": "ckKeA1qsFL5S",
        "outputId": "93dd95f0-6605-45a7-b273-cd50fec52c87"
      },
      "execution_count": 62,
      "outputs": [
        {
          "output_type": "execute_result",
          "data": {
            "text/plain": [
              "dict_keys(['annualHoldingsTurnover', 'enterpriseToRevenue', 'beta3Year', 'profitMargins', 'enterpriseToEbitda', '52WeekChange', 'morningStarRiskRating', 'forwardEps', 'revenueQuarterlyGrowth', 'sharesOutstanding', 'fundInceptionDate', 'annualReportExpenseRatio', 'totalAssets', 'bookValue', 'sharesShort', 'sharesPercentSharesOut', 'fundFamily', 'lastFiscalYearEnd', 'heldPercentInstitutions', 'netIncomeToCommon', 'trailingEps', 'lastDividendValue', 'SandP52WeekChange', 'priceToBook', 'heldPercentInsiders', 'nextFiscalYearEnd', 'yield', 'mostRecentQuarter', 'shortRatio', 'sharesShortPreviousMonthDate', 'floatShares', 'beta', 'enterpriseValue', 'priceHint', 'threeYearAverageReturn', 'lastSplitDate', 'lastSplitFactor', 'legalType', 'lastDividendDate', 'morningStarOverallRating', 'earningsQuarterlyGrowth', 'priceToSalesTrailing12Months', 'dateShortInterest', 'pegRatio', 'ytdReturn', 'forwardPE', 'maxAge', 'lastCapGain', 'shortPercentOfFloat', 'sharesShortPriorMonth', 'impliedSharesOutstanding', 'category', 'fiveYearAverageReturn'])"
            ]
          },
          "metadata": {},
          "execution_count": 62
        }
      ]
    },
    {
      "cell_type": "code",
      "source": [
        "data['QuoteSummaryStore']['financialData'] # price, fins snapshot summary"
      ],
      "metadata": {
        "id": "-lpEmLl4GNZg"
      },
      "execution_count": null,
      "outputs": []
    },
    {
      "cell_type": "markdown",
      "source": [
        "## Selenium"
      ],
      "metadata": {
        "id": "Gjpkut9CVvKV"
      }
    },
    {
      "cell_type": "code",
      "source": [
        "!pip install selenium\n",
        "!apt-get update \n",
        "!apt install chromium-chromedriver\n",
        "\n",
        "from selenium import webdriver\n",
        "chrome_options = webdriver.ChromeOptions()\n",
        "chrome_options.add_argument('--headless')\n",
        "chrome_options.add_argument('--no-sandbox')\n",
        "chrome_options.add_argument('--disable-dev-shm-usage')"
      ],
      "metadata": {
        "id": "yevJpSgbV2uh"
      },
      "execution_count": null,
      "outputs": []
    },
    {
      "cell_type": "code",
      "source": [
        "d = webdriver.Chrome('chromedriver',chrome_options=chrome_options)\n",
        "ss = input('Stock symbol?')\n",
        "d.get(f'https://finance.yahoo.com/quote/{ss}/analysis?p={ss}')\n",
        "main = d.find_element_by_id('Main')\n",
        "tds = main.find_elements_by_tag_name('td')\n",
        "if tds:\n",
        "  data = [e.text for e in tds]\n",
        "  print(data[0],data[4],data[5],data[8],data[9],data[30],data[33],data[34],data[50],data[53],data[54])\n",
        "else:\n",
        "  print('no data')\n",
        "d.quit()"
      ],
      "metadata": {
        "id": "Y84b3OeeV8nl"
      },
      "execution_count": null,
      "outputs": []
    }
  ]
}