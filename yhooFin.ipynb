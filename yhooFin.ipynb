{
  "nbformat": 4,
  "nbformat_minor": 0,
  "metadata": {
    "colab": {
      "name": "yhooFin.ipynb",
      "provenance": [],
      "collapsed_sections": [
        "Gjpkut9CVvKV"
      ],
      "authorship_tag": "ABX9TyOuVFdkWzHj+0GuddcEgwkO",
      "include_colab_link": true
    },
    "kernelspec": {
      "name": "python3",
      "display_name": "Python 3"
    },
    "language_info": {
      "name": "python"
    }
  },
  "cells": [
    {
      "cell_type": "markdown",
      "metadata": {
        "id": "view-in-github",
        "colab_type": "text"
      },
      "source": [
        "<a href=\"https://colab.research.google.com/github/lg550055/102-lab05/blob/main/yhooFin.ipynb\" target=\"_parent\"><img src=\"https://colab.research.google.com/assets/colab-badge.svg\" alt=\"Open In Colab\"/></a>"
      ]
    },
    {
      "cell_type": "code",
      "source": [
        "import re\n",
        "import json\n",
        "import requests\n",
        "headers={'User-Agent': 'Mozilla/5.0 (X11; Linux x86_64) (KHTML, like Gecko) Chrome/102.0.5005.63'}\n",
        "ticker = 'META'"
      ],
      "metadata": {
        "id": "KgvE0LZSNivT"
      },
      "execution_count": 20,
      "outputs": []
    },
    {
      "cell_type": "code",
      "source": [
        "url = 'https://finance.yahoo.com/quote/'+ ticker + '/analysis?p=' + ticker\n",
        "page = requests.get(url, headers=headers, timeout=5)\n",
        "data = json.loads(re.search('root\\.App\\.main\\s*=\\s*(.*);', page.text).group(1))[\"context\"][\"dispatcher\"][\"stores\"]\n",
        "# only the data[\"QuoteSummaryStore\"]['earningsTrend']['trend'] object has eps and rev estimates"
      ],
      "metadata": {
        "id": "1XXB8Yw-THJd"
      },
      "execution_count": 2,
      "outputs": []
    },
    {
      "cell_type": "code",
      "source": [
        "data['QuoteSummaryStore'].keys()"
      ],
      "metadata": {
        "id": "E-kyb8FOkHsG"
      },
      "execution_count": null,
      "outputs": []
    },
    {
      "cell_type": "code",
      "source": [
        "data['QuoteSummaryStore']['financialData'] # good snapshot summary\n",
        "data['QuoteSummaryStore']['summaryDetail'] # div, and x-div date, highs and lows\n",
        "data['QuoteSummaryStore']['industryTrend'] # empty\n",
        "data['QuoteSummaryStore']['sectorTrend'] # empty"
      ],
      "metadata": {
        "id": "uCFElCvmuzN3"
      },
      "execution_count": null,
      "outputs": []
    },
    {
      "cell_type": "code",
      "source": [
        "f = [t for t in data[\"QuoteSummaryStore\"][\"earningsTrend\"][\"trend\"] if t[\"period\"] in ['0y','+1y']]\n",
        "num_analysts = f[0]['earningsEstimate']['numberOfAnalysts']['fmt']\n",
        "fwd_eps = f[0]['earningsEstimate']['avg']['fmt']\n",
        "fwd_rev = f[0]['revenueEstimate']['avg']['raw']\n",
        "fwd_rev_g = f[0]['revenueEstimate']['growth']['raw']\n",
        "fwd2_eps = f[1]['earningsEstimate']['avg']['fmt']\n",
        "fwd2_rev = f[1]['revenueEstimate']['avg']['fmt']\n",
        "fwd2_rev_g = f[1]['revenueEstimate']['growth']['fmt']\n",
        "print(num_analysts, fwd_eps, fwd_rev, fwd_rev_g, fwd2_eps, fwd2_rev, fwd2_rev_g)\n",
        "# print(\"Next 5 Years (per annum) : \" + field[\"growth\"][\"fmt\"])"
      ],
      "metadata": {
        "colab": {
          "base_uri": "https://localhost:8080/"
        },
        "id": "TplmYzrOF574",
        "outputId": "e95276ad-6f4d-4525-d59e-e0ea6dcd4503"
      },
      "execution_count": 3,
      "outputs": [
        {
          "output_type": "stream",
          "name": "stdout",
          "text": [
            "11 13.37 8498660000 -0.12100001 15.16 8.49B -0.10%\n"
          ]
        }
      ]
    },
    {
      "cell_type": "code",
      "source": [
        "# url for is, bs, cf -but not all items, e.g. q dil shrs or net debt\n",
        "url = 'https://finance.yahoo.com/quote/'+ ticker + '/financials?p=' + ticker\n",
        "page = requests.get(url, headers=headers, timeout=5)\n",
        "data = json.loads(re.search('root\\.App\\.main\\s*=\\s*(.*);', page.text).group(1))[\"context\"][\"dispatcher\"][\"stores\"]"
      ],
      "metadata": {
        "id": "ihc2EOcp813d"
      },
      "execution_count": 16,
      "outputs": []
    },
    {
      "cell_type": "code",
      "source": [
        "# data[\"RecommendationStore\"]['recommendedSimilarSymbols'] # a few others in the sector\n",
        "# data[\"QuoteSummaryStore\"]['incomeStatementHistoryQuarterly']['incomeStatementHistory'] # IS items x shr ct\n",
        "# data[\"QuoteSummaryStore\"]['balanceSheetHistoryQuarterly']['balanceSheetStatements'] # BS items (but not explicit net debt)\n",
        "# data[\"QuoteSummaryStore\"]['earnings'] # Q and A rev and net income\n",
        "# data[\"QuoteSummaryStore\"]['summaryDetail'] # price, vol, div, p/e, p/s\n",
        "# rev = data[\"QuoteSummaryStore\"]['incomeStatementHistory']['incomeStatementHistory'][0]['totalRevenue']['fmt']\n",
        "# eop = data[\"QuoteSummaryStore\"]['incomeStatementHistory']['incomeStatementHistory'][0]['endDate']['fmt']\n",
        "# bseop = data[\"QuoteSummaryStore\"]['balanceSheetHistory']['balanceSheetStatements'][0]['endDate']['fmt']\n",
        "# ebit = data[\"QuoteTimeSeriesStore\"]['timeSeries']['annualEBIT'][-1]['reportedValue']['raw'] / 1e9\n",
        "# dshrs = data[\"QuoteTimeSeriesStore\"]['timeSeries']['annualDilutedAverageShares'][-1]['reportedValue']['raw'] / 1e9\n",
        "# eps = data[\"QuoteTimeSeriesStore\"]['timeSeries']['annualDilutedEPS'][-1]['reportedValue']['fmt']\n",
        "data[\"QuoteTimeSeriesStore\"]['timeSeries'].keys() # annual and trailing IS items"
      ],
      "metadata": {
        "id": "0LXEkoTA1wr6"
      },
      "execution_count": null,
      "outputs": []
    },
    {
      "cell_type": "code",
      "source": [
        "# IS, CF items for prev 4 fy and IS for TTM\n",
        "date1 = data[\"QuoteTimeSeriesStore\"]['timeSeries']['annualTotalRevenue'][-1]['asOfDate']\n",
        "rev1 = data[\"QuoteTimeSeriesStore\"]['timeSeries']['annualTotalRevenue'][-1]['reportedValue']['raw'] / 1e9\n",
        "cfo1 = data[\"QuoteSummaryStore\"]['cashflowStatementHistory']['cashflowStatements'][0]['totalCashFromOperatingActivities']['raw'] / 1e9\n",
        "\n",
        "date2 = data[\"QuoteTimeSeriesStore\"]['timeSeries']['annualTotalRevenue'][2]['asOfDate']\n",
        "rev2 = data[\"QuoteTimeSeriesStore\"]['timeSeries']['annualTotalRevenue'][2]['reportedValue']['raw'] / 1e9\n",
        "cfo2 = data[\"QuoteSummaryStore\"]['cashflowStatementHistory']['cashflowStatements'][1]['totalCashFromOperatingActivities']['raw'] / 1e9\n",
        "\n",
        "date3 = data[\"QuoteTimeSeriesStore\"]['timeSeries']['annualTotalRevenue'][1]['asOfDate']\n",
        "rev3 = data[\"QuoteTimeSeriesStore\"]['timeSeries']['annualTotalRevenue'][1]['reportedValue']['raw'] / 1e9\n",
        "cfo3 = data[\"QuoteSummaryStore\"]['cashflowStatementHistory']['cashflowStatements'][2]['totalCashFromOperatingActivities']['raw'] / 1e9\n",
        "\n",
        "date4 = data[\"QuoteTimeSeriesStore\"]['timeSeries']['annualTotalRevenue'][0]['asOfDate']\n",
        "rev4 = data[\"QuoteTimeSeriesStore\"]['timeSeries']['annualTotalRevenue'][0]['reportedValue']['raw'] / 1e9\n",
        "cfo4 = data[\"QuoteSummaryStore\"]['cashflowStatementHistory']['cashflowStatements'][3]['totalCashFromOperatingActivities']['raw'] / 1e9\n",
        "# print(eps, dshrs, eop, rev, ebit, ebitda, ebitda-capex, cfo, round(ebit/rev*100,1), round(ebitda/rev*100,1))\n",
        "trail_rev = data[\"QuoteTimeSeriesStore\"]['timeSeries']['trailingTotalRevenue'][0]['reportedValue']['raw'] / 1e9\n",
        "trail_date = data[\"QuoteTimeSeriesStore\"]['timeSeries']['trailingTotalRevenue'][0]['asOfDate']\n",
        "\n",
        "if len(data[\"QuoteTimeSeriesStore\"]['timeSeries']['annualNormalizedEBITDA']) == 4:\n",
        "  ebitda1 = data[\"QuoteTimeSeriesStore\"]['timeSeries']['annualNormalizedEBITDA'][-1]['reportedValue']['raw'] / 1e9\n",
        "  capex1 = data[\"QuoteSummaryStore\"]['cashflowStatementHistory']['cashflowStatements'][0]['capitalExpenditures']['raw'] / -1e9\n",
        "  ebitda2 = data[\"QuoteTimeSeriesStore\"]['timeSeries']['annualNormalizedEBITDA'][2]['reportedValue']['raw'] / 1e9\n",
        "  capex2 = data[\"QuoteSummaryStore\"]['cashflowStatementHistory']['cashflowStatements'][1]['capitalExpenditures']['raw'] / -1e9\n",
        "  ebitda3 = data[\"QuoteTimeSeriesStore\"]['timeSeries']['annualNormalizedEBITDA'][1]['reportedValue']['raw'] / 1e9\n",
        "  capex3 = data[\"QuoteSummaryStore\"]['cashflowStatementHistory']['cashflowStatements'][2]['capitalExpenditures']['raw'] / -1e9\n",
        "  ebitda4 = data[\"QuoteTimeSeriesStore\"]['timeSeries']['annualNormalizedEBITDA'][0]['reportedValue']['raw'] / 1e9\n",
        "  capex4 = data[\"QuoteSummaryStore\"]['cashflowStatementHistory']['cashflowStatements'][3]['capitalExpenditures']['raw'] / -1e9\n",
        "  trail_ebitda = data[\"QuoteTimeSeriesStore\"]['timeSeries']['trailingNormalizedEBITDA'][0]['reportedValue']['raw'] / 1e9\n",
        "else:\n",
        "  ebitda4 = ebitda3 = ebitda2 = ebitda1 = trail_ebitda = None\n",
        "  capex4 = capex3 = capex2 = capex1 = None\n",
        "print('TTM', trail_date,trail_rev,trail_ebitda)\n",
        "print('p1 ',date1,rev1,ebitda1, capex1, cfo1)\n",
        "print('p2 ',date2,rev2,ebitda2, capex2, cfo2)\n",
        "print('p3 ',date3,rev3,ebitda3, capex3, cfo3)\n",
        "print('p4 ',date4,rev4,ebitda4, capex4, cfo4)"
      ],
      "metadata": {
        "id": "F0GcQg8ARmm1",
        "colab": {
          "base_uri": "https://localhost:8080/"
        },
        "outputId": "ce688df2-fc68-43e0-ec22-e426b2a98edd"
      },
      "execution_count": 18,
      "outputs": [
        {
          "output_type": "stream",
          "name": "stdout",
          "text": [
            "TTM 2022-03-31 7.553 None\n",
            "p1  2021-12-31 5.751 None None 0.746\n",
            "p2  2020-12-31 8.266 None None 0.888\n",
            "p3  2019-12-31 6.554 None None 1.828\n",
            "p4  2018-12-31 8.925 None None 3.062\n"
          ]
        }
      ]
    },
    {
      "cell_type": "code",
      "source": [
        "# url for trailing CF items\n",
        "url = 'https://finance.yahoo.com/quote/'+ ticker + '/cash-flow?p=' + ticker\n",
        "page = requests.get(url, headers=headers, timeout=5)\n",
        "data = json.loads(re.search('root\\.App\\.main\\s*=\\s*(.*);', page.text).group(1))[\"context\"][\"dispatcher\"][\"stores\"]['QuoteTimeSeriesStore']['timeSeries']"
      ],
      "metadata": {
        "id": "5dS5_t4Ywcwz"
      },
      "execution_count": 28,
      "outputs": []
    },
    {
      "cell_type": "code",
      "source": [
        "data.keys() # data['annualCapitalExpenditure'] # list w 4 obj"
      ],
      "metadata": {
        "id": "7OSITWEWwnZr"
      },
      "execution_count": null,
      "outputs": []
    },
    {
      "cell_type": "code",
      "source": [
        "trail_capex = None\n",
        "if data['trailingCapitalExpenditure']:\n",
        "  trail_capex = data['trailingCapitalExpenditure'][0]['reportedValue']['raw'] / -1e9 # list w 1 obj\n",
        "trail_cfo = data['trailingOperatingCashFlow'][0]['reportedValue']['raw'] / 1e9 # list w 1 obj\n",
        "trail_date = data['trailingOperatingCashFlow'][0]['asOfDate']\n",
        "print('TTM',trail_date, trail_capex, trail_cfo)"
      ],
      "metadata": {
        "colab": {
          "base_uri": "https://localhost:8080/"
        },
        "id": "vmDPWfP8xV5y",
        "outputId": "28332d1d-eb86-469a-f9ea-ac832572be01"
      },
      "execution_count": 29,
      "outputs": [
        {
          "output_type": "stream",
          "name": "stdout",
          "text": [
            "TTM 2022-03-31 19.705 59.517\n"
          ]
        }
      ]
    },
    {
      "cell_type": "markdown",
      "source": [
        "#### Net debt"
      ],
      "metadata": {
        "id": "xaGJoybSP1Kt"
      }
    },
    {
      "cell_type": "code",
      "source": [
        "# url for netDebt\n",
        "url = 'https://finance.yahoo.com/quote/'+ ticker + '/balance-sheet?p=' + ticker\n",
        "page = requests.get(url, headers=headers, timeout=5)\n",
        "data = json.loads(re.search('root\\.App\\.main\\s*=\\s*(.*);', page.text).group(1))[\"context\"][\"dispatcher\"][\"stores\"][\"QuoteTimeSeriesStore\"]['timeSeries']['annualNetDebt']"
      ],
      "metadata": {
        "id": "QOfL7XzobJXY"
      },
      "execution_count": 35,
      "outputs": []
    },
    {
      "cell_type": "code",
      "source": [
        "data # list w netDebt objs; timeSeries only obj with data, has annual BS items"
      ],
      "metadata": {
        "colab": {
          "base_uri": "https://localhost:8080/"
        },
        "id": "vQh7DGWzQX3S",
        "outputId": "3a5b8ebc-3e0d-44e1-b5fd-409ee5048536"
      },
      "execution_count": 31,
      "outputs": [
        {
          "output_type": "execute_result",
          "data": {
            "text/plain": [
              "[]"
            ]
          },
          "metadata": {},
          "execution_count": 31
        }
      ]
    },
    {
      "cell_type": "code",
      "source": [
        "ndebt1 = ndebt2 = ndebt3 = ndebt4 = None\n",
        "if len(data) == 4:\n",
        "  ndebt1 = data[3]['reportedValue']['raw'] / 1e9 if data[3] else None\n",
        "  ndebt2 = data[2]['reportedValue']['raw'] / 1e9 if data[2] else None\n",
        "  ndebt3 = data[1]['reportedValue']['raw'] / 1e9 if data[1] else None\n",
        "  ndebt4 = data[0]['reportedValue']['raw'] / 1e9 if data[0] else None\n",
        "print(ndebt1, ndebt2, ndebt3, ndebt4)"
      ],
      "metadata": {
        "colab": {
          "base_uri": "https://localhost:8080/"
        },
        "id": "AnAstA25C8nm",
        "outputId": "cc4c4aa9-5ebe-4cd3-b6e7-077a09231b4a"
      },
      "execution_count": 36,
      "outputs": [
        {
          "output_type": "stream",
          "name": "stdout",
          "text": [
            "23.317 26.792 40.186 42.899\n"
          ]
        }
      ]
    },
    {
      "cell_type": "code",
      "source": [
        "# url for industry and sector\n",
        "url = 'https://finance.yahoo.com/quote/'+ ticker + '/profile?p=' + ticker\n",
        "page = requests.get(url, headers=headers, timeout=5)\n",
        "data = json.loads(re.search('root\\.App\\.main\\s*=\\s*(.*);', page.text).group(1))[\"context\"][\"dispatcher\"][\"stores\"]['QuoteSummaryStore']['assetProfile']\n",
        "#data.keys()"
      ],
      "metadata": {
        "colab": {
          "base_uri": "https://localhost:8080/"
        },
        "id": "tKL--6Je7BiF",
        "outputId": "81d72ca0-b544-4ebd-b2c0-ed75adec5f12"
      },
      "execution_count": 37,
      "outputs": [
        {
          "output_type": "execute_result",
          "data": {
            "text/plain": [
              "dict_keys(['zip', 'sector', 'fullTimeEmployees', 'compensationRisk', 'auditRisk', 'longBusinessSummary', 'city', 'phone', 'state', 'shareHolderRightsRisk', 'compensationAsOfEpochDate', 'governanceEpochDate', 'boardRisk', 'country', 'companyOfficers', 'website', 'maxAge', 'overallRisk', 'address1', 'industry'])"
            ]
          },
          "metadata": {},
          "execution_count": 37
        }
      ]
    },
    {
      "cell_type": "code",
      "source": [
        "sector = data['sector'] # invesment, e.g. WMT = consumer defensive\n",
        "industry = data['industry'] # E.g. WMT = Discount Stores\n",
        "print('ind:',industry, 'sec:', sector)"
      ],
      "metadata": {
        "colab": {
          "base_uri": "https://localhost:8080/"
        },
        "id": "kd3LHd999FoW",
        "outputId": "d92f9400-eda2-4ba8-d2a8-4460f0ebbfae"
      },
      "execution_count": 38,
      "outputs": [
        {
          "output_type": "stream",
          "name": "stdout",
          "text": [
            "ind: Discount Stores sec: Consumer Defensive\n"
          ]
        }
      ]
    },
    {
      "cell_type": "code",
      "source": [
        "# url for shrs outstanding\n",
        "url = 'https://finance.yahoo.com/quote/'+ ticker + '/key-statistics?p=' + ticker\n",
        "page = requests.get(url, headers=headers, timeout=5)\n",
        "data = json.loads(re.search('root\\.App\\.main\\s*=\\s*(.*);', page.text).group(1))[\"context\"][\"dispatcher\"][\"stores\"]['QuoteSummaryStore']['defaultKeyStatistics']\n",
        "data.keys()"
      ],
      "metadata": {
        "colab": {
          "base_uri": "https://localhost:8080/"
        },
        "id": "Ihv_axwhCNVQ",
        "outputId": "351f90f5-4a3c-42e5-9575-e495ee5631ca"
      },
      "execution_count": 39,
      "outputs": [
        {
          "output_type": "execute_result",
          "data": {
            "text/plain": [
              "dict_keys(['annualHoldingsTurnover', 'enterpriseToRevenue', 'beta3Year', 'profitMargins', 'enterpriseToEbitda', '52WeekChange', 'morningStarRiskRating', 'forwardEps', 'revenueQuarterlyGrowth', 'sharesOutstanding', 'fundInceptionDate', 'annualReportExpenseRatio', 'totalAssets', 'bookValue', 'sharesShort', 'sharesPercentSharesOut', 'fundFamily', 'lastFiscalYearEnd', 'heldPercentInstitutions', 'netIncomeToCommon', 'trailingEps', 'lastDividendValue', 'SandP52WeekChange', 'priceToBook', 'heldPercentInsiders', 'nextFiscalYearEnd', 'yield', 'mostRecentQuarter', 'shortRatio', 'sharesShortPreviousMonthDate', 'floatShares', 'beta', 'enterpriseValue', 'priceHint', 'threeYearAverageReturn', 'lastSplitDate', 'lastSplitFactor', 'legalType', 'lastDividendDate', 'morningStarOverallRating', 'earningsQuarterlyGrowth', 'priceToSalesTrailing12Months', 'dateShortInterest', 'pegRatio', 'ytdReturn', 'forwardPE', 'maxAge', 'lastCapGain', 'shortPercentOfFloat', 'sharesShortPriorMonth', 'impliedSharesOutstanding', 'category', 'fiveYearAverageReturn'])"
            ]
          },
          "metadata": {},
          "execution_count": 39
        }
      ]
    },
    {
      "cell_type": "code",
      "source": [
        "shrs_out = data['sharesOutstanding']['raw'] / 1e9\n",
        "print(shrs_out)"
      ],
      "metadata": {
        "colab": {
          "base_uri": "https://localhost:8080/"
        },
        "id": "36uDqHnHF778",
        "outputId": "f6744210-f380-4551-bce5-b0b3959ee458"
      },
      "execution_count": 40,
      "outputs": [
        {
          "output_type": "stream",
          "name": "stdout",
          "text": [
            "2.741149952\n"
          ]
        }
      ]
    },
    {
      "cell_type": "code",
      "source": [
        "data['QuoteTimeSeriesStore'].keys()\n",
        "data['QuoteTimeSeriesStore']['timeSeries'].keys()"
      ],
      "metadata": {
        "id": "mmGendo1CYPz"
      },
      "execution_count": null,
      "outputs": []
    },
    {
      "cell_type": "code",
      "source": [
        "data['QuoteSummaryStore']['financialData'] # price, fins snapshot summary"
      ],
      "metadata": {
        "id": "-lpEmLl4GNZg"
      },
      "execution_count": null,
      "outputs": []
    },
    {
      "cell_type": "markdown",
      "source": [
        "## Selenium"
      ],
      "metadata": {
        "id": "Gjpkut9CVvKV"
      }
    },
    {
      "cell_type": "code",
      "source": [
        "!pip install selenium\n",
        "!apt-get update \n",
        "!apt install chromium-chromedriver\n",
        "\n",
        "from selenium import webdriver\n",
        "chrome_options = webdriver.ChromeOptions()\n",
        "chrome_options.add_argument('--headless')\n",
        "chrome_options.add_argument('--no-sandbox')\n",
        "chrome_options.add_argument('--disable-dev-shm-usage')"
      ],
      "metadata": {
        "id": "yevJpSgbV2uh"
      },
      "execution_count": null,
      "outputs": []
    },
    {
      "cell_type": "code",
      "source": [
        "d = webdriver.Chrome('chromedriver',chrome_options=chrome_options)\n",
        "ss = input('Stock symbol?')\n",
        "d.get(f'https://finance.yahoo.com/quote/{ss}/analysis?p={ss}')\n",
        "main = d.find_element_by_id('Main')\n",
        "tds = main.find_elements_by_tag_name('td')\n",
        "if tds:\n",
        "  data = [e.text for e in tds]\n",
        "  print(data[0],data[4],data[5],data[8],data[9],data[30],data[33],data[34],data[50],data[53],data[54])\n",
        "else:\n",
        "  print('no data')\n",
        "d.quit()"
      ],
      "metadata": {
        "id": "Y84b3OeeV8nl"
      },
      "execution_count": null,
      "outputs": []
    }
  ]
}