{
  "nbformat": 4,
  "nbformat_minor": 0,
  "metadata": {
    "colab": {
      "name": "yhooFin.ipynb",
      "provenance": [],
      "collapsed_sections": [
        "Gjpkut9CVvKV"
      ],
      "authorship_tag": "ABX9TyNbAQ0cqbSOsAJ58B6/zytD",
      "include_colab_link": true
    },
    "kernelspec": {
      "name": "python3",
      "display_name": "Python 3"
    },
    "language_info": {
      "name": "python"
    }
  },
  "cells": [
    {
      "cell_type": "markdown",
      "metadata": {
        "id": "view-in-github",
        "colab_type": "text"
      },
      "source": [
        "<a href=\"https://colab.research.google.com/github/lg550055/102-lab05/blob/main/yhooFin.ipynb\" target=\"_parent\"><img src=\"https://colab.research.google.com/assets/colab-badge.svg\" alt=\"Open In Colab\"/></a>"
      ]
    },
    {
      "cell_type": "code",
      "source": [
        "import re\n",
        "import json\n",
        "import requests\n",
        "headers={'User-Agent': 'Mozilla/5.0 (X11; Linux x86_64) (KHTML, like Gecko) Chrome/102.0.5005.63'}\n",
        "ticker = 'WMT'"
      ],
      "metadata": {
        "id": "KgvE0LZSNivT"
      },
      "execution_count": 1,
      "outputs": []
    },
    {
      "cell_type": "code",
      "source": [
        "url = 'https://finance.yahoo.com/quote/'+ ticker + '/analysis?p=' + ticker\n",
        "page = requests.get(url, headers=headers, timeout=5)\n",
        "data = json.loads(re.search('root\\.App\\.main\\s*=\\s*(.*);', page.text).group(1))[\"context\"][\"dispatcher\"][\"stores\"]\n",
        "# only the data[\"QuoteSummaryStore\"]['earningsTrend']['trend'] object has eps and rev estimates"
      ],
      "metadata": {
        "id": "1XXB8Yw-THJd"
      },
      "execution_count": null,
      "outputs": []
    },
    {
      "cell_type": "code",
      "source": [
        "data['QuoteSummaryStore'].keys()"
      ],
      "metadata": {
        "colab": {
          "base_uri": "https://localhost:8080/"
        },
        "id": "E-kyb8FOkHsG",
        "outputId": "dd899889-d378-4bc6-d80d-54b3dfb6b985"
      },
      "execution_count": null,
      "outputs": [
        {
          "output_type": "execute_result",
          "data": {
            "text/plain": [
              "dict_keys(['recommendationTrend', 'financialsTemplate', 'price', 'earningsHistory', 'indexTrend', 'financialData', 'earningsTrend', 'quoteType', 'sectorTrend', 'summaryDetail', 'symbol', 'upgradeDowngradeHistory', 'pageViews', 'industryTrend'])"
            ]
          },
          "metadata": {},
          "execution_count": 5
        }
      ]
    },
    {
      "cell_type": "code",
      "source": [
        "data['QuoteSummaryStore']['financialData'] # good snapshot summary\n",
        "data['QuoteSummaryStore']['summaryDetail'] # div, and x-div date, highs and lows\n",
        "data['QuoteSummaryStore']['industryTrend'] # empty\n",
        "data['QuoteSummaryStore']['sectorTrend'] # empty"
      ],
      "metadata": {
        "id": "uCFElCvmuzN3"
      },
      "execution_count": null,
      "outputs": []
    },
    {
      "cell_type": "code",
      "source": [
        "f = [t for t in data[\"QuoteSummaryStore\"][\"earningsTrend\"][\"trend\"] if t[\"period\"] in ['0y','+1y']]\n",
        "num_analysts = f[0]['earningsEstimate']['numberOfAnalysts']['fmt']\n",
        "fwd_eps = f[0]['earningsEstimate']['avg']['fmt']\n",
        "fwd_rev = f[0]['revenueEstimate']['avg']['raw']\n",
        "fwd_rev_g = f[0]['revenueEstimate']['growth']['raw']\n",
        "fwd2_eps = f[1]['earningsEstimate']['avg']['fmt']\n",
        "fwd2_rev = f[1]['revenueEstimate']['avg']['fmt']\n",
        "fwd2_rev_g = f[1]['revenueEstimate']['growth']['fmt']\n",
        "print(num_analysts, fwd_eps, fwd_rev, fwd_rev_g, fwd2_eps, fwd2_rev, fwd2_rev_g)\n",
        "# print(\"Next 5 Years (per annum) : \" + field[\"growth\"][\"fmt\"])"
      ],
      "metadata": {
        "colab": {
          "base_uri": "https://localhost:8080/"
        },
        "id": "TplmYzrOF574",
        "outputId": "ab4da383-f652-4712-b0c3-40f4bd996d02"
      },
      "execution_count": null,
      "outputs": [
        {
          "output_type": "stream",
          "name": "stdout",
          "text": [
            "35 6.41 595703000000 0.04 6.96 616.08B 3.40%\n"
          ]
        }
      ]
    },
    {
      "cell_type": "code",
      "source": [
        "# url for is, bs, cf -but not all items, e.g. q dil shrs or net debt\n",
        "url = 'https://finance.yahoo.com/quote/'+ ticker + '/financials?p=' + ticker\n",
        "page = requests.get(url, headers=headers, timeout=5)\n",
        "data = json.loads(re.search('root\\.App\\.main\\s*=\\s*(.*);', page.text).group(1))[\"context\"][\"dispatcher\"][\"stores\"]"
      ],
      "metadata": {
        "id": "ihc2EOcp813d"
      },
      "execution_count": 2,
      "outputs": []
    },
    {
      "cell_type": "code",
      "source": [
        "# data[\"RecommendationStore\"]['recommendedSimilarSymbols'] # a few others in the sector\n",
        "# data[\"QuoteSummaryStore\"]['incomeStatementHistoryQuarterly']['incomeStatementHistory'] # IS items x shr ct\n",
        "# data[\"QuoteSummaryStore\"]['balanceSheetHistoryQuarterly']['balanceSheetStatements'] # BS items (but not explicit net debt)\n",
        "# data[\"QuoteSummaryStore\"]['earnings'] # Q and A rev and net income\n",
        "# data[\"QuoteSummaryStore\"]['summaryDetail'] # price, vol, div, p/e, p/s\n",
        "# rev = data[\"QuoteSummaryStore\"]['incomeStatementHistory']['incomeStatementHistory'][0]['totalRevenue']['fmt']\n",
        "# eop = data[\"QuoteSummaryStore\"]['incomeStatementHistory']['incomeStatementHistory'][0]['endDate']['fmt']\n",
        "# bseop = data[\"QuoteSummaryStore\"]['balanceSheetHistory']['balanceSheetStatements'][0]['endDate']['fmt']\n",
        "# ebit = data[\"QuoteTimeSeriesStore\"]['timeSeries']['annualEBIT'][-1]['reportedValue']['raw'] / 1e9\n",
        "# dshrs = data[\"QuoteTimeSeriesStore\"]['timeSeries']['annualDilutedAverageShares'][-1]['reportedValue']['raw'] / 1e9\n",
        "# eps = data[\"QuoteTimeSeriesStore\"]['timeSeries']['annualDilutedEPS'][-1]['reportedValue']['fmt']\n",
        "data[\"QuoteTimeSeriesStore\"]['timeSeries'].keys() # annual and trailing IS items"
      ],
      "metadata": {
        "id": "0LXEkoTA1wr6"
      },
      "execution_count": null,
      "outputs": []
    },
    {
      "cell_type": "code",
      "source": [
        "# IS, CF items for prev 4 fy and IS for TTM\n",
        "date1 = data[\"QuoteTimeSeriesStore\"]['timeSeries']['annualTotalRevenue'][-1]['asOfDate']\n",
        "rev1 = data[\"QuoteTimeSeriesStore\"]['timeSeries']['annualTotalRevenue'][-1]['reportedValue']['raw'] / 1e9\n",
        "ebitda1 = data[\"QuoteTimeSeriesStore\"]['timeSeries']['annualNormalizedEBITDA'][-1]['reportedValue']['raw'] / 1e9\n",
        "capex1 = data[\"QuoteSummaryStore\"]['cashflowStatementHistory']['cashflowStatements'][0]['capitalExpenditures']['raw'] / -1e9\n",
        "cfo1 = data[\"QuoteSummaryStore\"]['cashflowStatementHistory']['cashflowStatements'][0]['totalCashFromOperatingActivities']['raw'] / 1e9\n",
        "\n",
        "date2 = data[\"QuoteTimeSeriesStore\"]['timeSeries']['annualTotalRevenue'][2]['asOfDate']\n",
        "rev2 = data[\"QuoteTimeSeriesStore\"]['timeSeries']['annualTotalRevenue'][2]['reportedValue']['raw'] / 1e9\n",
        "ebitda2 = data[\"QuoteTimeSeriesStore\"]['timeSeries']['annualNormalizedEBITDA'][2]['reportedValue']['raw'] / 1e9\n",
        "capex2 = data[\"QuoteSummaryStore\"]['cashflowStatementHistory']['cashflowStatements'][1]['capitalExpenditures']['raw'] / -1e9\n",
        "cfo2 = data[\"QuoteSummaryStore\"]['cashflowStatementHistory']['cashflowStatements'][1]['totalCashFromOperatingActivities']['raw'] / 1e9\n",
        "\n",
        "date3 = data[\"QuoteTimeSeriesStore\"]['timeSeries']['annualTotalRevenue'][1]['asOfDate']\n",
        "rev3= data[\"QuoteTimeSeriesStore\"]['timeSeries']['annualTotalRevenue'][1]['reportedValue']['raw'] / 1e9\n",
        "ebitda3 = data[\"QuoteTimeSeriesStore\"]['timeSeries']['annualNormalizedEBITDA'][1]['reportedValue']['raw'] / 1e9\n",
        "capex3 = data[\"QuoteSummaryStore\"]['cashflowStatementHistory']['cashflowStatements'][2]['capitalExpenditures']['raw'] / -1e9\n",
        "cfo3 = data[\"QuoteSummaryStore\"]['cashflowStatementHistory']['cashflowStatements'][2]['totalCashFromOperatingActivities']['raw'] / 1e9\n",
        "\n",
        "date4 = data[\"QuoteTimeSeriesStore\"]['timeSeries']['annualTotalRevenue'][0]['asOfDate']\n",
        "rev4 = data[\"QuoteTimeSeriesStore\"]['timeSeries']['annualTotalRevenue'][0]['reportedValue']['raw'] / 1e9\n",
        "ebitda4 = data[\"QuoteTimeSeriesStore\"]['timeSeries']['annualNormalizedEBITDA'][0]['reportedValue']['raw'] / 1e9\n",
        "capex4 = data[\"QuoteSummaryStore\"]['cashflowStatementHistory']['cashflowStatements'][3]['capitalExpenditures']['raw'] / -1e9\n",
        "cfo4 = data[\"QuoteSummaryStore\"]['cashflowStatementHistory']['cashflowStatements'][3]['totalCashFromOperatingActivities']['raw'] / 1e9\n",
        "# print(eps, dshrs, eop, rev, ebit, ebitda, ebitda-capex, cfo, round(ebit/rev*100,1), round(ebitda/rev*100,1))\n",
        "trail_rev = data[\"QuoteTimeSeriesStore\"]['timeSeries']['trailingTotalRevenue'][0]['reportedValue']['raw'] / 1e9\n",
        "trail_date = data[\"QuoteTimeSeriesStore\"]['timeSeries']['trailingTotalRevenue'][0]['asOfDate']\n",
        "trail_ebitda = data[\"QuoteTimeSeriesStore\"]['timeSeries']['trailingNormalizedEBITDA'][0]['reportedValue']['raw'] / 1e9\n",
        "print('TTM', trail_date,trail_rev,trail_ebitda)\n",
        "print('p1 ',date1,rev1,ebitda1, capex1, cfo1)\n",
        "print('p2 ',date2,rev2,ebitda2, capex2, cfo2)\n",
        "print('p3 ',date3,rev3,ebitda3, capex3, cfo3)\n",
        "print('p4 ',date4,rev4,ebitda4, capex4, cfo4)"
      ],
      "metadata": {
        "id": "F0GcQg8ARmm1",
        "colab": {
          "base_uri": "https://localhost:8080/"
        },
        "outputId": "e6c1e683-f2d3-40a4-91f6-719365ed628d"
      },
      "execution_count": 4,
      "outputs": [
        {
          "output_type": "stream",
          "name": "stdout",
          "text": [
            "TTM 2022-04-30 576.013 32.723\n",
            "p1  2022-01-31 572.754 33.758 13.106 24.181\n",
            "p2  2021-01-31 559.151 34.031 10.264 36.074\n",
            "p3  2020-01-31 523.964 33.702 10.705 25.255\n",
            "p4  2019-01-31 514.405 24.484 10.344 27.753\n"
          ]
        }
      ]
    },
    {
      "cell_type": "code",
      "source": [
        "# url for trailing CF items\n",
        "url = 'https://finance.yahoo.com/quote/'+ ticker + '/cash-flow?p=' + ticker\n",
        "page = requests.get(url, headers=headers, timeout=5)\n",
        "data = json.loads(re.search('root\\.App\\.main\\s*=\\s*(.*);', page.text).group(1))[\"context\"][\"dispatcher\"][\"stores\"]"
      ],
      "metadata": {
        "id": "5dS5_t4Ywcwz"
      },
      "execution_count": 5,
      "outputs": []
    },
    {
      "cell_type": "code",
      "source": [
        "data['QuoteTimeSeriesStore']['timeSeries'].keys()"
      ],
      "metadata": {
        "id": "7OSITWEWwnZr"
      },
      "execution_count": null,
      "outputs": []
    },
    {
      "cell_type": "code",
      "source": [
        "# data['QuoteTimeSeriesStore']['timeSeries']['annualCapitalExpenditure'] # list w 4 obj\n",
        "trail_capex = data['QuoteTimeSeriesStore']['timeSeries']['trailingCapitalExpenditure'][0]['reportedValue']['raw'] / -1e9 # list w 1 obj\n",
        "trail_cfo = data['QuoteTimeSeriesStore']['timeSeries']['trailingOperatingCashFlow'][0]['reportedValue']['raw'] / 1e9 # list w 1 obj\n",
        "trail_date = data['QuoteTimeSeriesStore']['timeSeries']['trailingOperatingCashFlow'][0]['asOfDate']\n",
        "print('TTM',trail_date, trail_capex, trail_cfo)"
      ],
      "metadata": {
        "colab": {
          "base_uri": "https://localhost:8080/"
        },
        "id": "vmDPWfP8xV5y",
        "outputId": "eb771fcd-4c8d-4c31-a059-cb640dd14ce6"
      },
      "execution_count": 6,
      "outputs": [
        {
          "output_type": "stream",
          "name": "stdout",
          "text": [
            "TTM 2022-04-30 14.431 17.565\n"
          ]
        }
      ]
    },
    {
      "cell_type": "code",
      "source": [
        "# url for netDebt\n",
        "url = 'https://finance.yahoo.com/quote/'+ ticker + '/balance-sheet?p=' + ticker\n",
        "page = requests.get(url, headers=headers, timeout=5)\n",
        "data = json.loads(re.search('root\\.App\\.main\\s*=\\s*(.*);', page.text).group(1))[\"context\"][\"dispatcher\"][\"stores\"]"
      ],
      "metadata": {
        "id": "QOfL7XzobJXY"
      },
      "execution_count": 7,
      "outputs": []
    },
    {
      "cell_type": "code",
      "source": [
        "ndebteop1 = data[\"QuoteTimeSeriesStore\"]['timeSeries']['annualNetDebt'][-1]['asOfDate'] # timeSeries is only object with data, has annual BS items\n",
        "ndebt1 = data[\"QuoteTimeSeriesStore\"]['timeSeries']['annualNetDebt'][-1]['reportedValue']['raw'] / 1e9\n",
        "ndebteop2 = data[\"QuoteTimeSeriesStore\"]['timeSeries']['annualNetDebt'][2]['asOfDate']\n",
        "ndebt2 = data[\"QuoteTimeSeriesStore\"]['timeSeries']['annualNetDebt'][2]['reportedValue']['raw'] / 1e9\n",
        "ndebteop3 = data[\"QuoteTimeSeriesStore\"]['timeSeries']['annualNetDebt'][1]['asOfDate']\n",
        "ndebt3 = data[\"QuoteTimeSeriesStore\"]['timeSeries']['annualNetDebt'][1]['reportedValue']['raw'] / 1e9\n",
        "ndebteop4 = data[\"QuoteTimeSeriesStore\"]['timeSeries']['annualNetDebt'][0]['asOfDate']\n",
        "ndebt4 = data[\"QuoteTimeSeriesStore\"]['timeSeries']['annualNetDebt'][0]['reportedValue']['raw'] / 1e9\n",
        "print('py1', ndebteop1, ndebt1)\n",
        "print('py2', ndebteop2, ndebt2)\n",
        "print('py3', ndebteop3, ndebt3)\n",
        "print('py4', ndebteop4, ndebt4)"
      ],
      "metadata": {
        "colab": {
          "base_uri": "https://localhost:8080/"
        },
        "id": "Ycc1Eemo_hTq",
        "outputId": "64ccf5dc-8e92-44a4-9ef4-04cae5262b21"
      },
      "execution_count": 8,
      "outputs": [
        {
          "output_type": "stream",
          "name": "stdout",
          "text": [
            "py1 2022-01-31 23.317\n",
            "py2 2021-01-31 26.792\n",
            "py3 2020-01-31 40.186\n",
            "py4 2019-01-31 42.899\n"
          ]
        }
      ]
    },
    {
      "cell_type": "code",
      "source": [
        "# url for industry and sector\n",
        "url = 'https://finance.yahoo.com/quote/'+ ticker + '/profile?p=' + ticker\n",
        "page = requests.get(url, headers=headers, timeout=5)\n",
        "data = json.loads(re.search('root\\.App\\.main\\s*=\\s*(.*);', page.text).group(1))[\"context\"][\"dispatcher\"][\"stores\"]\n",
        "data.keys()"
      ],
      "metadata": {
        "colab": {
          "base_uri": "https://localhost:8080/"
        },
        "id": "tKL--6Je7BiF",
        "outputId": "355c2af8-a4aa-4d76-c3d2-bf8c3af232c8"
      },
      "execution_count": null,
      "outputs": [
        {
          "output_type": "execute_result",
          "data": {
            "text/plain": [
              "dict_keys(['PageStore', 'MRTStore', 'RouteStore', 'I13nStore', 'PageTransitionStore', 'VideoPlayerStore', 'QuoteAutoCompleteStore', 'NavrailStore', 'StreamDataStore', 'QuoteSummaryStore', 'FinanceConfigStore', 'LangStore', 'BeaconStore', 'AdStore', 'VideoStore', 'ComponentConfigStore', 'CrumbStore', 'CompositeStore', 'MonalixaStore', 'StreamStore', 'UserStore', 'ProfileStore', 'QuotePageStore', 'MarketTimeStore', 'MarketSummaryStore', 'NavServiceStore', 'UHAccountSwitchStore', 'RmpStore', 'RecommendationStore', 'MobileHeaderStore'])"
            ]
          },
          "metadata": {},
          "execution_count": 20
        }
      ]
    },
    {
      "cell_type": "code",
      "source": [
        "data['QuoteSummaryStore'].keys()"
      ],
      "metadata": {
        "id": "vv8rNB-d75C8"
      },
      "execution_count": null,
      "outputs": []
    },
    {
      "cell_type": "code",
      "source": [
        "# data['QuoteSummaryStore']['secFilings'] # most recent sec filings\n",
        "data['QuoteSummaryStore']['assetProfile'].keys()"
      ],
      "metadata": {
        "id": "Wh0Pliac8CRc"
      },
      "execution_count": null,
      "outputs": []
    },
    {
      "cell_type": "code",
      "source": [
        "sector = data['QuoteSummaryStore']['assetProfile']['sector'] # invesment, e.g. WMT = consumer defensive\n",
        "industry = data['QuoteSummaryStore']['assetProfile']['industry'] # E.g. WMT = Discount Stores\n",
        "print('ind',industry, 'sec', sector)"
      ],
      "metadata": {
        "colab": {
          "base_uri": "https://localhost:8080/"
        },
        "id": "kd3LHd999FoW",
        "outputId": "4a08242a-6430-4d7a-b3eb-b0a4ba96833c"
      },
      "execution_count": null,
      "outputs": [
        {
          "output_type": "stream",
          "name": "stdout",
          "text": [
            "ind Discount Stores sec Consumer Defensive\n"
          ]
        }
      ]
    },
    {
      "cell_type": "code",
      "source": [
        "# url for shrs outstanding\n",
        "url = 'https://finance.yahoo.com/quote/'+ ticker + '/key-statistics?p=' + ticker\n",
        "page = requests.get(url, headers=headers, timeout=5)\n",
        "data = json.loads(re.search('root\\.App\\.main\\s*=\\s*(.*);', page.text).group(1))[\"context\"][\"dispatcher\"][\"stores\"]\n",
        "data.keys()"
      ],
      "metadata": {
        "id": "Ihv_axwhCNVQ"
      },
      "execution_count": null,
      "outputs": []
    },
    {
      "cell_type": "code",
      "source": [
        "shrs_out = data['QuoteSummaryStore']['defaultKeyStatistics']['sharesOutstanding']['raw'] / 1e9\n",
        "print(shrs_out)"
      ],
      "metadata": {
        "colab": {
          "base_uri": "https://localhost:8080/"
        },
        "id": "36uDqHnHF778",
        "outputId": "7f423631-1741-486e-8036-0307453308ff"
      },
      "execution_count": null,
      "outputs": [
        {
          "output_type": "stream",
          "name": "stdout",
          "text": [
            "2.741149952\n"
          ]
        }
      ]
    },
    {
      "cell_type": "code",
      "source": [
        "data['QuoteTimeSeriesStore'].keys()\n",
        "data['QuoteTimeSeriesStore']['timeSeries'].keys()"
      ],
      "metadata": {
        "id": "mmGendo1CYPz"
      },
      "execution_count": null,
      "outputs": []
    },
    {
      "cell_type": "code",
      "source": [
        "data['QuoteSummaryStore'].keys()"
      ],
      "metadata": {
        "id": "bTNxjiXZFCus"
      },
      "execution_count": null,
      "outputs": []
    },
    {
      "cell_type": "code",
      "source": [
        "data['QuoteSummaryStore']['defaultKeyStatistics'].keys()"
      ],
      "metadata": {
        "id": "ckKeA1qsFL5S"
      },
      "execution_count": null,
      "outputs": []
    },
    {
      "cell_type": "code",
      "source": [
        "data['QuoteSummaryStore']['financialData'] # price, fins snapshot summary"
      ],
      "metadata": {
        "id": "-lpEmLl4GNZg"
      },
      "execution_count": null,
      "outputs": []
    },
    {
      "cell_type": "markdown",
      "source": [
        "## Selenium"
      ],
      "metadata": {
        "id": "Gjpkut9CVvKV"
      }
    },
    {
      "cell_type": "code",
      "source": [
        "!pip install selenium\n",
        "!apt-get update \n",
        "!apt install chromium-chromedriver\n",
        "\n",
        "from selenium import webdriver\n",
        "chrome_options = webdriver.ChromeOptions()\n",
        "chrome_options.add_argument('--headless')\n",
        "chrome_options.add_argument('--no-sandbox')\n",
        "chrome_options.add_argument('--disable-dev-shm-usage')"
      ],
      "metadata": {
        "id": "yevJpSgbV2uh"
      },
      "execution_count": null,
      "outputs": []
    },
    {
      "cell_type": "code",
      "source": [
        "d = webdriver.Chrome('chromedriver',chrome_options=chrome_options)\n",
        "ss = input('Stock symbol?')\n",
        "d.get(f'https://finance.yahoo.com/quote/{ss}/analysis?p={ss}')\n",
        "main = d.find_element_by_id('Main')\n",
        "tds = main.find_elements_by_tag_name('td')\n",
        "if tds:\n",
        "  data = [e.text for e in tds]\n",
        "  print(data[0],data[4],data[5],data[8],data[9],data[30],data[33],data[34],data[50],data[53],data[54])\n",
        "else:\n",
        "  print('no data')\n",
        "d.quit()"
      ],
      "metadata": {
        "id": "Y84b3OeeV8nl"
      },
      "execution_count": null,
      "outputs": []
    }
  ]
}