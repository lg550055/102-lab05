{
  "cells": [
    {
      "cell_type": "code",
      "source": [
        "# implementation of list merge for merge sort algo\n",
        "def merge(l1, l2):\n",
        "    p1 = p2 = 0\n",
        "    r = []\n",
        "    while p1 < len(l1) and p2 < len(l2):\n",
        "        if l1[p1] < l2[p2]:\n",
        "            r.append(l1[p1])\n",
        "            p1 += 1\n",
        "        else:\n",
        "            r.append(l2[p2])\n",
        "            p2 += 1\n",
        "    r += l1[p1:]\n",
        "    r += l2[p2:]\n",
        "    return r\n",
        "\n",
        "# tests\n",
        "# l1, l2 = [1], [2] # [1,2]\n",
        "# l1, l2 = [1,3], [2] # [1,2,3]\n",
        "# l1, l2 = [1], [2,3] # [1,2,3,3]\n",
        "# l1, l2 = [1,3], [2,3] # [1,2,3,3]\n",
        "# l1, l2 = [1,3], [2,4] # [1,2,3,4]\n",
        "l1, l2 = [1,3,5,19,20,22], [2,4,8,15] # [1,2,3,4,5,8,15,19,20,22]\n",
        "merge(l1, l2)"
      ],
      "metadata": {
        "colab": {
          "base_uri": "https://localhost:8080/"
        },
        "id": "80np6u2M__ZP",
        "outputId": "a123763f-5d54-45a8-f6ed-b8d19491a2ec"
      },
      "execution_count": null,
      "outputs": [
        {
          "output_type": "execute_result",
          "data": {
            "text/plain": [
              "[1, 2, 3, 4, 5, 8, 15, 19, 20, 22]"
            ]
          },
          "metadata": {},
          "execution_count": 8
        }
      ]
    },
    {
      "cell_type": "code",
      "source": [
        "# Merge sort implementation, recursive\n",
        "def mSort(nums):\n",
        "  ln = len(nums)\n",
        "  if ln == 1:\n",
        "    return nums\n",
        "  m = ln//2\n",
        "  left = mSort(nums[:m])\n",
        "  right = mSort(nums[m:])\n",
        "  return merge(left,right)\n",
        "\n",
        "# tests\n",
        "n = [5,2,3,1] # [1,2,3,5]\n",
        "n = [22,20,8,4,15,3,5,19,2,1] # [1,2,3,4,5,8,15,19,20,22]\n",
        "mSort(n)"
      ],
      "metadata": {
        "colab": {
          "base_uri": "https://localhost:8080/"
        },
        "id": "7HowFrIe_4_9",
        "outputId": "a37de0ca-2cc7-4b6d-ce0e-cd26a50de9de"
      },
      "execution_count": null,
      "outputs": [
        {
          "output_type": "execute_result",
          "data": {
            "text/plain": [
              "[1, 2, 3, 4, 5, 8, 15, 19, 20, 22]"
            ]
          },
          "metadata": {},
          "execution_count": 11
        }
      ]
    },
    {
      "cell_type": "code",
      "execution_count": null,
      "metadata": {
        "id": "VDbGKUzujnuA"
      },
      "outputs": [],
      "source": [
        "def bup(r,c): # better unique paths from (1,1) to (r,c)\n",
        "  if r==1 or c==1:\n",
        "    return 1\n",
        "  return bup(r-1, c) + bup(r, c-1)\n",
        "\n",
        "bup(3,5)"
      ]
    },
    {
      "cell_type": "code",
      "execution_count": null,
      "metadata": {
        "id": "sBgVP81eHFD_"
      },
      "outputs": [],
      "source": [
        "def powerSum(x, n):\n",
        "  r = 0\n",
        "  mx = int(x**(1/n))\n",
        "  m = [i**n for i in range(1,mx+1)]\n",
        "  \n",
        "  def ps(x, n, c=0):\n",
        "    print(c)\n",
        "    c += n.pop()\n",
        "    if c == x:\n",
        "      return 1\n",
        "    n = [i for i in m if i <= x-c]\n",
        "    if c + sum(n) < x:\n",
        "      return 0\n",
        "    else:\n",
        "      for e in n:\n",
        "        ps(x, n, c)\n",
        "\n",
        "  while m:\n",
        "    if sum(m) < x:\n",
        "      break\n",
        "    c += m.pop()\n",
        "    if c == x:\n",
        "      r += 1\n",
        "    else:\n",
        "      t = [i for i in m if i <= x-c]\n",
        "      for e in t:\n",
        "        pass\n",
        "    print('result', ps(x, m))\n",
        "\n",
        "#  return r\n",
        "\n",
        "powerSum(100, 2)"
      ]
    },
    {
      "cell_type": "markdown",
      "metadata": {
        "id": "F4pS6icGUbAi"
      },
      "source": [
        "### Leetcode (LC)"
      ]
    },
    {
      "cell_type": "code",
      "source": [
        "# LC valid BST\n",
        "# solution works; pases low and high to make sure values on either side of the root are valid\n",
        "def isValidBST(self, root: Optional[TreeNode],l=-2**31-1,h=2**31) -> bool:\n",
        "    if not root:\n",
        "        return True\n",
        "    if root.val > l and root.val < h:\n",
        "        return self.isValidBST(root.left,l,root.val) and self.isValidBST(root.right,root.val,h)\n",
        "    else:\n",
        "        return False"
      ],
      "metadata": {
        "id": "7NHqE1g0bRZh"
      },
      "execution_count": null,
      "outputs": []
    },
    {
      "cell_type": "code",
      "source": [
        "# LC Merge k Sorted Lists\n",
        "# solution faster than 97% and more memory efficient than 94%\n",
        "def mergeKLists(lists: List[Optional[ListNode]]) -> Optional[ListNode]:\n",
        "    ml = []\n",
        "    if not lists:\n",
        "        return \n",
        "    for l in lists:\n",
        "        cur = l\n",
        "        while cur:\n",
        "            ml.append(cur)\n",
        "            cur = cur.next\n",
        "    ml.sort(key=lambda node: node.val)\n",
        "    for i in range(len(ml)):\n",
        "        if i < len(ml)-1:\n",
        "            ml[i].next = ml[i+1]\n",
        "        else:\n",
        "            ml[i].next = None\n",
        "    if len(ml):\n",
        "        return ml[0]"
      ],
      "metadata": {
        "id": "mHr39xtuDccD"
      },
      "execution_count": null,
      "outputs": []
    },
    {
      "cell_type": "code",
      "execution_count": null,
      "metadata": {
        "colab": {
          "base_uri": "https://localhost:8080/"
        },
        "id": "cxx9zDKHRxJ5",
        "outputId": "4d93ad21-daf8-430c-fae5-88c8f4619bcb"
      },
      "outputs": [
        {
          "name": "stdout",
          "output_type": "stream",
          "text": [
            "{2: [(1, 10), (3, 11)], 3: [(4, 12)]}\n",
            "(1, 10) 0\n",
            "(3, 11) 0\n",
            "(4, 12) 11\n"
          ]
        }
      ],
      "source": [
        "def nt(times, n, k):\n",
        "    a = {}\n",
        "    for t in times:\n",
        "        if t[0] in a:\n",
        "            a[t[0]] = a[t[0]] + [(t[1],t[2])]\n",
        "        else:\n",
        "            a[t[0]] = [(t[1],t[2])]\n",
        "    print(a)\n",
        "    def bfs(node, ac=0):\n",
        "        if node not in a:\n",
        "            return ac\n",
        "        for e in a[node]:\n",
        "            print(e, ac)\n",
        "            bfs(e[0], ac+e[1])\n",
        "            \n",
        "    return bfs(k)\n",
        "\n",
        "nt([[2,1,10],[2,3,11],[3,4,12]], 4, 2)"
      ]
    },
    {
      "cell_type": "code",
      "execution_count": null,
      "metadata": {
        "colab": {
          "base_uri": "https://localhost:8080/"
        },
        "id": "_URoiOL9-eOa",
        "outputId": "93008c8a-0d19-4cd4-e2f8-bf4f3e4ac3eb"
      },
      "outputs": [
        {
          "name": "stdout",
          "output_type": "stream",
          "text": [
            "g 7\n",
            "o 15\n",
            "o 15\n",
            "s 19\n",
            "e 5\n"
          ]
        }
      ],
      "source": [
        "import string\n",
        "a = string.ascii_lowercase\n",
        "w = 'goose'\n",
        "for ch in w:\n",
        "  print(ch, a.index(ch)+1)"
      ]
    },
    {
      "cell_type": "code",
      "execution_count": null,
      "metadata": {
        "colab": {
          "base_uri": "https://localhost:8080/"
        },
        "id": "VnjP7tliVlA7",
        "outputId": "3634de54-82e8-4337-bdbc-afe4209e2b6c"
      },
      "outputs": [
        {
          "data": {
            "text/plain": [
              "4"
            ]
          },
          "execution_count": 52,
          "metadata": {},
          "output_type": "execute_result"
        }
      ],
      "source": [
        "# Input: times = [[2,1,1],[2,3,1],[3,4,1]], n = 4, k = 2\n",
        "# Output: 2\n",
        "# Input: times = [[1,2,1]], n = 2, k = 1\n",
        "# Output: 1\n",
        "# Input: times = [[1,2,1]], n = 2, k = 2\n",
        "# Output: -1\n",
        "import collections\n",
        "def find(times, n , k):\n",
        "    a = {i:[] for i in range(1,n+1)}\n",
        "    for t in times:\n",
        "        u, v, w = t\n",
        "        a[u] = a[u] + [(v,w)]\n",
        "\n",
        "    vstd = []\n",
        "    q = collections.deque([(k,0)])\n",
        "    t = 0\n",
        "    while q:\n",
        "      c,w = q.popleft()\n",
        "      if c in vstd:\n",
        "        continue\n",
        "      vstd.append(c)      \n",
        "      t = w\n",
        "      for e in a[c]:\n",
        "        if e[0] not in vstd:\n",
        "          q.append( (e[0], t + e[1]) ) #accumulates time for particular seq\n",
        "    if len(vstd) < n:\n",
        "      return -1\n",
        "    return t\n",
        "\n",
        "\n",
        "# find([[2,1,1],[2,3,1],[3,4,1]], n = 4, k = 2)\n",
        "find([[1,2,1],[2,3,2],[1,3,4]], 3, 1)\n",
        "# find([[1,2,1]], n = 2, k = 1)\n",
        "# find([[1,2,1]], n = 2, k = 2)"
      ]
    },
    {
      "cell_type": "code",
      "execution_count": null,
      "metadata": {
        "colab": {
          "base_uri": "https://localhost:8080/"
        },
        "id": "A7PBipaVwDnv",
        "outputId": "9a3d3311-008c-43a2-f4fe-5b61585bed15"
      },
      "outputs": [
        {
          "data": {
            "text/plain": [
              "[]"
            ]
          },
          "execution_count": 1,
          "metadata": {},
          "output_type": "execute_result"
        }
      ],
      "source": [
        "# Input: l1 = [2,4,3], l2 = [5,6,4]\n",
        "# Output: [7,0,8]\n",
        "# Input: l1 = [0], l2 = [0]\n",
        "# Output: [0]\n",
        "# Input: l1 = [9,9,9,9,9,9,9], l2 = [9,9,9,9]\n",
        "# Output: [8,9,9,9,0,0,0,1]\n",
        "\n",
        "nc = []\n",
        "nhead = nc\n",
        "nc = [1,2]\n",
        "nhead"
      ]
    },
    {
      "cell_type": "code",
      "source": [
        "# LC Detect Capital\n",
        "# Given a word, return true if: all letters are capitals (\"USA\"), or all are lowercase (\"leetcode\"), ro only the first letter is capital (\"Google\").\n",
        "def detectCapitalUse(word: str) -> bool:\n",
        "    return word.islower() or word.isupper() or (word[0].isupper() and word[1:].islower())\n"
      ],
      "metadata": {
        "id": "SM0F6FjFEOIb"
      },
      "execution_count": null,
      "outputs": []
    },
    {
      "cell_type": "code",
      "source": [
        "# LC Baseball Game\n",
        "def calPoints(ops: List[str]) -> int:\n",
        "    res = []\n",
        "    for i in range(len(ops)):\n",
        "        if ops[i] == '+':\n",
        "            res.append(res[-1]+res[-2])\n",
        "        elif ops[i] == 'D':\n",
        "            res.append(res[-1]*2)\n",
        "        elif ops[i] == 'C':\n",
        "            res.pop()\n",
        "        else:\n",
        "            res.append(int(ops[i]))\n",
        "    return sum(res)\n",
        "\n",
        "# tests\n",
        "o = [\"5\",\"2\",\"C\",\"D\",\"+\"] # 30\n",
        "o = [\"5\",\"-2\",\"4\",\"C\",\"D\",\"9\",\"+\",\"+\"] # 27\n",
        "o = [\"1\",\"C\"] # 0"
      ],
      "metadata": {
        "id": "MjxKlX_0DKCU"
      },
      "execution_count": null,
      "outputs": []
    },
    {
      "cell_type": "code",
      "source": [
        "# LC Valid Anagram\n",
        "# sol faster than 61%, less memory than 67%\n",
        "def isAnagram(s: str, t: str) -> bool:\n",
        "    if len(s) != len(t):\n",
        "        return False\n",
        "    hm = {}\n",
        "    for ch in s:\n",
        "        hm[ch] = hm[ch]+1 if ch in hm else 1\n",
        "    for ch in t:\n",
        "        if ch not in hm:\n",
        "            return False\n",
        "        hm[ch] -= 1\n",
        "        if hm[ch] < 0:\n",
        "          return False\n",
        "    return True\n",
        "\n",
        "# tests\n",
        "s, t, = \"anagram\", \"nagaram\" # true\n",
        "# s, t = 'rat', 'car' # false\n",
        "# s, t = 'aacc', 'ccac' # false\n",
        "isAnagram(s, t)"
      ],
      "metadata": {
        "colab": {
          "base_uri": "https://localhost:8080/"
        },
        "id": "Q3kuWmbmvEdD",
        "outputId": "9cdd879b-d260-4e59-d493-f82ff02961ab"
      },
      "execution_count": null,
      "outputs": [
        {
          "output_type": "execute_result",
          "data": {
            "text/plain": [
              "True"
            ]
          },
          "metadata": {},
          "execution_count": 9
        }
      ]
    },
    {
      "cell_type": "code",
      "source": [
        "# LC Array Partition\n",
        "def arrayPairSum(nums) -> int:\n",
        "    nums.sort()\n",
        "    res = 0\n",
        "    for i in range(0,len(nums),2):\n",
        "        res += min(nums[i], nums[i+1])\n",
        "    return res\n",
        "\n",
        "# tests\n",
        "# n = [1,4,3,2] # 4\n",
        "n = [6,2,6,5,1,2] # 9\n",
        "arrayPairSum(n)"
      ],
      "metadata": {
        "colab": {
          "base_uri": "https://localhost:8080/"
        },
        "id": "zo58MvU20dRJ",
        "outputId": "2482f5cb-e42b-4f82-fdc6-9c73c725c949"
      },
      "execution_count": null,
      "outputs": [
        {
          "output_type": "execute_result",
          "data": {
            "text/plain": [
              "9"
            ]
          },
          "metadata": {},
          "execution_count": 3
        }
      ]
    },
    {
      "cell_type": "code",
      "source": [
        "# LC Find All Anagrams in a String\n",
        "# return an array of all the start indices of p's anagrams in s.\n",
        "# solution that checks each seq at i takes too long.  Better solution is sliding window; faster than 73%\n",
        "def findAnagrams(s, p):\n",
        "  res = []\n",
        "  lp, ls = len(p), len(s)\n",
        "  if lp > ls: return res\n",
        "  hm = {}\n",
        "  for ch in p:\n",
        "    hm[ch] = hm[ch] +1 if ch in hm else 1\n",
        "  for i in range(lp): # first window pass\n",
        "    if s[i] in hm:\n",
        "      hm[s[i]] -= 1\n",
        "  if all(v==0 for v in hm.values()): # if first set is anagram, add index 0\n",
        "    res.append(0)\n",
        "  for i in range(lp, ls): # slide window 1 at a time\n",
        "    if s[i] in hm:\n",
        "      hm[s[i]] -= 1\n",
        "    if s[i-lp] in hm:\n",
        "      hm[s[i-lp]] += 1\n",
        "    if all(v==0 for v in hm.values()):\n",
        "      res.append(i-lp+1)\n",
        "\n",
        "  return res\n",
        "\n",
        "# tests\n",
        "s, p = \"cbaebabacd\", \"abc\" # [0, 6]\n",
        "# s, p = \"abab\", \"ab\" # [0,1,2]\n",
        "findAnagrams(s, p)"
      ],
      "metadata": {
        "colab": {
          "base_uri": "https://localhost:8080/"
        },
        "id": "j8m62-UK7Cm2",
        "outputId": "7cc22766-310b-48f3-8a8a-6151b5a83a4e"
      },
      "execution_count": null,
      "outputs": [
        {
          "output_type": "execute_result",
          "data": {
            "text/plain": [
              "[0, 10001]"
            ]
          },
          "metadata": {},
          "execution_count": 18
        }
      ]
    },
    {
      "cell_type": "code",
      "source": [
        "# LC Sort List\n",
        "# Given the head of a linked list, return the head of the sorted (in ascending order) list\n",
        "# Solution faster than 86%, less memory than 54%\n",
        "def sortList(head):\n",
        "    r = []\n",
        "    if not head:\n",
        "        return head\n",
        "    cur = head\n",
        "    while cur:\n",
        "        r.append(cur)\n",
        "        cur = cur.next\n",
        "    r.sort(key=attrgetter('val'))\n",
        "    for i in range(len(r)-1):\n",
        "        r[i].next = r[i+1]\n",
        "    r[-1].next = None\n",
        "    \n",
        "    return r[0]"
      ],
      "metadata": {
        "id": "Ok4c-nC73hpA"
      },
      "execution_count": null,
      "outputs": []
    },
    {
      "cell_type": "markdown",
      "source": [
        "### Hacker Rank (HR)"
      ],
      "metadata": {
        "id": "86W0QOMlC5VI"
      }
    },
    {
      "cell_type": "code",
      "source": [
        "# HR Tree: Preorder Traversal\n",
        "def preOrder(root):\n",
        "    def walk(root, r=''):\n",
        "        if not root:\n",
        "            return r\n",
        "        r += str(root.info) + ' '\n",
        "        r = walk(root.left, r)\n",
        "        r = walk(root.right, r)\n",
        "        return r\n",
        "    print(walk(root))"
      ],
      "metadata": {
        "id": "FCP_QonCWvoJ"
      },
      "execution_count": null,
      "outputs": []
    },
    {
      "cell_type": "code",
      "execution_count": null,
      "metadata": {
        "colab": {
          "base_uri": "https://localhost:8080/"
        },
        "id": "FK1NQCfspT--",
        "outputId": "695e0168-242c-4f0b-8557-129d81fbc33d"
      },
      "outputs": [
        {
          "data": {
            "text/plain": [
              "[4, 5, 1, 2, 3]"
            ]
          },
          "execution_count": 10,
          "metadata": {},
          "output_type": "execute_result"
        }
      ],
      "source": [
        "# HR Arrays: Left Rotation\n",
        "def rotLeft(a, d):\n",
        "    l = len(a)\n",
        "    ef = d % l\n",
        "    r = [0]*l\n",
        "    for i in range(l):\n",
        "        r[i-ef] = a[i]\n",
        "    return r\n",
        "\n",
        "rotLeft([1,2,3,4,5],3)"
      ]
    },
    {
      "cell_type": "code",
      "execution_count": null,
      "metadata": {
        "id": "WIexNX3kBJ7h"
      },
      "outputs": [],
      "source": [
        "# HR Sherlock and Anagrams\n",
        "def grams(s):\n",
        "    size = 512\n",
        "    p = 0\n",
        "    hm = [None]*size\n",
        "    def hsh(key):\n",
        "        return (sum([ord(e) for e in str(key)]) * 1) % size\n",
        "    for i in range(len(s)):\n",
        "        for j in range(i+1,len(s)+1):\n",
        "            if hm[hsh(s[i:j])] and len(s[i:j]) == len(hm[hsh(s[i:j])][0]):\n",
        "                print('pair',s[i:j], hsh(s[i:j]))\n",
        "                p += hm[hsh(s[i:j])][1]\n",
        "                hm[hsh(s[i:j])][1] += 1\n",
        "            else:\n",
        "                hm[hsh(s[i:j])] = [s[i:j], 1]\n",
        "                print(s[i:j], hsh( s[i:j] ))\n",
        "    return p\n",
        "\n",
        "grams('abba')\n",
        "# grams('ifailuhkqq')\n",
        "# grams('kkkk')"
      ]
    },
    {
      "cell_type": "code",
      "execution_count": null,
      "metadata": {
        "colab": {
          "base_uri": "https://localhost:8080/"
        },
        "id": "WwsLiR8iRv5-",
        "outputId": "dafd51d9-5d1d-490c-9efa-ced689f48639"
      },
      "outputs": [
        {
          "data": {
            "text/plain": [
              "6"
            ]
          },
          "execution_count": 63,
          "metadata": {},
          "output_type": "execute_result"
        }
      ],
      "source": [
        "# HR Count Triplets\n",
        "def ct(arr, r):\n",
        "    d = {}\n",
        "    s = {}\n",
        "    t = 0\n",
        "    for e in arr:\n",
        "        if e/r in d:\n",
        "            t += d[e/r]\n",
        "        if e/r in s:\n",
        "            d[e] = s[e/r] if e not in d else d[e] + s[e/r]\n",
        "        s[e] = 1 if e not in s else s[e] + 1\n",
        "        # print(s,d,t)\n",
        "    return t\n",
        "\n",
        "# ct([1,2,2,4],2)\n",
        "# ct([2,2,1,1,4],2)\n",
        "# ct([2,2,1,1,2,4],2)\n",
        "# ct([1,1,2,2,4,8],2)\n",
        "# ct([1,3,9,9,27,81],3)\n",
        "# ct([1,5,5,25,125],5)\n",
        "# ct([125,1,5,5,25],5)\n",
        "# ct([1, 1, 1],1)"
      ]
    },
    {
      "cell_type": "code",
      "execution_count": null,
      "metadata": {
        "colab": {
          "base_uri": "https://localhost:8080/"
        },
        "id": "j_0E3mdkfaiz",
        "outputId": "4be7770e-5d81-4abf-84eb-629514fafe6f"
      },
      "outputs": [
        {
          "data": {
            "text/plain": [
              "[0, 1]"
            ]
          },
          "execution_count": 71,
          "metadata": {},
          "output_type": "execute_result"
        }
      ],
      "source": [
        "# HR Frequency Queries\n",
        "def freqQuery(queries):\n",
        "    d = {}\n",
        "    f = []\n",
        "    for e in queries:\n",
        "        if e[0] == 1:\n",
        "            d[e[1]] = 1 if e[1] not in d else d[e[1]] +1\n",
        "        if e[0] == 2 and e[1] in d and d[e[1]] > 0:\n",
        "            d[e[1]] -= 1\n",
        "        if e[0] == 3:\n",
        "            if e[1] in d.values():\n",
        "                f.append(1)\n",
        "            else:\n",
        "                f.append(0)\n",
        "    return f\n",
        "\n",
        "# freqQuery([(1,1),(2,2),(3,2),(1,1),(1,1),(2,1),(3,2)])\n",
        "freqQuery([(3,4),(2,1003),(1,16),(3,1)])"
      ]
    },
    {
      "cell_type": "code",
      "execution_count": null,
      "metadata": {
        "colab": {
          "base_uri": "https://localhost:8080/"
        },
        "id": "ACNebN921SzN",
        "outputId": "db539b01-0802-4906-8b74-017991954df4"
      },
      "outputs": [
        {
          "name": "stdout",
          "output_type": "stream",
          "text": [
            "0 0\n"
          ]
        }
      ],
      "source": [
        "# HR Fraudulent Activity Notifications\n",
        "def an(expenditure, d):\n",
        "    nt = 0\n",
        "    hm = {}\n",
        "    def get_med(idx):\n",
        "        s = 0\n",
        "        for i in range(201): # expenditures are between 0 - 200\n",
        "            if i in hm:\n",
        "                s += hm[i]\n",
        "                if s >= idx:\n",
        "                    return i\n",
        "    for i in range(len(expenditure)):\n",
        "        v = expenditure[i]\n",
        "        if i >= d:\n",
        "          m = get_med(d//2 +1)\n",
        "          if d%2:\n",
        "              if v >= m*2:\n",
        "                  nt += 1\n",
        "                  print(hm,v)\n",
        "          else:\n",
        "              if v >= m + get_med(d//2):\n",
        "                nt += 1\n",
        "                print(hm,v)\n",
        "          hm[expenditure[i-d]] -= 1 # remove oldest element from period\n",
        "        hm[v] = 1 if v not in hm else hm[v] +1 # add new element to period\n",
        "    return nt\n",
        "\n",
        "from statistics import median\n",
        "def an0(expenditure, d):\n",
        "    nt = 0\n",
        "    for i in range(d,len(expenditure)):\n",
        "      if expenditure[i] >= 2*median(expenditure[i-d:i]):\n",
        "        nt += 1\n",
        "        print(expenditure[i-d:i], expenditure[i])\n",
        "    return nt\n",
        "\n",
        "# e,d = [2, 3, 4, 2, 3, 6, 8, 4, 5],5\n",
        "# e,d = [2, 3, 4, 2, 3, 6, 8, 4, 5],3\n",
        "# e,d = [2, 3, 4, 2, 3, 6, 8, 4, 5],2\n",
        "# e,d = [1,2,3,4,4],4\n",
        "# e,d = [1,2,3,4,4],1\n",
        "# e,d = [1,2,3,4,4],5\n",
        "# e,d = [1,1,1,1,6,7,8,9,1,1,1,2],4\n",
        "# e,d = [1,1,1,1,6,7,8,9,1,1,1,2],2\n",
        "# e,d = [1,1,1,1,6,7,8,9,1,1,1,2],7\n",
        "# e,d = [1,1,1,1,6,7,8,9,1,1,1,2],1\n",
        "# e,d = [10,20,30,40,50],3\n",
        "# e,d = [10,20,30,40,50],1\n",
        "# e,d = [10,20,30,40,50],4\n",
        "e,d = [10,20,30,40,50],5\n",
        "# e,d = [1,2,3,4,4,2,2,4,4,5,6,1,2,1],3\n",
        "# an0(e,d)\n",
        "print(an(e,d), an0(e,d))"
      ]
    },
    {
      "cell_type": "code",
      "execution_count": null,
      "metadata": {
        "colab": {
          "base_uri": "https://localhost:8080/"
        },
        "id": "xLnyAhM21HXQ",
        "outputId": "8c69535f-caa3-45b4-b014-2ef22a41cba3"
      },
      "outputs": [
        {
          "name": "stdout",
          "output_type": "stream",
          "text": [
            "966\n"
          ]
        }
      ],
      "source": [
        "# HR NY Chaos\n",
        "def mb(q):\n",
        "  m = 0\n",
        "  for i,e in enumerate(q, 1):\n",
        "    if e-i > 2:\n",
        "      print('Too chaotic')\n",
        "      return\n",
        "    if e <= i:\n",
        "      # bribed, by how many people?\n",
        "      for j in range(max(e-2,0), i-1):\n",
        "        if q[j] > e:\n",
        "          m += 1\n",
        "  print(m)\n",
        "\n",
        "# q = [4,1,2,3]\n",
        "# q = [2, 1, 5, 3, 4]\n",
        "# q = [2, 1, 5, 4, 3]\n",
        "# mb([2, 5, 1, 3, 4])\n",
        "# mb([5,1,2,3,7,8,6,4])\n",
        "# mb([1,2,5,3,7,8,6,4])\n",
        "# mb([1,2,5,3,4,7,8,6])\n",
        "# mb([1,2,5,3,4,9,7,8,6])\n",
        "s = '2 1 5 6 3 4 9 8 11 7 10 14 13 12 17 16 15 19 18 22 20 24 23 21 27 28 25 26 30 29 33 32 31 35 36 34 39 38 37 42 40'\n",
        "s2 = '2 1 5 6 3 4 9 8 11 7 10 14 13 12 17 16 15 19 18 22 20 24 23 21 27 28 25 26 30 29 33 32 31 35 36 34 39 38 37 42 40 44 41 43 47 46 48 45 50 52 49 51 54 56 55 53 59 58 57 61 63 60 65 64 67 68 62 69 66 72 70 74 73 71 77 75 79 78 81 82 80 76 85 84 83 86 89 90 88 87 92 91 95 94 93 98 97 100 96 102 99 104 101 105 103 108 106 109 107 112 111 110 113 116 114 118 119 117 115 122 121 120 124 123 127 125 126 130 129 128 131 133 135 136 132 134 139 140 138 137 143 141 144 146 145 142 148 150 147 149 153 152 155 151 157 154 158 159 156 161 160 164 165 163 167 166 162 170 171 172 168 169 175 173 174 177 176 180 181 178 179 183 182 184 187 188 185 190 189 186 191 194 192 196 197 195 199 193 198 202 200 204 205 203 207 206 201 210 209 211 208 214 215 216 212 218 217 220 213 222 219 224 221 223 227 226 225 230 231 229 228 234 235 233 237 232 239 236 241 238 240 243 242 246 245 248 249 250 247 244 253 252 251 256 255 258 254 257 259 261 262 263 265 264 260 268 266 267 271 270 273 269 274 272 275 278 276 279 277 282 283 280 281 286 284 288 287 290 289 285 293 291 292 296 294 298 297 299 295 302 301 304 303 306 300 305 309 308 307 312 311 314 315 313 310 316 319 318 321 320 317 324 325 322 323 328 327 330 326 332 331 329 335 334 333 336 338 337 341 340 339 344 343 342 347 345 349 346 351 350 348 353 355 352 357 358 354 356 359 361 360 364 362 366 365 363 368 370 367 371 372 369 374 373 376 375 378 379 377 382 381 383 380 386 387 384 385 390 388 392 391 389 393 396 397 394 398 395 401 400 403 402 399 405 407 406 409 408 411 410 404 413 412 415 417 416 414 420 419 422 421 418 424 426 423 425 428 427 431 430 429 434 435 436 437 432 433 440 438 439 443 441 445 442 447 444 448 446 449 452 451 450 455 453 454 457 456 460 459 458 463 462 464 461 467 465 466 470 469 472 468 474 471 475 473 477 476 480 479 478 483 482 485 481 487 484 489 490 491 488 492 486 494 495 496 498 493 500 499 497 502 504 501 503 507 506 505 509 511 508 513 510 512 514 516 518 519 515 521 522 520 524 517 523 525 526 529 527 531 528 533 532 534 530 537 536 539 535 541 538 540 543 544 542 547 548 545 549 546 552 550 551 554 553 557 555 556 560 559 558 563 562 564 561 567 568 566 565 569 572 571 570 575 574 577 576 579 573 580 578 583 581 584 582 587 586 585 590 589 588 593 594 592 595 591 598 599 596 597 602 603 604 605 600 601 608 609 607 611 612 606 610 615 616 614 613 619 618 617 622 620 624 621 626 625 623 628 627 631 630 633 629 635 632 637 636 634 638 640 642 639 641 645 644 647 643 646 650 648 652 653 654 649 651 656 658 657 655 661 659 660 663 664 666 662 668 667 670 665 671 673 669 672 676 677 674 679 675 680 678 681 684 682 686 685 683 689 690 688 687 693 692 691 696 695 698 694 700 701 702 697 704 699 706 703 705 709 707 711 712 710 708 713 716 715 714 718 720 721 719 723 717 722 726 725 724 729 728 727 730 733 732 735 734 736 731 738 737 741 739 740 744 743 742 747 746 745 750 748 752 749 753 751 756 754 758 755 757 761 760 759 764 763 762 767 765 768 766 771 770 769 774 773 776 772 778 777 779 775 781 780 783 784 782 786 788 789 787 790 785 793 791 792 796 795 794 798 797 801 799 803 800 805 802 804 808 806 807 811 809 810 814 812 813 817 816 819 818 815 820 821 823 822 824 826 827 825 828 831 829 830 834 833 836 832 837 839 838 841 835 840 844 842 846 845 843 849 847 851 850 852 848 855 854 853 857 856 858 861 862 860 859 863 866 865 864 867 870 869 868 872 874 875 871 873 877 878 876 880 881 879 884 883 885 882 888 886 890 891 889 893 887 895 892 896 898 894 899 897 902 901 903 905 900 904 908 907 910 909 906 912 911 915 913 916 918 914 919 921 917 923 920 924 922 927 925 929 928 926 932 931 934 930 933 935 937 939 940 938 936 943 944 942 941 947 946 948 945 951 950 949 953 952 956 954 958 957 955 961 962 963 959 964 966 960 965 969 968 971 967 970 974 972 976 973 975 979 977 981 982 978 980 983 986 984 985 989 988 987 990 993 991 995 994 997 992 999 1000 996 998'\n",
        "r = 966\n",
        "q = list(map(int, s2.rstrip().split()))\n",
        "mb(q)"
      ]
    },
    {
      "cell_type": "code",
      "execution_count": null,
      "metadata": {
        "colab": {
          "background_save": true,
          "base_uri": "https://localhost:8080/"
        },
        "id": "b4lML4ZyZL1q",
        "outputId": "7560c243-0b24-45ca-d894-545c919730f8"
      },
      "outputs": [
        {
          "data": {
            "text/plain": [
              "2"
            ]
          },
          "execution_count": null,
          "metadata": {},
          "output_type": "execute_result"
        }
      ],
      "source": [
        "#HR Strings: Making Anagrams\n",
        "def makeAnagram(a, b):\n",
        "  e = 0\n",
        "  d = {}\n",
        "  for ch in a:\n",
        "    d[ch] = 1 if ch not in d else d[ch] +1\n",
        "  for ch in b:\n",
        "    d[ch] = -1 if ch not in d else d[ch] -1\n",
        "  for v in d.values():\n",
        "    e += abs(v)\n",
        "  \n",
        "  return e\n",
        "\n",
        "# test cases\n",
        "# a = 'cde'\n",
        "# b = 'abc'\n",
        "a = 'cde'\n",
        "b = 'dcf'\n",
        "makeAnagram(a, b)"
      ]
    },
    {
      "cell_type": "code",
      "source": [
        "# HR Alternating Characters\n",
        "def ac(s):\n",
        "  d = 0\n",
        "  for i in range(len(s)-1):\n",
        "    if s[i] == s[i+1]:\n",
        "      d += 1\n",
        "  return d\n",
        "\n",
        "#tests\n",
        "# s = 'AABAAB' # 2\n",
        "# s = 'AAAA' # 3\n",
        "# s = 'BABABA' # 0\n",
        "s = 'AAABBB' # 4\n",
        "ac(s)"
      ],
      "metadata": {
        "colab": {
          "base_uri": "https://localhost:8080/"
        },
        "id": "uFJXfqLfcxvc",
        "outputId": "bdd5747a-765f-409e-9cad-35cd6f86f6ff"
      },
      "execution_count": null,
      "outputs": [
        {
          "output_type": "execute_result",
          "data": {
            "text/plain": [
              "4"
            ]
          },
          "metadata": {},
          "execution_count": 48
        }
      ]
    },
    {
      "cell_type": "code",
      "source": [
        "# HR Sherlock and the Valid String\n",
        "def isValid(s):\n",
        "  d = {}\n",
        "  for ch in s:\n",
        "    d[ch] = 1 if ch not in d else d[ch] +1\n",
        "  l = d.values()\n",
        "  s = sorted(l)\n",
        "  ls = len(s)\n",
        "  sms = sum(s)\n",
        "  if s[0] == 1 and (sms <= ls +1 or sms == s[-1]*(ls-1)+1):\n",
        "    return 'YES'\n",
        "  if sms == s[0]*ls or sms == s[0]*ls +1:\n",
        "    return 'YES'\n",
        "  return 'NO'\n",
        "\n",
        "# tests\n",
        "t = 'aaabbbcc' # n\n",
        "# t = 'abc' # y\n",
        "# t = 'abcc' # y\n",
        "# t = 'cabc' # y\n",
        "# t = 'abccc' # n\n",
        "# t = 'aabbcd' # n\n",
        "# t = 'abcdefghhgfedecba' # y\n",
        "# t = 'aabbccddeefghi' # n\n",
        "# t = 'ibfdgaeadiaefgbhbdghhhbgdfgeiccbiehhfcggchgghadhdhagfbahhddgghbdehidbibaeaagaeeigffcebfbaieggabcfbiiedcabfihchdfabifahcbhagccbdfifhghcadfiadeeaheeddddiecaicbgigccageicehfdhdgafaddhffadigfhhcaedcedecafeacbdacgfgfeeibgaiffdehigebhhehiaahfidibccdcdagifgaihacihadecgifihbebffebdfbchbgigeccahgihbcbcaggebaaafgfedbfgagfediddghdgbgehhhifhgcedechahidcbchebheihaadbbbiaiccededchdagfhccfdefigfibifabeiaccghcegfbcghaefifbachebaacbhbfgfddeceababbacgffbagidebeadfihaefefegbghgddbbgddeehgfbhafbccidebgehifafgbghafacgfdccgifdcbbbidfifhdaibgigebigaedeaaiadegfefbhacgddhchgcbgcaeaieiegiffchbgbebgbehbbfcebciiagacaiechdigbgbghefcahgbhfibhedaeeiffebdiabcifgccdefabccdghehfibfiifdaicfedagahhdcbhbicdgibgcedieihcichadgchgbdcdagaihebbabhibcihicadgadfcihdheefbhffiageddhgahaidfdhhdbgciiaciegchiiebfbcbhaeagccfhbfhaddagnfieihghfbaggiffbbfbecgaiiidccdceadbbdfgigibgcgchafccdchgifdeieicbaididhfcfdedbhaadedfageigfdehgcdaecaebebebfcieaecfagfdieaefdiedbcadchabhebgehiidfcgahcdhcdhgchhiiheffiifeegcfdgbdeffhgeghdfhbfbifgidcafbfcd'\n",
        "isValid(t)"
      ],
      "metadata": {
        "colab": {
          "base_uri": "https://localhost:8080/",
          "height": 38
        },
        "id": "ugQrYGJTewYl",
        "outputId": "bf08685e-8691-4701-ea5b-678d322e4a79"
      },
      "execution_count": null,
      "outputs": [
        {
          "output_type": "execute_result",
          "data": {
            "text/plain": [
              "'NO'"
            ],
            "application/vnd.google.colaboratory.intrinsic+json": {
              "type": "string"
            }
          },
          "metadata": {},
          "execution_count": 94
        }
      ]
    },
    {
      "cell_type": "code",
      "source": [
        "# HR Special String Again\n",
        "def substrCount(n, s):\n",
        "  c = n\n",
        "  for i in range(n):\n",
        "    lc = 1\n",
        "    sw = 1\n",
        "    for j in range(i+1,n):\n",
        "      if sw == -1 and s[j] != s[i]:\n",
        "        break\n",
        "      if s[j] == s[i]:\n",
        "        lc += 1*sw\n",
        "        if sw == 1:\n",
        "          c += 1\n",
        "        if lc == 0:\n",
        "          c += 1\n",
        "          break\n",
        "      else:\n",
        "        sw = -1\n",
        "  return c\n",
        "\n",
        "# tests\n",
        "# s = 'mnonopoo'\n",
        "# s = 'asasd'\n",
        "# s = 'abcbaba'\n",
        "# s = 'aaaa'\n",
        "n = len(s)\n",
        "substrCount(n, s)"
      ],
      "metadata": {
        "colab": {
          "base_uri": "https://localhost:8080/"
        },
        "id": "ltYO_R6K9RBj",
        "outputId": "65f9e8da-3804-4ffd-e6e0-90df9fe5a842"
      },
      "execution_count": null,
      "outputs": [
        {
          "output_type": "execute_result",
          "data": {
            "text/plain": [
              "10"
            ]
          },
          "metadata": {},
          "execution_count": 7
        }
      ]
    },
    {
      "cell_type": "code",
      "source": [
        "# HR Hash Tables: Ice Cream Parlor\n",
        "def whatFlavors(cost, money):\n",
        "  d = {}\n",
        "  for i in range(len(cost)):\n",
        "    if cost[i] in d:\n",
        "      print(d[cost[i]], i+1)\n",
        "      return\n",
        "    if money - cost[i] > 0:\n",
        "      d[money -cost[i]] = i+1\n",
        "\n",
        "# tests\n",
        "# c = [1, 4, 5, 3, 2] # 1,4\n",
        "# m = 4\n",
        "c = [2, 2, 4, 3] # 1,2\n",
        "m = 4\n",
        "whatFlavors(c, m)"
      ],
      "metadata": {
        "colab": {
          "base_uri": "https://localhost:8080/"
        },
        "id": "ipM41Ts1aYPU",
        "outputId": "46ecea84-0940-4e3e-ae54-49eb9a7d1c9c"
      },
      "execution_count": null,
      "outputs": [
        {
          "output_type": "stream",
          "name": "stdout",
          "text": [
            "1 2\n"
          ]
        }
      ]
    },
    {
      "cell_type": "code",
      "source": [
        "# HR GS intvw 1 -return index of elemnt that parts arr into two subarr whose sum is equal\n",
        "def balancedSum(arr):\n",
        "    pp = len(arr)\n",
        "    p = len(arr)//2\n",
        "    # bisect until target found\n",
        "    while True:\n",
        "        l = sum(arr[:p])\n",
        "        h = sum(arr[p+1:])\n",
        "        print(l,p,h)\n",
        "        if l == h:\n",
        "            return p\n",
        "        t = p\n",
        "        dif = abs(p-pp)//2+1 if abs(p-pp)%2 else abs(p-pp)//2\n",
        "        if l > h:\n",
        "            p = p - dif\n",
        "        else:\n",
        "            p = p + dif\n",
        "        pp = t\n",
        "\n",
        "# tests\n",
        "# a = [1,2,3,3] # 2\n",
        "# a = [1,2,1] # 1\n",
        "# a = [1,2,3,4,6] # 3\n",
        "a = [1,1,1,1,1,1,1,1,1,1,1,1,4,4,4,4] # 12\n",
        "balancedSum(a)"
      ],
      "metadata": {
        "colab": {
          "base_uri": "https://localhost:8080/"
        },
        "id": "GwdQ70NYt7Nv",
        "outputId": "d5003045-cf44-4460-8528-94bd9472e813"
      },
      "execution_count": null,
      "outputs": [
        {
          "output_type": "stream",
          "name": "stdout",
          "text": [
            "8 8 19\n",
            "12 12 12\n"
          ]
        },
        {
          "output_type": "execute_result",
          "data": {
            "text/plain": [
              "12"
            ]
          },
          "metadata": {},
          "execution_count": 29
        }
      ]
    },
    {
      "cell_type": "code",
      "source": [
        "# HR GS intvw 2 -return max number of 3-elemnent subseq where i>j>k\n",
        "def maxInversions(arr):\n",
        "  hm = {arr.index(e):e for e in arr}\n",
        "  p = {}\n",
        "  ct = 0\n",
        "  for i in range(len(arr)):\n",
        "    # find larger predecesors\n",
        "    for c,e in hm.items():\n",
        "      if c < i and e > arr[i]:\n",
        "        p[arr[i]] = 1 if arr[i] not in p else p[arr[i]] +1\n",
        "    # how many 2-element subsequences can the curr element complete\n",
        "    for k in p:\n",
        "      if k > arr[i]:\n",
        "        ct += p[k]\n",
        "  return ct\n",
        "# tests\n",
        "a = [15,10,1,7,8]\n",
        "maxInversions(a)"
      ],
      "metadata": {
        "colab": {
          "base_uri": "https://localhost:8080/"
        },
        "id": "aPS25zyG84gb",
        "outputId": "30b7427f-5787-4f30-aef3-90850dca142f"
      },
      "execution_count": null,
      "outputs": [
        {
          "output_type": "execute_result",
          "data": {
            "text/plain": [
              "3"
            ]
          },
          "metadata": {},
          "execution_count": 12
        }
      ]
    },
    {
      "cell_type": "code",
      "source": [
        "# HR Love letter\n",
        "import string\n",
        "def theLoveLetterMystery(s):\n",
        "    # Write your code here\n",
        "    d = {ch: i for i,ch in enumerate(string.ascii_lowercase)}\n",
        "    c = 0\n",
        "    for i in range(len(s)//2):\n",
        "        if s[i] != s[-i-1]:\n",
        "            c += abs(d[s[i]]-d[s[-i-1]])\n",
        "    return c\n",
        "\n",
        "# tests\n",
        "s = 'abc'\n",
        "theLoveLetterMystery(s)"
      ],
      "metadata": {
        "colab": {
          "base_uri": "https://localhost:8080/"
        },
        "id": "VrMNgfRsssKb",
        "outputId": "f4f5f452-8b37-4cf3-bb92-75fab329c3e0"
      },
      "execution_count": null,
      "outputs": [
        {
          "output_type": "execute_result",
          "data": {
            "text/plain": [
              "2"
            ]
          },
          "metadata": {},
          "execution_count": 6
        }
      ]
    },
    {
      "cell_type": "code",
      "source": [
        "# HR Tree: Height of a Binary Tree\n",
        "def height(root):\n",
        "    h = 0\n",
        "    def walk(node, h):\n",
        "        if node is None:\n",
        "            return h\n",
        "        if node.left or node.right:\n",
        "            h += 1\n",
        "            h = max(walk(node.left, h), walk(node.right, h))\n",
        "        return h\n",
        "    return walk(root,h)"
      ],
      "metadata": {
        "id": "BbFX2qKPpyg8"
      },
      "execution_count": null,
      "outputs": []
    },
    {
      "cell_type": "code",
      "source": [
        "# HR Binary Search Tree : Lowest Common Ancestor\n",
        "def lca(root, v1, v2):\n",
        "    if v1 < root.info and v2 > root.info or v2 < root.info and v1 > root.info or v1 == root.info or v2 == root.info:\n",
        "        return root\n",
        "    if v1 > root.info:\n",
        "        return lca(root.right, v1, v2)\n",
        "    else:\n",
        "        return lca(root.left, v1, v2)"
      ],
      "metadata": {
        "id": "xjihnjGwplla"
      },
      "execution_count": null,
      "outputs": []
    },
    {
      "cell_type": "code",
      "source": [
        "# HR Tree: Level Order Traversal\n",
        "def levelOrder(root):\n",
        "    r = ''\n",
        "    q = [root]\n",
        "    while q:\n",
        "        cur = q.pop(0)\n",
        "        r += str(cur.info) +' '\n",
        "        if cur.left:\n",
        "            q.append(cur.left)\n",
        "        if cur.right:\n",
        "            q.append(cur.right)\n",
        "    print(r)"
      ],
      "metadata": {
        "id": "75y7GwkEFMIL"
      },
      "execution_count": null,
      "outputs": []
    },
    {
      "cell_type": "code",
      "source": [
        "# HR Binary Search Tree : Insertion\n",
        "def insert(self, val):\n",
        "    if self.root == None:\n",
        "        self.root = Node(val)\n",
        "        return\n",
        "    cur = self.root\n",
        "    while cur:\n",
        "        if val < cur.info:\n",
        "            if cur.left:\n",
        "                cur = cur.left\n",
        "            else:\n",
        "                cur.left = Node(val)\n",
        "                break\n",
        "        else:\n",
        "            if cur.right:\n",
        "                cur = cur.right\n",
        "            else:\n",
        "                cur.right = Node(val)\n",
        "                break\n"
      ],
      "metadata": {
        "id": "tWlLdLzd03Xn"
      },
      "execution_count": null,
      "outputs": []
    },
    {
      "cell_type": "code",
      "source": [
        "# HR Dynamic Programming > Max Array Sum\n",
        "\n",
        "def maxSubsetSum(arr):\n",
        "  n = len(arr)\n",
        "  z = max(0, arr[-1])\n",
        "  p = max(max(0, arr[-2]), z)\n",
        "  c = max(max(0, arr[-3]) + z, arr[-2])\n",
        "  if n == 1:\n",
        "    return z\n",
        "  if n == 2:\n",
        "    return p\n",
        "  if n == 3:\n",
        "    return c\n",
        "  for i in range(n-4,-1,-1):\n",
        "    r = max(max(0, arr[i]) + p, c)\n",
        "    p = c\n",
        "    c = r\n",
        "  return r\n",
        "\n",
        "# tests\n",
        "# a = [3,7,4,6,5] # 13\n",
        "# a = [-2,1,3,-4,5] # 8\n",
        "# a = [2,1,5,8,4] # 11\n",
        "# a = [3, 5, -7, 8, 10] # 15\n",
        "# a = [2,1,5,8,4,1,1,1,1,1,1,1] # 14\n",
        "maxSubsetSum(a)"
      ],
      "metadata": {
        "colab": {
          "base_uri": "https://localhost:8080/"
        },
        "id": "rS9N7D82ywzV",
        "outputId": "188ea0b3-d73b-4af9-f797-c00e828b59e5"
      },
      "execution_count": null,
      "outputs": [
        {
          "output_type": "execute_result",
          "data": {
            "text/plain": [
              "27902749"
            ]
          },
          "metadata": {},
          "execution_count": 17
        }
      ]
    },
    {
      "cell_type": "code",
      "source": [
        "# HR Dynamic Programming > Abbreviation\n",
        "\n",
        "# Needs work\n",
        "def abbreviation(a, b):\n",
        "  i = 0\n",
        "  d = {}\n",
        "  for ch in a:\n",
        "    if i < len(b):\n",
        "      if ch == b[i] or ch.upper() == b[i]:\n",
        "        d[b[i]] = ch\n",
        "        i += 1\n",
        "      elif ch.isupper():\n",
        "        if ch in d and d[ch].islower():\n",
        "          d[ch] = ch\n",
        "        else:\n",
        "          print('no')\n",
        "          return 'NO'\n",
        "    else:\n",
        "      if ch.isupper():\n",
        "        if ch in d and d[ch].islower():\n",
        "          d[ch] = ch\n",
        "        else:\n",
        "          print(d)\n",
        "          return 'NO'\n",
        "  \n",
        "  return 'YES' if i == len(b) else 'NO'\n",
        "\n",
        "# tests\n",
        "# a, b = 'daBcd', 'ABC' # YES\n",
        "# a, b = 'daBcdefG', 'ABC' # NO\n",
        "# a, b = 'daBcdefgC', 'ABC' # YES\n",
        "# a, b = 'dabcdefBgCij', 'ABC' # YES\n",
        "# a, b = 'daBcdefgCC', 'ABC' # NO\n",
        "# a, b = 'AbcDE', 'ABDE' # YES\n",
        "# a, b = 'AbcDE', 'AFDE' # NO\n",
        "# a, b = 'LLZOSYAMQRMBTZXTQMQcKGLR', 'LLZOSYAMBTZXMQKLR' # NO\n",
        "# a, b = 'MGYXKOVSMAHKOLAZZKWXKS', 'MGXKOVSAHKOLZKKDP' # NO\n",
        "# a, b = 'VLKHNlpsrlrvfxftslslrrh', 'VLKHN' # YES\n",
        "# a, b = 'OQSVONTNZMDJAVRZAZCVPKh', 'OSVONTNZMDJAVRZAZCVPK' # NO\n",
        "# a, b = 'AXbosoh', 'AX' # YES\n",
        "# a, b = 'EYONDOCHNZYYlBZXPGzX', 'EYONDOCHNZYYBZXPGXOG' # NO\n",
        "# a, b = 'BJAFXKGENMFUvdsvcptrp', 'BJAFXKGENMFU' # YES\n",
        "# a, b = 'UBUFOOSIXXsdtfmeyongkhehq', 'UBUFOOSIXX' # YES\n",
        "# a, b = 'PWBIJLCOIAXGJGUXUZOutgic', 'PWBIJLCOIAXGJGUXUZO' # YES\n",
        "# a, b = 'EOWZEOHWYOJTBNMcefdsp', 'EOWZEOHWYOJTBNM' # YES\n",
        "# a, b = 'hahHhaaA', 'HA' # YES\n",
        "# a, b = 'hahHhaa', 'HA' # YES\n",
        "a, b = 'abchheffHH', 'HH' # YES\n",
        "# a, b = 'hHhAhhcahhacaccacccahhchhcHcahaahhchhhchaachcaCchhchcaccccchhhcaahhhhcaacchccCaah', 'HAHHCHAAC' # YES\n",
        "abbreviation(a, b)"
      ],
      "metadata": {
        "colab": {
          "base_uri": "https://localhost:8080/",
          "height": 55
        },
        "id": "djDTUyQ2n7Je",
        "outputId": "860d4393-c21e-436e-e711-fa62ab609f75"
      },
      "execution_count": null,
      "outputs": [
        {
          "output_type": "stream",
          "name": "stdout",
          "text": [
            "{'H': 'H'}\n"
          ]
        },
        {
          "output_type": "execute_result",
          "data": {
            "text/plain": [
              "'NO'"
            ],
            "application/vnd.google.colaboratory.intrinsic+json": {
              "type": "string"
            }
          },
          "metadata": {},
          "execution_count": 58
        }
      ]
    },
    {
      "cell_type": "code",
      "source": [
        "10\n",
        "'hHhAhhcahhacaccacccahhchhcHcahaahhchhhchaachcaCchhchcaccccchhhcaahhhhcaacchccCaahhaahachhacaahhaachhhaaaCalhhchaccaAahHcchcazhachhhaaahaahhaacchAahccacahahhcHhccahaachAchahacaahcahacaahcahacaHhccccaahaahacaachcchhahhacchahhhaahcacacachhahchcaAhhcaahchHhhaacHcacahaccccaaahacCHhChchhhahhchcahaaCccccahhcaachhhacaaahcaaaccccaacaaHachaahcchaahhchhhcahahahhcaachhchacahhahahahAahaAcchahaahcaaaaahhChacahcacachacahcchHcaahchhcahaachnachhhhcachchahhhacHhCcaHhhhcaCccccaaahcahacahchahcaachcchaachahhhhhhhhcahhacacCcchahccaaaaaHhhccaAaaaCchahhccaahhacaccchhcahhcahaahhgacahcahhchcaaAccchahhhaahhccaaHcchaccacahHahChachhcaaacAhacacaacacchhchchacchchcacchachacaahachccchhhaccahcacchaccaahaaaccccccaaaaaaaHhcahcchmcHchcchaaahaccchaaachchHahcaccaaccahcacacahAhaacaacaccaccaaacahhhcacAhaCchcaacCcccachhchchcchhchahchchahchchhchcacaachahhccacachaAhaaachchhchchchhaachahaahahachhaaaccacahhcacchhhaaachaaacAahhcachchachhhcacchacaaChCahhhccahChaachhcahacchanaaacchhhccacacchcahccchAcahacaaachhacchachccaaHacaacAhahcCh'\n",
        "'HAHHCHAACCCAHCHHAHHAHCACCHCCHHCAAHHCACCCAHHHACAAHHHHCHHCAHHAHHAAAHAACAAHAHHCAHAHACHACHCHACACHAAHHAAAHCAHHACACAACHHHCHAHCAHCHHHAHAHACCAAAHCHHCHHCCAACCCCAACHACAACAAHACHCHAHHACCHCAHHHAAACHACAACHCACACAHHCCHAHACCCACCAACHCHHHCCCCCHCCAHHCAAHHAHHHHHHHAACCCCAHCCAAAAAHHHAAAACCAHHCAHACACCHHCHAHAHHCHAACHHHHHCCHCCAHAHCHCAAACCACCCCHACCACHHACHHACACHACCAACCCCAAAAHHAHCHHHCCAHCCHACHHAHCCACACCHAHAAACACCCCAHCCAHACCCCCCHCCHHCHHHHCHCHCAHHHACHAHAACCCAAAACHAACAAAHHAAHAAAHACHHCACHCCHCHAACHACACHHCCCCCAHCACHAAAHCHCAHACAAC'\n",
        "\n",
        "# a='XbxxobxBobbbxooXobXxxBOXoOboxxbobXOoBbxbXooXBboxooOxxXbboxoOxlobbObbXoXXbbXobbbXoxbxXBxoobooxbxoxoxOxxOxbxbxXobbbbBbxoxoooxooobXxbooBbOXxXxbxqobbbboXxoXXbbbxObXXxobOXXOxoOoxoXOXBxOxBoxbobxoBxbobobXooOxxOBXbxxXbooxbxooOxoxoobxxBOxxbbbxBxzXxbBxOobBObooofbbBXXOxxoxxbXBbOboxxooBbxOoboXoooXBbBbooOoBbbObxobxbBBoOxoxobBoOXXobObxobxOObobbbxxoboxoXxbXoxxxxbbobbXoXooBXXxboxbobxxxXboxOoOoxBoboOXboBoobXobxXdxObbbBxbxBbOOXbxooXboxboonxxxXOBbbXXoobooxbbxboxoOxBBbxBOxoobXbbxxbXXObxBbxBXBxoxOxoBbxBobOXbboxooBxbooXbXbooBbbxXboxXbxXoxbboxOXOooXbobooXXoxobbxoOxOoBbxxoBboboxoOBBxoboBoOboxbbxxbbbObXbboXbObOjXOXBxbxXobbbboBxBoOooxbxxOooxxbxxobbobxbbXoOobbBXoObxobXxoobxBxBbxoobXxoxObboxobobooxOoooBBbbbxxXoxbXxoXooxOBxboobxooxXOxobXoXmObxxXObooXXXboOXxbXxObxxbbObObxbxxbxxBXxBxoxOooaxooxXBXoXOxoOXxbBoBXxXooboXboOooxoxOxXxbxoboOObbBoXxbboxxooBBbooxXBbBoxBOobbboobobooxoxOxoXOXXboxXOboBxoboOooxbxBxobooXOoxOOObbxbobxxoxbOBoBxboxoobbbxoooxBxoobBbobBbooOBbxoboooookxXoobbbbBbOoxOBOobXObXBxoXoboxobbXBXBBoxBxoxooOxobxo'\n",
        "# b='XBOBBOBOXOXBOXOOBOXOXOBBXOXBXOXXBBOBXOXXXOBBXBOOOXXOXBBBXOXOOOXXOBBOXXOBBXXXOXXXOXXOOXOXBOBBBXBBXOOXOBXXOOOOBXBOXXBXBXXXBXOBBOBBXXOXXBOBBXOXXBBOOOBBBOXBBBOXXBXXOBOBXOOOXXXXXXOBXXBOXXOOOOBOOOXBBOOBXOXXOBBBBOOXXOOXXXOBBXXOXBBOXOXBBBOXOBXXXBXXOBBXBOOBBBOXBBBOXBXBOBBXXXOXBOOXOOXBOXXOOOOBBBBOOBBOBOOBOBXBBOXBOBOXOXBXOBBOBBOXBOOXXBBBBBXOBXOBXXXBBBXOOBOOOXOOBBBXXOXXOXOBOXOBXXOXOOXXXOXXOBOOXBBXBOXBXXOXOXBOBXXOOXOOOXXBOOBBXXXBBOXBBXBOBBOOBOOXOXXBXOBOOOXBOXOOXOOOBBOBBOOOBBBBBOOBOXBBBOBOBXOXBXOBXBXBXBBBXOOO'\n",
        "\n",
        "a='laalsAsaasLbbabLslalBbssaAsAlSLsbBllsSalblsssbsaaaAsabBaaAaalsssasssssLbasbbllbbLSsslbabAbSlllsbsbbalbBaSaaalbslaabAAaaabsabSlsassSshBBllbAAllsSbaLblabsaLBasBsAlLaabBbAllbaslsllsaAaAabbSallbLalsslbbblbasBAsbaBLalbBssbbAlbbbsSlsllbaLBLaaLblalBSbsBbSsbbaaSlllsblbsSaaBbassslaalblBbslLlaASASbbabbLlbalSabbBbLsbaabbalsAAbSbBbABbabbabaallBsasllbsbbsslSsbBlBlbabaalblaLsllbasasalabllSsbslLbsllbLsBlaSbssSAbsSasbsSalsabbllbbaBSBlabsBlAsbaSLbSllbsAblllSLaaAlBssSsBSLslAAlsbslbalsbSbsbalbsBabSbbsssaaabassalslllbsSLSsaLlbbBslSlSbbslsbslSLbbSbAaaaalLlSlAslsbmslbbalblLabSslassBabllSAsbbsvLllSalalbsaaaLAaSSbLbblaaSbLaalABlabsAsBsalssbBLlsLssaabsslabpSbsBaBbbSBlsaaabbblslBAblsLaASlaAlbaaSssbblalAaasbaalbLlaabbAaaaaAalsabbsllaaAsallsasBbAaslbbsbllbbllbslaBASbbSblaAbbsbbssAaBbsasLllalBlslssasbssBALAasbbsbSfasabbllbAslbalbaSSlslbbSbsaBsAalablAbbaBBsbsSbdaAsBblsblbABbLAssAbalsbssSssbBBssAsABLssblsLbllSblasllLbBsassllBbBbsbBsbllsBBsAbbLLlAslBlsAAASlaalabasaLslasBLlsslsaaslsbblbAsalSlllsLSAaLlalAalsBsaslaaaalb'\n",
        "b='ALASALABLABBASASLSBLSSLSSASBBAASSSLBBLLSSBAASLBBASBSLAAASSSSSBBLAALSALLBASBALLBBABASLLSAAAASLBBABABLABBALBSALBLLLBSSBSSAASSBBALALBBBSLLLASASLASABBBLASAASBBABAAALBLLBSSBBLBLBLLLAALLLSSSLLSLLBSSSABSSSSSBABSBLASBASSLBSLSASLAALBSBSLAASBSSBBSBBSSLLBSLSSLLBBLSLSSLBBSAALSASLSLBSABALSASLLLSLLAASSLBASBLAAABBABSBLLASASSBABBSBBBBLBABSLAASAASSSBLALAAASBLLBBAAABBLAABASSBBBLBLABASBSLAABBBSAABBASLLBSSSBBALASBSSBBASSLSBABABBBSSAABBLBABLAAABSBBSAABLSSSLSLLBALBBBBBSBBSABLLABLSAAASLABAALSABLSLBLBASASLLSALAABAAAALB'\n",
        "\n",
        "'EerRrrreeReeeErEEEEeRErerrrreeeerreerRrrEeeeReerrrrErereeRRRrREReERrEerREeEsrrrREeErererrRreERrrErreeeEEeReRrerrrERrreeerrrreEerrerreRerrRerRererrereeeerrrrReRRRrRreerrererReRererRrRRerRRreRRrRrrrEeRrrEEeeEeerErrereErEerreeeREererrRRERrerrrrreEerRrrrEeRERreereeereErerrrrrererErerErREEereReeeEeerRrerrrrrrreerErreEReeererrreeeeeeeEereErreerEerrerERrrereeEeREeRerErErreRrrrRrreEERrrRErrRreeEeEeeeerreRerRreEReeEeRERRreReEeerEErrrERreeErerEeERrRrrReerrreeeEerrerrrerrrrreeerreEerReRRErEerreerReeeeerrRrrrrrreerRreeEEereeeeErrrrrererErREeRrrReerrErEeEeerRreeeeeRrERerRrrererreReerereeerreRreeereERrrErreeeeerrrrrEReErrRerrErereEeerrrerrEerreEeererRererReeeErEereeRrrerreEeRrrRrrErrEereRreeereErRerereeeeRrRrreeerrrereereeERrRrrrRRrrRReerEEEReerRrererREereerRrrerrEeeererRrERreEreRrrRreerReRerreereRRreeERrEeEreErEreERrerEerrereEeerereerrEREeeEerserrrrreeRrRerrrERreEersEReREEerRrerrrReErrRerreReerererrrRErrsEErrErEEerrEREreeErrrEereRrrErRereeerREeEeEeerrrererrrRrRrEreERrrrerEerrrRRrerreereeRereerreeee'\n",
        "'ERREREEEEEEREERREEERERRERRRERERRRRREREEREERREEERRREERERERRERREEERRRERRRRERRERRRRREERRRRRRRRRRRRERRRRRRERRRREERREEEEEREERERREEERRRERERERRERERRERRREEERREEEEREEEERRRREERERREREEEEEEEREREEEEREEREREEERRRREERREREEEEERREREERERRREEEEERREREEREEERRRRERERRRRREERERRRERERRRRERRREEREERRERERRREREERREERERRRREREREERRERERERERERRREEEEERREREERERRERREREERRREEERRREREREERERREEEERRRRRRREEERERREEEREERREREERRRRRRERRERREEREEREEERRREREEREREREEERERRERERERSERREERREREERRERREREREEREREEEREEREERERREREEEREEEERRERRREERRERERRREEEREE'\n",
        "'YYRlYyrYYrLYYyrllRLzrLLRrRylyylrRRyYYLLYllyyLllyLrLrYlrryRsYYYYYlyRrrrRlRRrLlyrlLLLRYlrrrrrlrrylYRRLlllRyyYRlyyLYryrRyyryLiLylyryyrlRLLLrlLRLYrylYrLylyyRrLyyylYlLrrylYyrLLrwyRRylLRrllYRrrrYlLyyRLrLRlLLlLYLYYYlRyyYYRyrllrrlllyrLrlllLrylRRrLLrRRlyrrRRYyYlllyLrRLlRlrRrYyLLjyRLlLYyryYyrylrlrLyylRyryrLLyLYLyLYrYlLYrRRrlYlyrryRYllLLLyRrRRylLyYlYyRLRLlyRRlrrRRrlRlRlryRRyRYRrryYYYlYYrLlllYrlRRlryyllYyRlYyRLrRrLYYyLrrYllYRyLlylLlrlRlLlryLryRlYylRLYlLYrlyRrrrllYlYLLYRRrRRLLYLlYllYlyrLRylRYlLyLRLrRYLyRlmLLlYlLrRlLylLlrLYyyYYYrRlrrylyRylryrLryrlYrlLrYlyryryRLyLlYRlYyrYRyylryYRryyylRylryRRyllrlllYrYRrrlYyRRyrYlYpylRrRYRLyRRRrrrYRLylrlRyyRlylYLYYRYlryLlRLYyRLLYyllRlRlRlyylRYRlLlYlyRlYrYRYLyYRyRLrRYrYrLYyYYlRryrrlylYyrlRrryYllnRLyYlYryrRLlYyLryylYyRRYLrLlyrYlRLlRLryrylLLRLrlYYyLrLyrYLyLrYlYYrYYlrLrllYlllYYlrlRyYRyLRRRrLrlLyRLRRLrLRrLyLRYRLYyRLLyRRlRLllyrYlRllrLlLyLrLYlryYYlLyLlRRRrfyLLrlRlyYRLrYyYyYylyyyryllYLRRrLrylYlyRyYLlnrYrLyRRRyRYYYrYrRlyLryyrrrlygrrRRyRYRyrRRllRlrYlRylryLryylrryYlYlyrllLllyYYY'\n",
        "'YYRYYYLYYRLLLRRLRRYYLLYLLLLYYRYYYYYLRRRRLLLLRYRYRRLLRYRYLYRLLLRRLLLLRLYYLRLYLYLLRRLRLYRYLRLLRLLLLYLYYYRYYRLLRRLLRRLRRYYLLRLRLRYLLRLLYRYLRLLLYLLYYLYRRYRYLLLRRRLYYRLRLYRRRRRRYRRRYRRYYYYYLYRRRYRYYRLRLYYLRYYRLLLRLLRYYRLYLYRRRYYLLYRRRRLLYLLYYYLRRYLLRLRYLRLLYLRLLLYYYYRRRLYLLYRLLYRYYRYRRLRRLYYRYYRRRYYLRRYRLRRRYRLRRYLYYRYLRLRLYRLLYRRRRYRLLYLRYYRYLYRRLRRYYLYYYLRYYRYYRLYYRRLYLYRRYLLYRLRLLLRLYYLRLYLLYYYYYLLYYYRYRLRRRLLRLRRLLRLLRYRLYRLLRRRLYRYRLLLLYYYLLLRRRLLRYRLYYYYLRRLYRYLLYLRRRRYYYYRRLRRRRYRRRRRYRLYYLYYY'\n",
        "'vvvkeevekVVvvkkKeeVvKvkevkvvkevevkeveekkkvekVkeEevVvkkKevekkkkekkekvevkevekkevEvEkEvvKkkveveKkKkkEekevkveKvkKkVeeEeeeekkekekvvkkvkeKvkKvkeKkKKEvvVekeKeKvvkeKvveeEEvkeveekVvekkkkevkkkkekVvvvkkEekkvkekVKvekVevvKkvvEveeekkEvevkekeveVkKevkVkeEvkeeEkkvekeevVvvvvkkvveKeevkkevvVekvKEEVvkvVkeVkEkkvvEekVkekevvVEEvvkKkkevEeVKvEekkVkVvkkevkvVeEeeeEvvkkkeVkeeVekEkeevkvVkKeevkKvkekvVevvvVkvKKKevekEvVekvEVeKkKKkvvevekvevkKvvvVvEEkEeveekKKVEKkkVKvKevkveVvVveeKVekEkkevvveveKeevkVvvEVeEkEkKkkeeeveeekekKeVvekevEKvkkkkVkEkekeEEekvkVVkekvKKkeeEvkeVkkekkvvKvKvEEVvvvVekkeeekEvvKvvvvVVEeeKVKvVekeekvvekvvekEeKekeEeVVEeeKEeEEvvveEevVEVkEvkeEkeveeeeevkkeVkVKvvvekeveKekeekvevkveEkKkkevEkKkvveKkkkvvEEvKKeVekVVkveeekEvkkvKvkvveEvKkvEvvveKKekevEeekKekkkkvKkkEvKkeEkvKvkevekVKVKvveKvkvvkkVvkvKEKvvvvkeekevkEVvKeKkkevVkkEEkkvkveVVvevevekkkeEevEkeVkeKkVekvEevkeeEvVKVeeVkVekkvevekEeKevvvkeevvvVevKvVevVvVkkevEeVkEvEvevEeevKkkevekkvEkvkvKkeveveekvveKvKeeeeekEkEkKeKkkkvkEkekvEekeekkvvvekveekeeveKekeVevEVekkKKKvkekkkEvkeekke'\n",
        "'VVVKEEVEKVVKKEEVVKEVKVVKEVEVKEVEEKKKVEKKEEVVKKEVEKKKKEKKEKVEVKEVEKKEVVKVVKKVEVEKKKEKEVKVEVKKEEEEEEKKEKEKVVKKVKEVKVKEKVVEKEEVVKEVVEEVKEVEEKVEKKKKEVKKKKEKVVVKKEKKVKEKVEKEVVKVVVEEEKKVEVKEKEVEKEVKKEVKEEKKVEKEEVVVVVKKVVEEEVKKEVVEKVVKVKEKKKVVEKKEKEVVVVKKKEVEVEKKKVKKEVKVEEEEVVKKKEKEEEKKEEVKVKEEVKVKEKVEVVVKVEVEKVEKVEKKVVEVEKVEVKVVVVKEVEEKKKVEVKVEVVEEEKKKEVVVEVEEEVKVVEKKKKEEEVEEEKEKEVEKEVVKKKKKKEKEEKVKKEKVKEEVKEKKEKKVVVVVVVEKKEEEKVVVVVVEEVEKEEKVVEKVVEKEEKEEEEEVVVEEVKVKEKEVEEEEEVKKEKVVVEKEVEEKEEKVEVKVEKKKEVKKVVEKKKVVVEEKKVEEEKVKKVVKVVEVKVVVVEEKEVEEKEKKKKVKKVKEKVVKEVEKVVEVKVVKKVKVVVVVKEEKEVKVEKKEVKKKKVKVEVEVEVEKKKEEVKEKEKEKVEVKEEVEEKEKKVEVEKEEVVVKEEVVVEVVEVVKKEVEKVVEVEEVKKEVEKKVKVKVKEVEVEEKVVEVEEEEEKKKEKKKVKKEKVEKEEKKVVVEKVEEKEEVEEKEEVEKKVKEKKKVKEEKKE'\n",
        "'RreeerrEeRReReErrrReerresrERrrrReTrreEerRRerRrereeSeeererEeEeeErEREErrErrreeeerRerrrrRerEREeererSeRrReRerrrerrErEReeerrrrrReEreerReerRerREERreeeeRreReeeeeEErRRrrererreRreReeereRrerreRrREEeReEErrrreeErEeReRrrerrrEreereereeRrEeRrreREeeerEReREerrrrreerErEErrrrRErrrRrreeReReereERerereReRreEeeeeEEeerrrerRrrrrRerreeeEEereeereeEeeEseeReEreRRERrrrereerrererrEReerrrrrreeeRrreeeeeRRrsrrREererERRreereeRereEeRrRrRereEeeeRreEeerrRrereRerrrerererErRererrreeEeRRrErErrErrerrrreerrrreReeererersreReerEreRerReRRreEeeReereeEerrEEErrrEererreeerreeerrrrrEeeEEerrrReReeerreeREeEeREeReeeeREeRerERerreRereeslrrreeerERerErrRreRRrreEeererrrRRRreErrRREreeEeereeerrreeerrEerrrRRrerrerRReErRRrreEeeRereeEeERreEeEerREErReReRerrrreeERErereRreeReeeeeeErrreeerEeerEREeeReereerrrrerrErerrErerRrrErerrReEEerReeERRRrErereeeerERerRrRErSeEeeeeRrEereeeErrrREerERerReeeeReerRrreeEEeEerrereeeererEEERseeererRrrRerreersereeeRrreeEerrrrrreRERrErerrreRrrererRerererRreErEErrRrREreRrRrerReEeRrErrerererrreerreEReeRererrreReEEererREeEvRRrrer'\n",
        "'REEERRRERERERRRRETRERRRRRERESEEEEEEEREREEEERRRRRERERSRRRERRREEREERRREERREEREREEEERRRRRRREREEEREERRRREERRERRREEERRERREEEEERRRRERRRREEERRRREEEEEEERRRRREEEEEEEEEEESRERRERRRRRERRRERRRRRREREREEREERRRREREEREERRRERERRREERREERERRERRRESERERRRERREREEEEEEREERERREEREEEERREREEEREEERERRERRERREEEEERERRRRREERRRREERRRREEERERREEERRRRRERRREREEEREEEREERREREREEREEREEEERREEREEEREREEREERERRERRERRREEEERREERRREREERERRRERSEEEEREERERREERERERREEEREEREEERSERRREREEERREERRRRERERREERERERREEREERRRERRREEREEEREEREERERREEEEREEERRR'\n",
        "'ANzaNanaanAZnnaazzzNAznnZaaZzzaZzzznaaaaZAANnaaanZnzazaAANanZaznazznzaAaNznazzanaZznzANzznzaaZzAnanNanzzAazzZZananazAznaznNznaAAaZnnanzazANAANAnnnzazaaaanzaznAaaNZnNAnnanazaZzNzazanZnazaAzanazzaNznNzzzaaanZaAnNAanzznNaNznanAnananNnaazznznnzNznnNzzanzAaNzzzZzAnnznaanzZznzNZzZzznnnaazzzanaazzazznnanANnznzAZzNZnNnanzazNaZZzzazAnNzAzAZAazanzzZzaznnZzaaazzznnaanaazaAnzzzZaaazzzzNaaNazzaaANznazAannzAaZZaznnzznnAzaaaanaaAznazZAnzzaAzaZzzZzznzazAznnaznznnaNAazZzzazNazanzaanZaZznnznzaNzannnZZNnaznzaNaAZznazAzAzNnnanznannaznAznnnnazzNnaazAanzZnaAnnaAzaanZnZNNzannanznazAnzNanaZznAAnnnNzaznAnZZnznaanzzaNzzAZzaNzNzaZanaNzNnnnAnaaZnaaznanZnzaannanzAzazazaNannaaznNnNnzaazazAzAnAzzaNaaNnanzaaZANaaZnaAzazaZZZAznAaaZnaAnnAanaAAnznNNzNnanZzzZzzNzaZaaznnznzNnaNZannNzAnnnznAazaaaanZzzananznzzZznNNzzznnznannZzznzzaZazaNnnnZzanznazzazzanzazzZannzAzazAZnnzNZannzZaNznAZanaaanAnNzzznzZaanANZananzzZaNzzaZnnzazZanzznAaaAZZaznANNzanaaanNzAnaanaAzzZnNannznaNznANzznzZanaNNaZnzaznzZaanzznnnAANzzZananzNZnaaZaANZzNAAaz'\n",
        "'ZAANAANNNAAZZZZNNAAZZAZZZNAAAANAAANNZAZAANAZNAZZNZAAZNAZZANAZNZZZNZAAZNANANZZAZZANANAZZNAZNZNAANNANZAZNNNZAZAAAANZAZNAANNNANAZAZZAZANNAZAZANAZZAZNZZZAAANANANZZNAZNANNANANNAAZZNZNNZZNNZZANZAZZZZNNZNAANZZNZZZZNNNAAZZZANAAZZAZZNNANNZNZZNNANZAZAZZAZNZZAZANZZZAZNNZAAAZZZNNAANAAZANZZZAAAZZZZAAAZZAAZNAZANNZAAZNNZZNNZAAAANAAZNAZNZZAZAZZZZNZAZZNNAZNZNNAAZZZAZAZANZAANAZNNZNZAZANNNNAZNZAAZNAZZZNNANZNANNAZNZNNNNAZZNAAZANZNANNAZAANNZANNANZNAZNZANAZNNNNZAZNNNZNAANZZAZZZAZZAANAZNNNNAANAAZNANNZAANNANZZAZAZAANNAAZNNNZAAZAZZNZZAAANANZAAAANAZAZAZNAANANNANANZNZNANZZZZZAAAZNNZNZNAANNZNNNZNAZAAAANZZANANZNZZZNZZZNNZNANNZZNZZAAZANNNZANZNAZZAZZANZAZZANNZZAZNNZANNZAZNANAAANNZZZNZAANANANZZAZZANNZAZANZZNAAAZNZANAAANZNAANAZZNANNZNAZNZZNZANAANZAZNZAANZZNNNZZANANZNAAAZAZ'\n",
        "'evivevvVvevvEeeevVevevVvevEVevEeeEVVveevEvevevEeEeEEeeVevvvVVvevveevevEeVeVvvveeeeeivVveEevvEeveevvevvvVeevVeeeeveebveeVvvvvvEVEvEvvvvEEVVeeeVvEVEvevvevEvveVeEeeeVveVEVvvvvEeeVVvVeEEVvEEeeeveveeevVVeeeevVveeVvevVVevevvEEveVEEVVeeeEeveevevEvvvvevveeeeVEvevvEVvvvVevevvvveVeevVveevVeEevEEeeevVeieeeVvvvevvVeevvveeeevvVevEeevvvevveveevvveeeveeevVivevvevVvVeeevvEveevEEVeeVVEeeeevvveeEeveevvVeeEeevvvveeVvveveeeEveeeEeveeveVeVEveevvvVeevvveeEevVveeeVEeevEveevvVeveeeeVVVVeVEvvEVveveEvVeeeeEeeevvVEvveevvEeevevvVEeeeEvvvevvVvEVEvvvvvVvevEvVvVeevVevvVvEvveeeeeeEeveeVvEvVVvveveEvvVveeevvvViEeEEveeevvVevEveVVVeEeevVeveeEeeeeeveEvvVEeeEeveEvvvvveeVveVeVveeeVveEveeVvEVeEEeveeeVvvveEeveveeeVevevvveveVEEeveveevevveeevVeeeveveeveeveevvvEeeEvVeveevVEVEvvVVeeveVevViEEvVevevvVVEVVvvVeiEvVeevevvvEevvEvvvvevVveeVvvEevEeEEvEeeeeevveveevveveeeeVVeeveevvvveeVEEEveeeveeeEveeVVeeeVvEvvevveevvveVveeievivvVvvevevveeEeVEEeveveeVEEveviEveeivVvvVIEeEEvEveevEEveVvvEEveVeVEVvveveeVvVeEveeVVvveveeveVeveevvevEeVeeveVeEeVve'\n",
        "'VEVVEEVEVVEVEEVVVEVEEEEEEEVVVEVEVEVVEEVEEEVVVEEVEEVVVEVEEVEEVVVVEVEVEVVEEVEEEEVEVVEEEVVVEEEVEEEVVEEVVVVVVEVVVVVEEVEEVVEEEVEVVVVEVEVEVEVVVEVVEEVVVEEEEEEVVIEEVVVVEEVVVEVEVVVEVVVEVIVEVVVVEEEEEVVVEVEEEVEVEEVEVVVEVVVEEEEEEVEVEVEVVEVVVVVEVEVEVEEEEVVEVEEEEVVEEEEEVEVEVEVVVEEVVEVVVVEEEEEVEVVVVVEEEVEEVEEEEVEEVVVEEEVEEVEEEEEEEVVVEVVEEVEVEEEVVVVEVEEVEVEVVVEEVEVVEVVVEVEEEEVVEVEVVEEVVVEEVVVVEVVVVEVVVVVEVEVVVVEVEEEEEEVVVEVVEEVVVEEVEEEEEEEEVVEEVEVEVVEVEIVVEEVEEVVEEVEEEIVVVVIEEEEEVEEEVEEEVVEVVEVVEVVEVEVEVEVVVEVE'\n",
        "'cCccCoccocOOCCOccoccoCooCocoOoCcoCoooooOcococccOoocCoccOcoCcoooocCoooocCwcooowcocoocOococoocooOooCCooccooCCocooccoCoococccCccocoOoCcOCocccocOoOooOOooooccOcococcOOooCccooCoccOccoCcoCccOcccOoCCococCooOCoocccocoOocoOCCcoccOcOcccoOooooOOOoOcCcocCoCoOCOOcOcOOocooooocoCccocooocoooocccccooccccCCcoocococCcccCOcccccOoooOoooCcocccooocoCccOCCCccooccOwcCoccCcCcccocooOocCocccoOccocooccOocccooocooccOcccocoocoOOCOocOoococooOoOcocoocOcCcococcocCcoCoCOoOcoOOccoCcOoococoCooocccCooccCCcccCOooocoCOoOCcCccccocwcoCCOOcOoOccccCcocoCCococcCooOCcocccocOcocoocooooCoccccooOccCocoOOocococooOcccCocoOoccoCoocOccOoOOooooooocCoocCCcccococoooocCcoOooooOCcOccCooooOoocccccocoOocoCccCCcwOoOcocoocoOocccoOoCccocoocccccccooowccccOcCCoocooocOooococOOoooccoOwooOCccccoooocCooooooooooCwcooCcccoOcCoooOoOcwOoCoCcCocwoOOCcoocOOcCooocOoOooOoOccOcccocCoOcOcocoococcOoooccccccCoCooCcoooocCccOCccCooCcoOCcocoocOcoocoooOocCcCcoocoCOoOoocooCococoOccCoCoooocOoooOcoooCccocoocococOcOCccccoocccccccCooOoowoOcooOcCCOoCccCocooccoccoCCoccocOcccCo'\n",
        "'CCCOOCCOCOCOCOOCCCOOCOCOCOCOCCCOOCOOCOOWCOOOOOOOOOOCCOOCCCCCOCOCOOCOCOOOOOOOOOOOCCOCOOCCCCCOCOOCCCCOCOCCOOOOCCCOCOOCOOOOOOOCCCCOOCOOCOOOOOOCCOOOOCCCCCCCCOCCCCOOOOOCOCOCCOCCCCOCOCCCCCCCOOCCOCCOCCOOOCOOOOCOOOOOOCCOOCCOOCOCCCCOOOOOOOCOCOCCCCCCOOOCCOOCCCCCCOOCOOCCCCCOOCCCOCCCOCOOCOCCOCCOOOOOOOOOCCOOOCCOCOOOOOOOOCCCCOCOOCCOOOCOCCOOOOCOOOCCCWOOOCCOOCCOCCOCCOOCOCCCOCOOOOOCOOOCCCCCOCOCOOCOOWOOCCCOOOCCOOOCCOOCOOOOOOCOCCCOOCCCOOCOCOCOCCCCOCCCCOCCOOOOOCCOCCOOOOCOOCCCOOOCOOOOCCCOCOCCCOCCOOOCCOOCCCOOCCOCOOCC'\n",
        "'YES'\n",
        "'NO'\n",
        "'YES'\n",
        "'YES'\n",
        "'YES'\n",
        "'NO'\n",
        "'NO'\n",
        "'NO'\n",
        "'NO'\n",
        "'YES'\n",
        "abbreviation(a, b)"
      ],
      "metadata": {
        "colab": {
          "base_uri": "https://localhost:8080/",
          "height": 37
        },
        "id": "a_Qnei6F30iZ",
        "outputId": "bd40b893-8316-4f32-fc2f-99d4e2fd15dc"
      },
      "execution_count": null,
      "outputs": [
        {
          "output_type": "execute_result",
          "data": {
            "text/plain": [
              "'NO'"
            ],
            "application/vnd.google.colaboratory.intrinsic+json": {
              "type": "string"
            }
          },
          "metadata": {},
          "execution_count": 43
        }
      ]
    },
    {
      "cell_type": "code",
      "source": [
        "# HR Tree: Huffman Decoding -easy\n",
        "def decodeHuff(root, s):\n",
        "    r = ''\n",
        "    c= root\n",
        "    for ch in s:\n",
        "        if ch == '1':\n",
        "            c = c.right\n",
        "            if not c.left and not c.right:\n",
        "                r += c.data\n",
        "                c = root\n",
        "        if ch == '0':\n",
        "            c = c.left\n",
        "            if not c.left and not c.right:\n",
        "                r += c.data\n",
        "                c = root\n",
        "    print (r)"
      ],
      "metadata": {
        "id": "GVjRyzL9g4_K"
      },
      "execution_count": null,
      "outputs": []
    },
    {
      "cell_type": "code",
      "source": [
        "# HR Dynamic Programming > The Maximum Subarray\n",
        "# Given an array, find the maximum possible sum among: a) all nonempty subarrays, and b) all nonempty subsequences\n",
        "def maxSubarray(arr):\n",
        "  mxsubset = 0\n",
        "  msa = 0\n",
        "  mx = arr[0]\n",
        "  cur = 0\n",
        "\n",
        "  for n in arr:\n",
        "    if n>0:\n",
        "      mxsubset += n\n",
        "    cur = max(0, cur+n)\n",
        "    msa = max(msa, cur)\n",
        "    mx = max(mx, n)\n",
        "  if mx < 0:\n",
        "    return mx,mx\n",
        "  return msa,mxsubset\n",
        "\n",
        "\n",
        "# tests\n",
        "# a = [2,-1,2,3,4,-5] # 10,11\n",
        "# a = [-1,2,3,-4,5,10] #16,20\n",
        "a = [-1,2,3,-4,1,2] #5,8\n",
        "# a = [-2,-3,-1,-4,-6] #-1,-1\n",
        "maxSubarray(a)"
      ],
      "metadata": {
        "colab": {
          "base_uri": "https://localhost:8080/"
        },
        "id": "Sh9LHULrBAP7",
        "outputId": "f068dbc8-b407-4499-990f-1cea1e9f72b1"
      },
      "execution_count": null,
      "outputs": [
        {
          "output_type": "execute_result",
          "data": {
            "text/plain": [
              "(5, 8)"
            ]
          },
          "metadata": {},
          "execution_count": 6
        }
      ]
    },
    {
      "cell_type": "code",
      "source": [
        "# HR Dynamic Programming > The Coin Change Problem\n",
        "# Given an amount and the denominations of coins available, determine how many ways change can be made for amount. There is a limitless supply of each coin type\n",
        "\n",
        "def getWays(n, c): # this solution is too slow\n",
        "  c.sort()\n",
        "  t = [[] for i in range((n+1))]\n",
        "  t[0].append([0 for coin in c])\n",
        "  for i in range(n):\n",
        "    for e in t[i]:\n",
        "      for j in range(len(c)):\n",
        "        if i+c[j] < n+1:\n",
        "          combo = [k for k in e]\n",
        "          combo[j] += 1\n",
        "          if combo not in t[i+c[j]]:\n",
        "            t[i+c[j]].append(combo)\n",
        "  return len(t[n])\n",
        "\n",
        "# tests\n",
        "# n, c = 3, [8,3,1,2] # 3 -(1,1,1),(1,2),(3)\n",
        "# n, c = 4, [1,2,3] # 4 -(1,1,1,1),(1,1,2),(2,2),(1,3)\n",
        "# n, c = 10, [2,5,3,6] # 5\n",
        "n, c = 166, [5,37,8,39,33,17,22,32,13,7,10,35,40,2,43,49,46,19,41,1,12,11,28] # 96190959\n",
        "getWays(n, c)"
      ],
      "metadata": {
        "id": "0a83Ur-hAIPR"
      },
      "execution_count": null,
      "outputs": []
    },
    {
      "cell_type": "code",
      "source": [
        "# HR Inserting a Node Into a Sorted Doubly Linked List\n",
        "# passes all HR tests\n",
        "def sortedInsert(llist, data):\n",
        "    temp = DoublyLinkedListNode(data)\n",
        "    if not llist:\n",
        "        return temp\n",
        "    if data < llist.data:\n",
        "        llist.prev = temp\n",
        "        temp.next = llist\n",
        "        return temp\n",
        "    else:\n",
        "        cur = llist\n",
        "        while cur.next:\n",
        "            if data < cur.next.data:\n",
        "                temp.next = cur.next\n",
        "                cur.next.prev = temp\n",
        "                temp.prev = cur\n",
        "                cur.next = temp\n",
        "                return llist\n",
        "            cur = cur.next\n",
        "        cur.next = temp\n",
        "        temp.prev = cur\n",
        "        return llist\n"
      ],
      "metadata": {
        "id": "5y6KxhHt2dGW"
      },
      "execution_count": null,
      "outputs": []
    },
    {
      "cell_type": "code",
      "source": [
        "def getWays(n, c):\n",
        "  w = 0\n",
        "  for coin in c:\n",
        "    if coin <= n:\n",
        "      if n == coin:\n",
        "        # w += 1\n",
        "        return 1\n",
        "      else:\n",
        "        w += getWays(n-coin, w)\n",
        "  return w\n",
        "\n",
        "# tests\n",
        "n, c = 3, [8,3,1,2] # 3 -(1,1,1),(1,2),(3)\n",
        "# n, c = 4, [1,2,3] # 4 -(1,1,1,1),(1,1,2),(2,2),(1,3)\n",
        "# n, c = 10, [2,5,3,6] # 5\n",
        "getWays(n, c)"
      ],
      "metadata": {
        "colab": {
          "base_uri": "https://localhost:8080/"
        },
        "id": "D2qbado6bDsb",
        "outputId": "49a51608-cbdb-498a-98ae-56e43f027f8d"
      },
      "execution_count": null,
      "outputs": [
        {
          "output_type": "execute_result",
          "data": {
            "text/plain": [
              "1"
            ]
          },
          "metadata": {},
          "execution_count": 39
        }
      ]
    },
    {
      "cell_type": "code",
      "source": [
        "# LC 557. Reverse Words in a String III\n",
        "# Given a string s, reverse the order of characters in each word within a sentence while still preserving whitespace and initial word order.\n",
        "def reverseWords(s: str) -> str:\n",
        "  l = s.split()\n",
        "  for i in range(len(l)):\n",
        "    l[i] = l[i][::-1]\n",
        "  return ' '.join(l)\n",
        "\n",
        "# tests\n",
        "s = \"Let's take LeetCode contest\" # \"s'teL ekat edoCteeL tsetnoc\"\n",
        "# s = \"God Ding\" # \"doG gniD\"\n",
        "reverseWords(s)"
      ],
      "metadata": {
        "colab": {
          "base_uri": "https://localhost:8080/",
          "height": 38
        },
        "id": "zaw555ous94t",
        "outputId": "83edd802-e99b-4df0-d3a0-d87c43e6965c"
      },
      "execution_count": null,
      "outputs": [
        {
          "output_type": "execute_result",
          "data": {
            "text/plain": [
              "\"s'teL ekat edoCteeL tsetnoc\""
            ],
            "application/vnd.google.colaboratory.intrinsic+json": {
              "type": "string"
            }
          },
          "metadata": {},
          "execution_count": 7
        }
      ]
    },
    {
      "cell_type": "code",
      "source": [
        "# LC 125. Valid Palindrome\n",
        "def isPalindrome(s):\n",
        "  l = [ch.lower() for ch in s if ch.isalnum()]\n",
        "  for i in range(len(l)//2):\n",
        "    if l[i] != l[-i-1]:\n",
        "      return False\n",
        "  return True\n",
        "  \n",
        "# tests\n",
        "# s = \"A man, a plan, a canal: Panama\" # true\n",
        "# s = \"race a car\" # false\n",
        "s = \" \" # true\n",
        "isPalindrome(s)"
      ],
      "metadata": {
        "colab": {
          "base_uri": "https://localhost:8080/"
        },
        "id": "16Km42aqvGV_",
        "outputId": "92ee6154-053e-4b05-a8e5-e0389074a90a"
      },
      "execution_count": null,
      "outputs": [
        {
          "output_type": "execute_result",
          "data": {
            "text/plain": [
              "True"
            ]
          },
          "metadata": {},
          "execution_count": 11
        }
      ]
    },
    {
      "cell_type": "code",
      "source": [
        "# LC 345. Reverse Vowels of a String\n",
        "# Given a string s, reverse only all the vowels in the string and return it.\n",
        "def reverseVowels(s):\n",
        "  l = [ch for ch in s]\n",
        "  v = ['a','e','i','o','u','A','E','I','O','U']\n",
        "  j = len(l) - 1\n",
        "  for i in range(len(l)):\n",
        "    if i > j: break\n",
        "    if l[i] in v:\n",
        "      while j > i:\n",
        "        if l[j] in v:\n",
        "          break\n",
        "        j -= 1\n",
        "      if l[j] in v:\n",
        "        l[i], l[j] = l[j], l[i]\n",
        "        j -= 1\n",
        "  return ''.join(l)\n",
        "\n",
        "# tests\n",
        "# s = \"hello\" # \"holle\"\n",
        "# s = \"leetcode\" # \"leotcede\"\n",
        "# s = 'aA' # 'Aa'\n",
        "# s = 'ai' # 'ia'\n",
        "s = \"Marge, let's \\\"went.\\\" I await news telegram.\"\n",
        "#   \"Marge, let's \\\"went.\\\" i awaIt news telegram.\"\n",
        "reverseVowels(s)"
      ],
      "metadata": {
        "colab": {
          "base_uri": "https://localhost:8080/",
          "height": 38
        },
        "id": "oe1ZH1qky2Yj",
        "outputId": "d5e5d116-5786-4b64-d496-350160aa1396"
      },
      "execution_count": null,
      "outputs": [
        {
          "output_type": "execute_result",
          "data": {
            "text/plain": [
              "'Marge, let\\'s \"went.\" i awaIt news telegram.'"
            ],
            "application/vnd.google.colaboratory.intrinsic+json": {
              "type": "string"
            }
          },
          "metadata": {},
          "execution_count": 24
        }
      ]
    },
    {
      "cell_type": "code",
      "source": [
        "# LC 14. Longest Common Prefix\n",
        "def longestCommonPrefix(strs) -> str:\n",
        "    result = ''\n",
        "    ltr = True\n",
        "    for i in range(len(strs[0])):\n",
        "        for w in strs:\n",
        "            ltr = len(w)>i and ltr and w[i] == strs[0][i]\n",
        "        if ltr:\n",
        "            result += strs[0][i]\n",
        "    return result"
      ],
      "metadata": {
        "id": "L444rPge7fCv"
      },
      "execution_count": null,
      "outputs": []
    },
    {
      "cell_type": "code",
      "source": [
        "# LC 200. Number of Islands\n",
        "# Given an m x n 2D binary grid grid which represents a map of '1's (land) and '0's (water), return the number of islands.\n",
        "# this solution passes, but is slow and uses too much memory\n",
        "def numIslands(grid):\n",
        "  rows = len(grid)\n",
        "  cols = len(grid[0])\n",
        "  v = set()\n",
        "  result = 0\n",
        "  for i in range(rows):\n",
        "    for j in range(cols):\n",
        "      if f'{i},{j}' not in v:\n",
        "        v.add(f'{i},{j}')\n",
        "        if grid[i][j] == '1':\n",
        "          result += 1\n",
        "          q = [(i,j)]\n",
        "          while q:\n",
        "            cur = q.pop()\n",
        "            r = cur[0]\n",
        "            c = cur[1]\n",
        "            if f'{r},{c}' not in v:\n",
        "              v.add(f'{r},{c}')\n",
        "            if c+1 < cols and grid[r][c+1] == '1' and f'{r},{c+1}' not in v and (r,c+1) not in q: # right\n",
        "              q.append((r,c+1))\n",
        "            if r+1 < rows and grid[r+1][c] == '1' and f'{r+1},{c}' not in v and (r+1,c) not in q: # down\n",
        "              q.append((r+1,c))\n",
        "            if c-1 >= 0 and grid[r][c-1] == '1' and f'{r},{c-1}' not in v and (r,c-1) not in q: # left\n",
        "              q.append((r,c-1))\n",
        "            if r-1 >= 0 and grid[r-1][c] == '1' and f'{r-1},{c}' not in v and (r-1,c) not in q: # up\n",
        "              q.append((r-1,c))\n",
        "            # print('v',v)\n",
        "            # print('q',q)\n",
        "  return result\n",
        "\n",
        "# tests\n",
        "# g = [\n",
        "#   [\"1\",\"1\",\"1\",\"1\",\"0\"],\n",
        "#   [\"1\",\"1\",\"0\",\"1\",\"0\"],\n",
        "#   [\"1\",\"1\",\"0\",\"0\",\"0\"],\n",
        "#   [\"0\",\"0\",\"0\",\"0\",\"0\"]\n",
        "# ] # 1\n",
        "# g = [\n",
        "#   [\"1\",\"1\",\"0\",\"0\",\"0\"],\n",
        "#   [\"1\",\"1\",\"0\",\"0\",\"0\"],\n",
        "#   [\"0\",\"0\",\"1\",\"0\",\"0\"],\n",
        "#   [\"0\",\"0\",\"0\",\"1\",\"1\"]\n",
        "# ] # 3\n",
        "g = [[\"1\",\"0\",\"0\",\"1\",\"1\",\"1\",\"0\",\"1\",\"1\",\"0\",\"0\",\"0\",\"0\",\"0\",\"0\",\"0\",\"0\",\"0\",\"0\",\"0\"],[\"1\",\"0\",\"0\",\"1\",\"1\",\"0\",\"0\",\"1\",\"0\",\"0\",\"0\",\"1\",\"0\",\"1\",\"0\",\"1\",\"0\",\"0\",\"1\",\"0\"],[\"0\",\"0\",\"0\",\"1\",\"1\",\"1\",\"1\",\"0\",\"1\",\"0\",\"1\",\"1\",\"0\",\"0\",\"0\",\"0\",\"1\",\"0\",\"1\",\"0\"],[\"0\",\"0\",\"0\",\"1\",\"1\",\"0\",\"0\",\"1\",\"0\",\"0\",\"0\",\"1\",\"1\",\"1\",\"0\",\"0\",\"1\",\"0\",\"0\",\"1\"],[\"0\",\"0\",\"0\",\"0\",\"0\",\"0\",\"0\",\"1\",\"1\",\"1\",\"0\",\"0\",\"0\",\"0\",\"0\",\"0\",\"0\",\"0\",\"0\",\"0\"],[\"1\",\"0\",\"0\",\"0\",\"0\",\"1\",\"0\",\"1\",\"0\",\"1\",\"1\",\"0\",\"0\",\"0\",\"0\",\"0\",\"0\",\"1\",\"0\",\"1\"],[\"0\",\"0\",\"0\",\"1\",\"0\",\"0\",\"0\",\"1\",\"0\",\"1\",\"0\",\"1\",\"0\",\"1\",\"0\",\"1\",\"0\",\"1\",\"0\",\"1\"],[\"0\",\"0\",\"0\",\"1\",\"0\",\"1\",\"0\",\"0\",\"1\",\"1\",\"0\",\"1\",\"0\",\"1\",\"1\",\"0\",\"1\",\"1\",\"1\",\"0\"],[\"0\",\"0\",\"0\",\"0\",\"1\",\"0\",\"0\",\"1\",\"1\",\"0\",\"0\",\"0\",\"0\",\"1\",\"0\",\"0\",\"0\",\"1\",\"0\",\"1\"],[\"0\",\"0\",\"1\",\"0\",\"0\",\"1\",\"0\",\"0\",\"0\",\"0\",\"0\",\"1\",\"0\",\"0\",\"1\",\"0\",\"0\",\"0\",\"1\",\"0\"],[\"1\",\"0\",\"0\",\"1\",\"0\",\"0\",\"0\",\"0\",\"0\",\"0\",\"0\",\"1\",\"0\",\"0\",\"1\",\"0\",\"1\",\"0\",\"1\",\"0\"],[\"0\",\"1\",\"0\",\"0\",\"0\",\"1\",\"0\",\"1\",\"0\",\"1\",\"1\",\"0\",\"1\",\"1\",\"1\",\"0\",\"1\",\"1\",\"0\",\"0\"],[\"1\",\"1\",\"0\",\"1\",\"0\",\"0\",\"0\",\"0\",\"1\",\"0\",\"0\",\"0\",\"0\",\"0\",\"0\",\"1\",\"0\",\"0\",\"0\",\"1\"],[\"0\",\"1\",\"0\",\"0\",\"1\",\"1\",\"1\",\"0\",\"0\",\"0\",\"1\",\"1\",\"1\",\"1\",\"1\",\"0\",\"1\",\"0\",\"0\",\"0\"],[\"0\",\"0\",\"1\",\"1\",\"1\",\"0\",\"0\",\"0\",\"1\",\"1\",\"0\",\"0\",\"0\",\"1\",\"0\",\"1\",\"0\",\"0\",\"0\",\"0\"],[\"1\",\"0\",\"0\",\"1\",\"0\",\"1\",\"0\",\"0\",\"0\",\"0\",\"1\",\"0\",\"0\",\"0\",\"1\",\"0\",\"1\",\"0\",\"1\",\"1\"],[\"1\",\"0\",\"1\",\"0\",\"0\",\"0\",\"0\",\"0\",\"0\",\"1\",\"0\",\"0\",\"0\",\"1\",\"0\",\"1\",\"0\",\"0\",\"0\",\"0\"],[\"0\",\"1\",\"1\",\"0\",\"0\",\"0\",\"1\",\"1\",\"1\",\"0\",\"1\",\"0\",\"1\",\"0\",\"1\",\"1\",\"1\",\"1\",\"0\",\"0\"],[\"0\",\"1\",\"0\",\"0\",\"0\",\"0\",\"1\",\"1\",\"0\",\"0\",\"1\",\"0\",\"1\",\"0\",\"0\",\"1\",\"0\",\"0\",\"1\",\"1\"],[\"0\",\"0\",\"0\",\"0\",\"0\",\"0\",\"1\",\"1\",\"1\",\"1\",\"0\",\"1\",\"0\",\"0\",\"0\",\"1\",\"1\",\"0\",\"0\",\"0\"]]\n",
        "# 58\n",
        "numIslands(g)"
      ],
      "metadata": {
        "colab": {
          "base_uri": "https://localhost:8080/"
        },
        "id": "4mWIjNUG9JrV",
        "outputId": "c804277f-4040-4b3c-f59d-2aba3c0b13a0"
      },
      "execution_count": null,
      "outputs": [
        {
          "output_type": "execute_result",
          "data": {
            "text/plain": [
              "58"
            ]
          },
          "metadata": {},
          "execution_count": 38
        }
      ]
    },
    {
      "cell_type": "code",
      "source": [
        "# this solution works, but is too slow to pass\n",
        "def numIslands(grid):\n",
        "  rows = len(grid)\n",
        "  cols = len(grid[0])\n",
        "  v = []\n",
        "  result = 0\n",
        "  for i in range(rows):\n",
        "    for j in range(cols):\n",
        "      if (i,j) not in v:\n",
        "        v.append((i,j))\n",
        "        if grid[i][j] == '1':\n",
        "          result += 1\n",
        "          q = [(i,j)]\n",
        "          while q:\n",
        "            cur = q.pop()\n",
        "            r = cur[0]\n",
        "            c = cur[1]\n",
        "            if cur not in v:\n",
        "              v.append((r,c))\n",
        "            if c+1 < cols and grid[r][c+1] == '1' and (r,c+1) not in v and (r,c+1) not in q: # right\n",
        "              q.append((r,c+1))\n",
        "            if r+1 < rows and grid[r+1][c] == '1' and (r+1,c) not in v and (r+1,c) not in q: # down\n",
        "              q.append((r+1,c))\n",
        "            if c-1 >= 0 and grid[r][c-1] == '1' and (r,c-1) not in v and (r,c-1) not in q: # left\n",
        "              q.append((r,c-1))\n",
        "            if r-1 >= 0 and grid[r-1][c] == '1' and (r-1,c) not in v and (r-1,c) not in q: # up\n",
        "              q.append((r-1,c))\n",
        "            # print('q',q)\n",
        "  return result\n",
        "g = [[\"1\",\"0\",\"0\",\"1\",\"1\",\"1\",\"0\",\"1\",\"1\",\"0\",\"0\",\"0\",\"0\",\"0\",\"0\",\"0\",\"0\",\"0\",\"0\",\"0\"],[\"1\",\"0\",\"0\",\"1\",\"1\",\"0\",\"0\",\"1\",\"0\",\"0\",\"0\",\"1\",\"0\",\"1\",\"0\",\"1\",\"0\",\"0\",\"1\",\"0\"],[\"0\",\"0\",\"0\",\"1\",\"1\",\"1\",\"1\",\"0\",\"1\",\"0\",\"1\",\"1\",\"0\",\"0\",\"0\",\"0\",\"1\",\"0\",\"1\",\"0\"],[\"0\",\"0\",\"0\",\"1\",\"1\",\"0\",\"0\",\"1\",\"0\",\"0\",\"0\",\"1\",\"1\",\"1\",\"0\",\"0\",\"1\",\"0\",\"0\",\"1\"],[\"0\",\"0\",\"0\",\"0\",\"0\",\"0\",\"0\",\"1\",\"1\",\"1\",\"0\",\"0\",\"0\",\"0\",\"0\",\"0\",\"0\",\"0\",\"0\",\"0\"],[\"1\",\"0\",\"0\",\"0\",\"0\",\"1\",\"0\",\"1\",\"0\",\"1\",\"1\",\"0\",\"0\",\"0\",\"0\",\"0\",\"0\",\"1\",\"0\",\"1\"],[\"0\",\"0\",\"0\",\"1\",\"0\",\"0\",\"0\",\"1\",\"0\",\"1\",\"0\",\"1\",\"0\",\"1\",\"0\",\"1\",\"0\",\"1\",\"0\",\"1\"],[\"0\",\"0\",\"0\",\"1\",\"0\",\"1\",\"0\",\"0\",\"1\",\"1\",\"0\",\"1\",\"0\",\"1\",\"1\",\"0\",\"1\",\"1\",\"1\",\"0\"],[\"0\",\"0\",\"0\",\"0\",\"1\",\"0\",\"0\",\"1\",\"1\",\"0\",\"0\",\"0\",\"0\",\"1\",\"0\",\"0\",\"0\",\"1\",\"0\",\"1\"],[\"0\",\"0\",\"1\",\"0\",\"0\",\"1\",\"0\",\"0\",\"0\",\"0\",\"0\",\"1\",\"0\",\"0\",\"1\",\"0\",\"0\",\"0\",\"1\",\"0\"],[\"1\",\"0\",\"0\",\"1\",\"0\",\"0\",\"0\",\"0\",\"0\",\"0\",\"0\",\"1\",\"0\",\"0\",\"1\",\"0\",\"1\",\"0\",\"1\",\"0\"],[\"0\",\"1\",\"0\",\"0\",\"0\",\"1\",\"0\",\"1\",\"0\",\"1\",\"1\",\"0\",\"1\",\"1\",\"1\",\"0\",\"1\",\"1\",\"0\",\"0\"],[\"1\",\"1\",\"0\",\"1\",\"0\",\"0\",\"0\",\"0\",\"1\",\"0\",\"0\",\"0\",\"0\",\"0\",\"0\",\"1\",\"0\",\"0\",\"0\",\"1\"],[\"0\",\"1\",\"0\",\"0\",\"1\",\"1\",\"1\",\"0\",\"0\",\"0\",\"1\",\"1\",\"1\",\"1\",\"1\",\"0\",\"1\",\"0\",\"0\",\"0\"],[\"0\",\"0\",\"1\",\"1\",\"1\",\"0\",\"0\",\"0\",\"1\",\"1\",\"0\",\"0\",\"0\",\"1\",\"0\",\"1\",\"0\",\"0\",\"0\",\"0\"],[\"1\",\"0\",\"0\",\"1\",\"0\",\"1\",\"0\",\"0\",\"0\",\"0\",\"1\",\"0\",\"0\",\"0\",\"1\",\"0\",\"1\",\"0\",\"1\",\"1\"],[\"1\",\"0\",\"1\",\"0\",\"0\",\"0\",\"0\",\"0\",\"0\",\"1\",\"0\",\"0\",\"0\",\"1\",\"0\",\"1\",\"0\",\"0\",\"0\",\"0\"],[\"0\",\"1\",\"1\",\"0\",\"0\",\"0\",\"1\",\"1\",\"1\",\"0\",\"1\",\"0\",\"1\",\"0\",\"1\",\"1\",\"1\",\"1\",\"0\",\"0\"],[\"0\",\"1\",\"0\",\"0\",\"0\",\"0\",\"1\",\"1\",\"0\",\"0\",\"1\",\"0\",\"1\",\"0\",\"0\",\"1\",\"0\",\"0\",\"1\",\"1\"],[\"0\",\"0\",\"0\",\"0\",\"0\",\"0\",\"1\",\"1\",\"1\",\"1\",\"0\",\"1\",\"0\",\"0\",\"0\",\"1\",\"1\",\"0\",\"0\",\"0\"]]\n",
        "# 58\n",
        "numIslands(g)"
      ],
      "metadata": {
        "colab": {
          "base_uri": "https://localhost:8080/"
        },
        "id": "NY9nAeIOC1on",
        "outputId": "dcd70f5a-5aaa-4875-98e2-0a553e7d29cd"
      },
      "execution_count": null,
      "outputs": [
        {
          "output_type": "execute_result",
          "data": {
            "text/plain": [
              "58"
            ]
          },
          "metadata": {},
          "execution_count": 34
        }
      ]
    },
    {
      "cell_type": "markdown",
      "source": [
        "### CodeSignal (CS)"
      ],
      "metadata": {
        "id": "R1D0078v98xS"
      }
    },
    {
      "cell_type": "code",
      "source": [
        "# CS climbingStairs\n",
        "def solution(n, m={}):\n",
        "    if n in m:\n",
        "        return m[n]\n",
        "    if n == 1:\n",
        "        return 1\n",
        "    if n == 2:\n",
        "        return 2\n",
        "    m[n-1] = solution(n-1)\n",
        "    m[n-2] = solution(n-2)\n",
        "    return m[n-1] + m[n-2]\n",
        "\n",
        "# tests\n",
        "n = 26 # 196418"
      ],
      "metadata": {
        "id": "soVsZ2om7NsE"
      },
      "execution_count": null,
      "outputs": []
    },
    {
      "cell_type": "code",
      "source": [
        "# CS houseRobber\n",
        "def solution(nums):\n",
        "    res = 0\n",
        "    if not nums:\n",
        "        return res\n",
        "    l = len(nums)\n",
        "    if l == 1:\n",
        "        return nums[0]\n",
        "    p = max(nums[0], nums[1])\n",
        "    if l == 2:\n",
        "        return p\n",
        "    c = max(nums[1], nums[0]+nums[2])\n",
        "    if l == 3:\n",
        "        return c\n",
        "    for i in range(3,l):\n",
        "        res = max(c, p+nums[i])\n",
        "        p, c = c, res\n",
        "    return res\n",
        "    \n",
        "# tests\n",
        "nums = [1, 1, 1] # 2\n",
        "nums = [1, 1, 1, 1] # 2\n",
        "nums = [1, 3, 1, 3, 100] # 103\n",
        "nums = [105, 153, 133, 205, 157, 227, 74, 225, 238, 239, 195, 58, 166, 193, 150, 89, 208, 149] # 1573"
      ],
      "metadata": {
        "id": "sUhed3d-T19r"
      },
      "execution_count": null,
      "outputs": []
    },
    {
      "cell_type": "code",
      "source": [
        "# CS kthSmallestInBST\n",
        "def solution(t, k):\n",
        "    \n",
        "    def walk(t, r=[]):\n",
        "        if not t:\n",
        "            return\n",
        "        walk(t.left, r)\n",
        "        r.append(t.value)\n",
        "        walk(t.right, r)\n",
        "        return r\n",
        "    \n",
        "    return walk(t)[k-1]"
      ],
      "metadata": {
        "id": "__wgJbU1Undv"
      },
      "execution_count": null,
      "outputs": []
    },
    {
      "cell_type": "code",
      "source": [
        "# CS isTreeSymmetric\n",
        "def solution(t):\n",
        "    if not t: return True\n",
        "    if (not t.left and t.right) or (t.left and not t.right) or (t.left.value != t.right.value):\n",
        "        return False\n",
        "    \n",
        "    def comp(t1, t2):\n",
        "        if not t1 and not t2:\n",
        "            return True\n",
        "        if (not t1 and t2) or (t1 and not t2) or not (t1.value == t2.value):\n",
        "            return False\n",
        "        return comp(t1.left, t2.right) and comp(t1.right, t2.left)\n",
        "\n",
        "    return comp(t.left, t.right)"
      ],
      "metadata": {
        "id": "ld-1bA08VCOa"
      },
      "execution_count": null,
      "outputs": []
    },
    {
      "cell_type": "code",
      "source": [
        "# CS findProfession\n",
        "def solution(level, pos):\n",
        "    p = 'Engineer'\n",
        "    if level == 1: return p\n",
        "    r = [1, 2**(level-1)]\n",
        "    for i in range(level-2):\n",
        "        if pos <= (r[0]-1 + r[1])//2:\n",
        "            r[1] = (r[0]-1 + r[1])//2\n",
        "            p = 'Engineer' if p == 'Engineer' else 'Doctor'\n",
        "        else:\n",
        "            r[0] = (r[0]+1 + r[1])//2\n",
        "            p = 'Engineer' if p != 'Engineer' else 'Doctor'\n",
        "    if pos == r[1]:\n",
        "        p = 'Engineer' if p != 'Engineer' else 'Doctor'\n",
        "    else:\n",
        "        p = 'Engineer' if p == 'Engineer' else 'Doctor'\n",
        "    return p\n",
        "\n",
        "# tests\n",
        "level: 3, pos: 3 # \"Doctor\"\n",
        "level: 4, pos: 2 # \"Doctor\"\n",
        "level: 10, pos: 470 # \"Engineer\""
      ],
      "metadata": {
        "id": "j06ioEdQVX6m"
      },
      "execution_count": null,
      "outputs": []
    },
    {
      "cell_type": "code",
      "source": [
        "# CS hasPathWithGivenSum\n",
        "def solution(t, s):\n",
        "    if not t:\n",
        "        return False\n",
        "    if not t.left and not t.right:\n",
        "        if s == t.value:\n",
        "            return True\n",
        "        else:\n",
        "            return False\n",
        "    if t.left and t.right:\n",
        "        return solution(t.left, s-t.value) or solution(t.right, s-t.value)\n",
        "    if t.left:\n",
        "        return solution(t.left, s-t.value)\n",
        "    if t.right:\n",
        "        return solution(t.right, s-t.value)"
      ],
      "metadata": {
        "id": "mLIko-0mWFyz"
      },
      "execution_count": null,
      "outputs": []
    },
    {
      "cell_type": "code",
      "source": [
        "# CS isSubtree\n",
        "# Current version misses a couple of hiddent test cases\n",
        "def solution(t1, t2):\n",
        "    if not t2: return True\n",
        "    if not t1: return False\n",
        "    \n",
        "    def comp(t2, t1):\n",
        "        if not t2:\n",
        "            return True\n",
        "        if t2 and not t1:\n",
        "            return False\n",
        "        if t2.value != t1.value:\n",
        "            return False\n",
        "        return comp(t2.left, t1.left) and comp(t2.right, t1.right)\n",
        "    \n",
        "    q = [t1]\n",
        "    while q:\n",
        "        cur = q.pop()\n",
        "        if cur.right:\n",
        "            q.append(cur.right)\n",
        "        if cur.left:\n",
        "            q.append(cur.left)\n",
        "        if cur.value == t2.value:\n",
        "            if comp(t2, cur):\n",
        "                return True\n",
        "    return False\n"
      ],
      "metadata": {
        "id": "9LSeu9QMWdXV"
      },
      "execution_count": null,
      "outputs": []
    },
    {
      "cell_type": "code",
      "source": [
        "# CS composeRanges\n",
        "def solution(nums):\n",
        "    res = []\n",
        "    if not nums:\n",
        "        return res\n",
        "    ln = len(nums)\n",
        "    if ln == 1:\n",
        "        return [str(nums[0])]\n",
        "    s = ''\n",
        "    for i in range(ln):\n",
        "        if not s:\n",
        "            s = str(nums[i])\n",
        "        if i+1 < ln and nums[i+1] != nums[i]+1:\n",
        "            if str(nums[i]) != s:\n",
        "                s += '->'+str(nums[i])\n",
        "            res.append(s)\n",
        "            s = ''\n",
        "        if i+1 >= ln:\n",
        "            if nums[i] == nums[i-1]+1:\n",
        "                s += '->'+str(nums[i])\n",
        "            res.append(s)\n",
        "    return res\n",
        "\n",
        "# tests\n",
        "nums = [-1, 0, 1, 2, 6, 7, 9] # [\"-1->2\", \"6->7\", \"9\"]"
      ],
      "metadata": {
        "id": "-UNvdSgiqAe9"
      },
      "execution_count": null,
      "outputs": []
    },
    {
      "cell_type": "code",
      "source": [
        "# CS traverseTree\n",
        "# return an array with all node values ordered by level letf to right\n",
        "def solution(t):\n",
        "    res = []\n",
        "    if not t:\n",
        "        return res\n",
        "    q = [t]\n",
        "    while q:\n",
        "        cur = q.pop(0)\n",
        "        res.append(cur.value)\n",
        "        if cur.left:\n",
        "            q.append(cur.left)\n",
        "        if cur.right:\n",
        "            q.append(cur.right)\n",
        "    return res"
      ],
      "metadata": {
        "id": "Sg_Oh8Szt-HY"
      },
      "execution_count": null,
      "outputs": []
    },
    {
      "cell_type": "code",
      "source": [
        "# CS largestValuesInTreeRows\n",
        "# return an array with the largest value of each row\n",
        "def solution(t):\n",
        "    hm = {}\n",
        "    if not t:\n",
        "        return []\n",
        "    def walk(t,l, hm):\n",
        "        if not t:\n",
        "            return\n",
        "        walk(t.left, l+1, hm)\n",
        "        if l in hm:\n",
        "            hm[l] = hm[l] + [t.value]\n",
        "        else:\n",
        "            hm[l] = [t.value]\n",
        "        walk(t.right, l+1, hm)\n",
        "    walk(t, 0, hm)\n",
        "    res = [max(hm[i]) for i in range(len(hm.keys()))]\n",
        "    return res"
      ],
      "metadata": {
        "id": "utW_vctVssqp"
      },
      "execution_count": null,
      "outputs": []
    },
    {
      "cell_type": "code",
      "source": [
        "# CS digitTreeSum\n",
        "# return sum of all root to leaf paths.  Each path is encoded as 't.value'+'child.value'+...+'leaf.value'\n",
        "# This solution can be optimized to use O(1) space\n",
        "def solution(t):\n",
        "    r=[]\n",
        "    def walk(t, r, path=''):\n",
        "        if not t:\n",
        "            return\n",
        "        path += str(t.value)\n",
        "        if not t.left and not t.right:\n",
        "            r.append(int(path))\n",
        "        walk(t.left, r, path)\n",
        "        walk(t.right, r, path)\n",
        "    walk(t,r)\n",
        "    \n",
        "    return sum(r)"
      ],
      "metadata": {
        "id": "rbHelMWnrt2Y"
      },
      "execution_count": null,
      "outputs": []
    },
    {
      "cell_type": "code",
      "source": [
        "# CS mapDecoding\n",
        "# A secret message containing uppercase letters from 'A' to 'Z' has been encoded as numbers 'A'->1, 'B'->2, ...'Z'->26\n",
        "# Determine the total number of ways that the message can be decoded.\n",
        "def solution(message):\n",
        "  pass\n",
        "\n",
        "# tests\n",
        "m = '123' # 3 [(1,2,3),(12,3),(1,23)]\n",
        "m = '12' # 2\n",
        "m = '0' # 0\n",
        "m = '1' # 1\n",
        "m = '301' # 0\n",
        "m = '10122110' # 5\n",
        "m = '' # 1\n",
        "m = '11115112112' # 104\n",
        "m = '2871221111122261' # 233\n",
        "m = '1221112111122221211221221212212212111221222212122221222112122212121212221212122221211112212212211211' # 782204094"
      ],
      "metadata": {
        "id": "Vr7o23GXqbie"
      },
      "execution_count": null,
      "outputs": []
    },
    {
      "cell_type": "code",
      "source": [
        "# CS climbingStaircase\n",
        "# Return all sequences, sorted, to climb a n-step staircase covering at most k steps in a single jump.\n",
        "# solution works, needs to be memoized\n",
        "def solution(n, k):\n",
        "  if n == 0:\n",
        "    return [[]]\n",
        "  res = []\n",
        "\n",
        "  for j in range(1,k+1):\n",
        "    if j <= n:\n",
        "      thisdifseqs = solution(n-j, k)\n",
        "      nseqs = [[j]+seq for seq in thisdifseqs]\n",
        "      res += nseqs\n",
        "  return res\n",
        "\n",
        "# tests\n",
        "n, k = 4, 2 # 5\n",
        "solution(n, k)"
      ],
      "metadata": {
        "colab": {
          "base_uri": "https://localhost:8080/"
        },
        "id": "9zWtbfQeo17h",
        "outputId": "2c8bca35-f01c-43ca-d2e8-545fd95f97b4"
      },
      "execution_count": null,
      "outputs": [
        {
          "output_type": "execute_result",
          "data": {
            "text/plain": [
              "[[1, 1, 1, 1], [1, 1, 2], [1, 2, 1], [2, 1, 1], [2, 2]]"
            ]
          },
          "metadata": {},
          "execution_count": 1
        }
      ]
    },
    {
      "cell_type": "code",
      "source": [
        "# CS\n"
      ],
      "metadata": {
        "id": "ZGTq662nWC92"
      },
      "execution_count": null,
      "outputs": []
    },
    {
      "cell_type": "markdown",
      "source": [
        "Take two strings s1 and s2, and return the lexicographically smallest result that can be obtained by placing the symbols of s2 between the symbols of s1 in such a way that maintains the relative order of the characters in each string.\n",
        "\n",
        "s1 = \"super\", s2 = \"tower\" # \"stouperwer\"\n",
        "\n",
        "You'd like to make your language more unique, so for your merge function, instead of comparing the characters in the usual lexicographical order, you'll compare them based on how many times they occur in their respective initial strings (fewer occurrences means the character is considered smaller). If the number of occurrences are equal, then the characters should be compared in the usual lexicographical way. If both number of occurences and characters are equal, you should take the characters from the first string to the result. Note that occurrences in the initial strings are compared - they do not change over the merge process.\n",
        "\n",
        "Given two strings s1 and s2, return the result of the special merge function you are implementing.\n",
        "\n",
        "Example\n",
        "\n",
        "s1 = \"dce\", s2 = \"cccbd\" # \"dcecccbd\".\n",
        "All symbols from s1 goes first, because all of them have only 1 occurrence in s1 and c has 3 occurrences in s2.\n",
        "\n",
        "s1 = \"super\", s2 = \"tower\" # \"stouperwer\".\n",
        "Because in both strings all symbols occur only 1 time, strings are merged as usual. You can find explanation for this example on the image in the description.\n",
        "\n",
        "s1 and s2 consist of lowercase English letters.\n",
        "\n",
        "1 ≤ s1.length ≤ 104\n",
        "\n",
        "1 ≤ s2.length ≤ 104"
      ],
      "metadata": {
        "id": "FSE7WxLcWZxC"
      }
    },
    {
      "cell_type": "code",
      "source": [
        ""
      ],
      "metadata": {
        "id": "UjVT61n7fg8k"
      },
      "execution_count": null,
      "outputs": []
    },
    {
      "cell_type": "markdown",
      "source": [
        "Given an array of non-negative integers. You are allowed to choose any number from this array and swap any two digits in it. If after the swap operation the number contains leading zeros, they can be omitted and not considered (eg: 010 will be considered just 10).\n",
        "\n",
        "Is it possible to apply the swap operation at most once, so that the elements of the resulting array are strictly increasing?\n",
        "\n",
        "numbers = [1, 5, 10, 20] # true\n",
        "The initial array is already strictly increasing, so no actions are required.\n",
        "\n",
        "numbers = [1, 3, 900, 10] # true\n",
        "By choosing numbers[2] = 900 and swapping its first and third digits, the resulting number 009 is considered to be just 9. So the updated array will look like [1, 3, 9, 10], which is strictly increasing.\n",
        "\n",
        "numbers = [13, 31, 30] # false\n",
        "By swapping the digits of numbers[0] = 13, the array becomes [31, 31, 30] which is not strictly increasing;\n",
        "\n",
        "By swapping the digits of numbers[1] = 31, the array becomes [13, 13, 30] which is not strictly increasing;\n",
        "\n",
        "By swapping the digits of numbers[2] = 30, the array becomes [13, 31, 3] which is not strictly increasing;\n",
        "\n",
        "1 ≤ numbers.length ≤ 1000\n",
        "\n",
        "0 ≤ numbers[i] ≤ 1000\n",
        "\n",
        "Return true if it is possible to obtain a strictly increasing array by applying the digit-swap operation at most once, and false otherwise."
      ],
      "metadata": {
        "id": "ha4VFVDfWHdw"
      }
    },
    {
      "cell_type": "code",
      "source": [
        "# CS \n",
        "\n",
        "# needs work\n",
        "def solution(nums):\n",
        "  s = 0\n",
        "  def swap(p,c,n):\n",
        "    if len(c) == 2:\n",
        "      if p < int(c[1]+c[0]) and int(c[1]+c[0]) < int(n):\n",
        "        return True\n",
        "      if len(n) == 2 and int(c) < int(n[1]+n[0]):\n",
        "        return True\n",
        "    else:\n",
        "      s1 = int(c[1]+c[0]+c[2])\n",
        "      s2 = int(c[2]+c[1]+c[0])\n",
        "      if p < int(s1) and int(s1) < int(n):\n",
        "        return True\n",
        "      if p < int(s2) and int(s2) < int(n):\n",
        "        return True\n",
        "\n",
        "  for i in range(len(nums)-1):\n",
        "    if nums[i+1] <= nums[i]:\n",
        "      pass\n",
        "  return True\n",
        "\n",
        "# tests\n",
        "n = [1, 5, 10, 20] # true\n",
        "# n = [1, 3, 900, 10] # true\n",
        "# n = [13, 31, 30] # false\n",
        "solution(n)"
      ],
      "metadata": {
        "colab": {
          "base_uri": "https://localhost:8080/"
        },
        "id": "EM_Xc8ymfj1b",
        "outputId": "81bb1c3b-20d4-431f-daff-17976bc8fa9f"
      },
      "execution_count": null,
      "outputs": [
        {
          "output_type": "execute_result",
          "data": {
            "text/plain": [
              "True"
            ]
          },
          "metadata": {},
          "execution_count": 1
        }
      ]
    },
    {
      "cell_type": "markdown",
      "source": [
        "Given an array of integers, how many of its contiguous subarrays of length m contain a pair of integers with a sum equal to k.\n",
        "\n",
        "Example\n",
        "\n",
        "a = [2, 4, 7, 5, 3, 5, 8, 5, 1, 7], m = 4, k = 10 # 5.\n",
        "\n",
        "[2, 4, 7, 5] doesn't contain any pair of integers with a sum of k = 10\n",
        "[4, 7, 5, 3] contains the pair (a[2], a[4]), where a[2] + a[4] = 7 + 3 = 10.\n",
        "[7, 5, 3, 5] contains two pairs (a[2], a[4]) and (a[3], a[5]), both with a sum of k = 10.\n",
        "[5, 3, 5, 8] contains the pair (a[3], a[5]), where a[3] + a[5] = 5 + 5 = 10.\n",
        "[3, 5, 8, 5] contains the pair (a[5], a[7]), where a[5] + a[7] = 5 + 5 = 10.\n",
        "[5, 8, 5, 1] contains the pair (a[5], a[7]), where a[5] + a[7] = 5 + 5 = 10.\n",
        "[8, 5, 1, 7] doesn't contain any pair with a sum of k = 10\n",
        "\n",
        "There are 5 contiguous subarrays that contain a pair with a sum of k = 10.\n",
        "\n",
        "a = [15, 8, 8, 2, 6, 4, 1, 7], m = 2, k = 8 # 2.\n",
        "\n",
        "a[3..4] = [2, 6], where 2 + 6 = 8\n",
        "a[6..7] = [1, 7], where 1 + 7 = 8\n",
        "\n",
        "2 ≤ a.length ≤ 105\n",
        "\n",
        "0 ≤ a[i] ≤ 109\n",
        "\n",
        "2 ≤ m ≤ a.length\n",
        "\n",
        "0 ≤ k ≤ 109"
      ],
      "metadata": {
        "id": "e_eBe9klWObS"
      }
    },
    {
      "cell_type": "code",
      "source": [
        "# CS how many contiguous subarrays of length m contain a pair of integers with a sum equal to k\n",
        "# solution works; seems like is a little slow, sliding window might make it faster\n",
        "def solution(a,m,k):\n",
        "  r = 0\n",
        "  def ispair(a):\n",
        "    s = set()\n",
        "    for i in range(len(a)):\n",
        "      if a[i] in s:\n",
        "        return True\n",
        "      s.add(k-a[i])\n",
        "\n",
        "  for i in range(len(a)-m+1):\n",
        "    if ispair(a[i:i+m]):\n",
        "      r += 1\n",
        "  return r\n",
        "\n",
        "# tests\n",
        "a, m, k = [2, 4, 7, 5, 3, 5, 8, 5, 1, 7], 4, 10 # 5\n",
        "# a, m, k = [15, 8, 8, 2, 6, 4, 1, 7], 2, 8 # 2\n",
        "\n",
        "solution(a,m,k)"
      ],
      "metadata": {
        "colab": {
          "base_uri": "https://localhost:8080/"
        },
        "id": "hRKFqAl5Hb92",
        "outputId": "abe4b369-053e-48e0-c6a2-d3f56d3ebeec"
      },
      "execution_count": null,
      "outputs": [
        {
          "output_type": "execute_result",
          "data": {
            "text/plain": [
              "5"
            ]
          },
          "metadata": {},
          "execution_count": 11
        }
      ]
    },
    {
      "cell_type": "code",
      "source": [
        "# CS -same as above, but sliding window\n",
        "def solution(a,m,k):\n",
        "  r = 0\n",
        "  np = 0\n",
        "  hm = {}\n",
        "  # go over initial window\n",
        "  for i in range(m):\n",
        "    if a[i] in hm:\n",
        "      np += 1\n",
        "    hm[k-a[i]] = hm[k-a[i]] +1 if k-a[i] in hm else 1\n",
        "  if np > 0:\n",
        "    r += 1\n",
        "  # slide window\n",
        "  for i in range(1, len(a)-m+1):\n",
        "    # remove old element\n",
        "    hm[k-a[i-1]] += -1\n",
        "    if a[i-1] in hm and hm[a[i-1]] > 0:\n",
        "      np += -1\n",
        "    # add new element\n",
        "    if a[i+m-1] in hm and hm[a[i+m-1]] > 0:\n",
        "      np += 1\n",
        "    hm[k-a[i+m-1]] = hm[k-a[i+m-1]] +1 if k-a[i+m-1] in hm else 1\n",
        "    if np > 0:\n",
        "      r += 1\n",
        "  return r\n",
        "\n",
        "solution(a,m,k)"
      ],
      "metadata": {
        "colab": {
          "base_uri": "https://localhost:8080/"
        },
        "id": "tzyF4EvcQKu0",
        "outputId": "635a52cc-d0c5-478c-c0e8-6ec47770f8e1"
      },
      "execution_count": null,
      "outputs": [
        {
          "output_type": "execute_result",
          "data": {
            "text/plain": [
              "5"
            ]
          },
          "metadata": {},
          "execution_count": 12
        }
      ]
    },
    {
      "cell_type": "code",
      "source": [
        "# CS return the number of full bateries used to talk t minutes given the capacity and recharge time of each battery\n",
        "def solution(t, capacity, recharge):\n",
        "    ready = [0] * len(capacity)\n",
        "    i = 0\n",
        "    b = 0\n",
        "    time = 0\n",
        "    while t > 0:\n",
        "        if ready[i] <= time:\n",
        "            t -= capacity[i]\n",
        "            time += capacity[i]\n",
        "            ready[i] = time + recharge[i]\n",
        "            if t <= 0:\n",
        "                break\n",
        "            b += 1\n",
        "        i += 1\n",
        "        if i >= len(capacity):\n",
        "            i = 0\n",
        "    if t <=0: return b\n",
        "    return -1\n",
        "\n",
        "t, c, r = 16, [2,5,6], [12,1,4]\n",
        "solution(t, c, r)"
      ],
      "metadata": {
        "colab": {
          "base_uri": "https://localhost:8080/"
        },
        "id": "ru9tQAD9Wke7",
        "outputId": "0d385245-152b-4a40-dc90-74d5d10c5326"
      },
      "execution_count": null,
      "outputs": [
        {
          "output_type": "stream",
          "name": "stdout",
          "text": [
            "0 14 2 [14, 0, 0]\n",
            "1 9 7 [14, 8, 0]\n",
            "2 3 13 [14, 8, 17]\n",
            "1 -2 18 [14, 19, 17]\n"
          ]
        },
        {
          "output_type": "execute_result",
          "data": {
            "text/plain": [
              "3"
            ]
          },
          "metadata": {},
          "execution_count": 2
        }
      ]
    },
    {
      "cell_type": "markdown",
      "source": [
        "### Coderbyte (CB)"
      ],
      "metadata": {
        "id": "tr-SnOnndiwQ"
      }
    },
    {
      "cell_type": "code",
      "source": [
        "# CB Bracket Matcher -actually parenthesis matcher\n",
        "def BracketMatcher(strParam):\n",
        "  s = []\n",
        "  for ch in strParam:\n",
        "    if ch == '(':\n",
        "      s.append(ch)\n",
        "    if ch == ')':\n",
        "      if not s or s.pop() != '(':\n",
        "        return 0\n",
        "  return 0 if s else 1\n",
        "\n",
        "# tests\n",
        "# p = \"(coder)(byte))\" # 0\n",
        "p = \"(c(oder)) b(yte)\" # 1\n",
        "BracketMatcher(p)"
      ],
      "metadata": {
        "colab": {
          "base_uri": "https://localhost:8080/"
        },
        "id": "jJUc4aH-dmVJ",
        "outputId": "cfcaa2fd-d4d7-4d08-e550-c24b476646ae"
      },
      "execution_count": null,
      "outputs": [
        {
          "output_type": "stream",
          "name": "stdout",
          "text": [
            "end []\n"
          ]
        },
        {
          "output_type": "execute_result",
          "data": {
            "text/plain": [
              "1"
            ]
          },
          "metadata": {},
          "execution_count": 25
        }
      ]
    }
  ],
  "metadata": {
    "colab": {
      "collapsed_sections": [
        "nS7QfNMp9fer"
      ],
      "name": "LCdeHRk.ipynb",
      "provenance": [],
      "authorship_tag": "ABX9TyPeaDslcmROi+QPGxZw0OLU"
    },
    "kernelspec": {
      "display_name": "Python 3",
      "name": "python3"
    },
    "language_info": {
      "name": "python"
    }
  },
  "nbformat": 4,
  "nbformat_minor": 0
}